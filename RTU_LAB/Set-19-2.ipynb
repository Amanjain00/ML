{
 "cells": [
  {
   "cell_type": "markdown",
   "id": "d073e3ca-5468-4b2f-b684-ab15aa3a1d2b",
   "metadata": {},
   "source": [
    "Q2. This data set contains details of a houses and the target variable is a continuous variable.\r\n",
    "Dataset contains input features and predicting house prices. Find three most significant Principal\r\n",
    "components and Construct Linear Regression using these three pcs to predict prices using\r\n",
    "Jupyter notebook and Deploy model on local host using Flask. Choose following columns as\r\n",
    "independent variable in dataset."
   ]
  },
  {
   "cell_type": "code",
   "execution_count": 185,
   "id": "96e6ee44-9a60-4bb0-908b-b42c7267c3cd",
   "metadata": {},
   "outputs": [],
   "source": [
    "import numpy as np\n",
    "import matplotlib.pyplot as plt\n",
    "import pandas as pd"
   ]
  },
  {
   "cell_type": "code",
   "execution_count": 186,
   "id": "69bebec8-6460-46b1-a3fa-97da563445bc",
   "metadata": {},
   "outputs": [],
   "source": [
    "dataset = pd.read_csv('./SET 19-2.csv')"
   ]
  },
  {
   "cell_type": "code",
   "execution_count": 187,
   "id": "bf35e25a-663f-404a-81f0-1cd614a3f186",
   "metadata": {},
   "outputs": [
    {
     "name": "stdout",
     "output_type": "stream",
     "text": [
      "        price  area  bedrooms  bathrooms  stories mainroad guestroom basement  \\\n",
      "0    13300000  7420         4          2        3      yes        no       no   \n",
      "1    12250000  8960         4          4        4      yes        no       no   \n",
      "2    12250000  9960         3          2        2      yes        no      yes   \n",
      "3    12215000  7500         4          2        2      yes        no      yes   \n",
      "4    11410000  7420         4          1        2      yes       yes      yes   \n",
      "..        ...   ...       ...        ...      ...      ...       ...      ...   \n",
      "540   1820000  3000         2          1        1      yes        no      yes   \n",
      "541   1767150  2400         3          1        1       no        no       no   \n",
      "542   1750000  3620         2          1        1      yes        no       no   \n",
      "543   1750000  2910         3          1        1       no        no       no   \n",
      "544   1750000  3850         3          1        2      yes        no       no   \n",
      "\n",
      "    hotwaterheating airconditioning  parking prefarea furnishingstatus  \n",
      "0                no             yes        2      yes        furnished  \n",
      "1                no             yes        3       no        furnished  \n",
      "2                no              no        2      yes   semi-furnished  \n",
      "3                no             yes        3      yes        furnished  \n",
      "4                no             yes        2       no        furnished  \n",
      "..              ...             ...      ...      ...              ...  \n",
      "540              no              no        2       no      unfurnished  \n",
      "541              no              no        0       no   semi-furnished  \n",
      "542              no              no        0       no      unfurnished  \n",
      "543              no              no        0       no        furnished  \n",
      "544              no              no        0       no      unfurnished  \n",
      "\n",
      "[545 rows x 13 columns]\n"
     ]
    }
   ],
   "source": [
    "print(dataset)"
   ]
  },
  {
   "cell_type": "code",
   "execution_count": 188,
   "id": "2c213a7d-6751-425a-80d1-86cfea5da95b",
   "metadata": {},
   "outputs": [
    {
     "data": {
      "text/plain": [
       "price               0\n",
       "area                0\n",
       "bedrooms            0\n",
       "bathrooms           0\n",
       "stories             0\n",
       "mainroad            0\n",
       "guestroom           0\n",
       "basement            0\n",
       "hotwaterheating     0\n",
       "airconditioning     0\n",
       "parking             0\n",
       "prefarea            0\n",
       "furnishingstatus    0\n",
       "dtype: int64"
      ]
     },
     "execution_count": 188,
     "metadata": {},
     "output_type": "execute_result"
    }
   ],
   "source": [
    "dataset.isnull().sum()"
   ]
  },
  {
   "cell_type": "code",
   "execution_count": 189,
   "id": "b1e21a15-7bc4-48e9-a0ba-47fcaf1abf59",
   "metadata": {},
   "outputs": [
    {
     "name": "stdout",
     "output_type": "stream",
     "text": [
      "<class 'pandas.core.frame.DataFrame'>\n",
      "RangeIndex: 545 entries, 0 to 544\n",
      "Data columns (total 13 columns):\n",
      " #   Column            Non-Null Count  Dtype \n",
      "---  ------            --------------  ----- \n",
      " 0   price             545 non-null    int64 \n",
      " 1   area              545 non-null    int64 \n",
      " 2   bedrooms          545 non-null    int64 \n",
      " 3   bathrooms         545 non-null    int64 \n",
      " 4   stories           545 non-null    int64 \n",
      " 5   mainroad          545 non-null    object\n",
      " 6   guestroom         545 non-null    object\n",
      " 7   basement          545 non-null    object\n",
      " 8   hotwaterheating   545 non-null    object\n",
      " 9   airconditioning   545 non-null    object\n",
      " 10  parking           545 non-null    int64 \n",
      " 11  prefarea          545 non-null    object\n",
      " 12  furnishingstatus  545 non-null    object\n",
      "dtypes: int64(6), object(7)\n",
      "memory usage: 55.5+ KB\n"
     ]
    }
   ],
   "source": [
    "dataset.info()"
   ]
  },
  {
   "cell_type": "code",
   "execution_count": 190,
   "id": "4c4a0e20-3774-4a90-ad84-5ab40fa7a4cb",
   "metadata": {},
   "outputs": [
    {
     "name": "stdout",
     "output_type": "stream",
     "text": [
      "        price  area  bedrooms  bathrooms  stories  mainroad guestroom  \\\n",
      "0    13300000  7420         4          2        3         1        no   \n",
      "1    12250000  8960         4          4        4         1        no   \n",
      "2    12250000  9960         3          2        2         1        no   \n",
      "3    12215000  7500         4          2        2         1        no   \n",
      "4    11410000  7420         4          1        2         1       yes   \n",
      "..        ...   ...       ...        ...      ...       ...       ...   \n",
      "540   1820000  3000         2          1        1         1        no   \n",
      "541   1767150  2400         3          1        1         0        no   \n",
      "542   1750000  3620         2          1        1         1        no   \n",
      "543   1750000  2910         3          1        1         0        no   \n",
      "544   1750000  3850         3          1        2         1        no   \n",
      "\n",
      "    basement hotwaterheating airconditioning  parking prefarea  \\\n",
      "0         no              no             yes        2      yes   \n",
      "1         no              no             yes        3       no   \n",
      "2        yes              no              no        2      yes   \n",
      "3        yes              no             yes        3      yes   \n",
      "4        yes              no             yes        2       no   \n",
      "..       ...             ...             ...      ...      ...   \n",
      "540      yes              no              no        2       no   \n",
      "541       no              no              no        0       no   \n",
      "542       no              no              no        0       no   \n",
      "543       no              no              no        0       no   \n",
      "544       no              no              no        0       no   \n",
      "\n",
      "    furnishingstatus  \n",
      "0          furnished  \n",
      "1          furnished  \n",
      "2     semi-furnished  \n",
      "3          furnished  \n",
      "4          furnished  \n",
      "..               ...  \n",
      "540      unfurnished  \n",
      "541   semi-furnished  \n",
      "542      unfurnished  \n",
      "543        furnished  \n",
      "544      unfurnished  \n",
      "\n",
      "[545 rows x 13 columns]\n"
     ]
    }
   ],
   "source": [
    "dataset['mainroad'].replace(['yes', 'no'],[1, 0], inplace=True)\n",
    "print(dataset)"
   ]
  },
  {
   "cell_type": "code",
   "execution_count": 191,
   "id": "59ca32dd-58c8-4ba7-8341-7be124720877",
   "metadata": {},
   "outputs": [
    {
     "name": "stdout",
     "output_type": "stream",
     "text": [
      "        price  area  bedrooms  bathrooms  stories  mainroad  guestroom  \\\n",
      "0    13300000  7420         4          2        3         1          0   \n",
      "1    12250000  8960         4          4        4         1          0   \n",
      "2    12250000  9960         3          2        2         1          0   \n",
      "3    12215000  7500         4          2        2         1          0   \n",
      "4    11410000  7420         4          1        2         1          1   \n",
      "..        ...   ...       ...        ...      ...       ...        ...   \n",
      "540   1820000  3000         2          1        1         1          0   \n",
      "541   1767150  2400         3          1        1         0          0   \n",
      "542   1750000  3620         2          1        1         1          0   \n",
      "543   1750000  2910         3          1        1         0          0   \n",
      "544   1750000  3850         3          1        2         1          0   \n",
      "\n",
      "    basement hotwaterheating airconditioning  parking prefarea  \\\n",
      "0         no              no             yes        2      yes   \n",
      "1         no              no             yes        3       no   \n",
      "2        yes              no              no        2      yes   \n",
      "3        yes              no             yes        3      yes   \n",
      "4        yes              no             yes        2       no   \n",
      "..       ...             ...             ...      ...      ...   \n",
      "540      yes              no              no        2       no   \n",
      "541       no              no              no        0       no   \n",
      "542       no              no              no        0       no   \n",
      "543       no              no              no        0       no   \n",
      "544       no              no              no        0       no   \n",
      "\n",
      "    furnishingstatus  \n",
      "0          furnished  \n",
      "1          furnished  \n",
      "2     semi-furnished  \n",
      "3          furnished  \n",
      "4          furnished  \n",
      "..               ...  \n",
      "540      unfurnished  \n",
      "541   semi-furnished  \n",
      "542      unfurnished  \n",
      "543        furnished  \n",
      "544      unfurnished  \n",
      "\n",
      "[545 rows x 13 columns]\n"
     ]
    }
   ],
   "source": [
    "dataset['guestroom'].replace(['yes','no'],[1,0],inplace=True)\n",
    "print(dataset)"
   ]
  },
  {
   "cell_type": "code",
   "execution_count": 192,
   "id": "0b4a7d64-119b-49b9-8340-50e272bb835d",
   "metadata": {},
   "outputs": [
    {
     "name": "stdout",
     "output_type": "stream",
     "text": [
      "        price  area  bedrooms  bathrooms  stories  mainroad  guestroom  \\\n",
      "0    13300000  7420         4          2        3         1          0   \n",
      "1    12250000  8960         4          4        4         1          0   \n",
      "2    12250000  9960         3          2        2         1          0   \n",
      "3    12215000  7500         4          2        2         1          0   \n",
      "4    11410000  7420         4          1        2         1          1   \n",
      "..        ...   ...       ...        ...      ...       ...        ...   \n",
      "540   1820000  3000         2          1        1         1          0   \n",
      "541   1767150  2400         3          1        1         0          0   \n",
      "542   1750000  3620         2          1        1         1          0   \n",
      "543   1750000  2910         3          1        1         0          0   \n",
      "544   1750000  3850         3          1        2         1          0   \n",
      "\n",
      "    basement  hotwaterheating airconditioning  parking prefarea  \\\n",
      "0         no                0             yes        2      yes   \n",
      "1         no                0             yes        3       no   \n",
      "2        yes                0              no        2      yes   \n",
      "3        yes                0             yes        3      yes   \n",
      "4        yes                0             yes        2       no   \n",
      "..       ...              ...             ...      ...      ...   \n",
      "540      yes                0              no        2       no   \n",
      "541       no                0              no        0       no   \n",
      "542       no                0              no        0       no   \n",
      "543       no                0              no        0       no   \n",
      "544       no                0              no        0       no   \n",
      "\n",
      "    furnishingstatus  \n",
      "0          furnished  \n",
      "1          furnished  \n",
      "2     semi-furnished  \n",
      "3          furnished  \n",
      "4          furnished  \n",
      "..               ...  \n",
      "540      unfurnished  \n",
      "541   semi-furnished  \n",
      "542      unfurnished  \n",
      "543        furnished  \n",
      "544      unfurnished  \n",
      "\n",
      "[545 rows x 13 columns]\n"
     ]
    }
   ],
   "source": [
    "dataset['hotwaterheating'].replace(['yes','no'],[1,0],inplace=True)\n",
    "print(dataset)"
   ]
  },
  {
   "cell_type": "code",
   "execution_count": 193,
   "id": "5a54a3e9-2e66-47cc-a980-9e823dd83e12",
   "metadata": {},
   "outputs": [
    {
     "name": "stdout",
     "output_type": "stream",
     "text": [
      "        price  area  bedrooms  bathrooms  stories  mainroad  guestroom  \\\n",
      "0    13300000  7420         4          2        3         1          0   \n",
      "1    12250000  8960         4          4        4         1          0   \n",
      "2    12250000  9960         3          2        2         1          0   \n",
      "3    12215000  7500         4          2        2         1          0   \n",
      "4    11410000  7420         4          1        2         1          1   \n",
      "..        ...   ...       ...        ...      ...       ...        ...   \n",
      "540   1820000  3000         2          1        1         1          0   \n",
      "541   1767150  2400         3          1        1         0          0   \n",
      "542   1750000  3620         2          1        1         1          0   \n",
      "543   1750000  2910         3          1        1         0          0   \n",
      "544   1750000  3850         3          1        2         1          0   \n",
      "\n",
      "    basement  hotwaterheating airconditioning  parking  prefarea  \\\n",
      "0         no                0             yes        2         1   \n",
      "1         no                0             yes        3         0   \n",
      "2        yes                0              no        2         1   \n",
      "3        yes                0             yes        3         1   \n",
      "4        yes                0             yes        2         0   \n",
      "..       ...              ...             ...      ...       ...   \n",
      "540      yes                0              no        2         0   \n",
      "541       no                0              no        0         0   \n",
      "542       no                0              no        0         0   \n",
      "543       no                0              no        0         0   \n",
      "544       no                0              no        0         0   \n",
      "\n",
      "    furnishingstatus  \n",
      "0          furnished  \n",
      "1          furnished  \n",
      "2     semi-furnished  \n",
      "3          furnished  \n",
      "4          furnished  \n",
      "..               ...  \n",
      "540      unfurnished  \n",
      "541   semi-furnished  \n",
      "542      unfurnished  \n",
      "543        furnished  \n",
      "544      unfurnished  \n",
      "\n",
      "[545 rows x 13 columns]\n"
     ]
    }
   ],
   "source": [
    "dataset['prefarea'].replace(['yes','no'],[1,0],inplace=True)\n",
    "print(dataset)"
   ]
  },
  {
   "cell_type": "code",
   "execution_count": 194,
   "id": "6d33b52b-bc9a-4d08-963c-7a55085bfc84",
   "metadata": {},
   "outputs": [
    {
     "name": "stdout",
     "output_type": "stream",
     "text": [
      "        price  area  bedrooms  bathrooms  stories  mainroad  guestroom  \\\n",
      "0    13300000  7420         4          2        3         1          0   \n",
      "1    12250000  8960         4          4        4         1          0   \n",
      "2    12250000  9960         3          2        2         1          0   \n",
      "3    12215000  7500         4          2        2         1          0   \n",
      "4    11410000  7420         4          1        2         1          1   \n",
      "..        ...   ...       ...        ...      ...       ...        ...   \n",
      "540   1820000  3000         2          1        1         1          0   \n",
      "541   1767150  2400         3          1        1         0          0   \n",
      "542   1750000  3620         2          1        1         1          0   \n",
      "543   1750000  2910         3          1        1         0          0   \n",
      "544   1750000  3850         3          1        2         1          0   \n",
      "\n",
      "    basement  hotwaterheating airconditioning  parking  prefarea  \\\n",
      "0         no                0             yes        2         1   \n",
      "1         no                0             yes        3         0   \n",
      "2        yes                0              no        2         1   \n",
      "3        yes                0             yes        3         1   \n",
      "4        yes                0             yes        2         0   \n",
      "..       ...              ...             ...      ...       ...   \n",
      "540      yes                0              no        2         0   \n",
      "541       no                0              no        0         0   \n",
      "542       no                0              no        0         0   \n",
      "543       no                0              no        0         0   \n",
      "544       no                0              no        0         0   \n",
      "\n",
      "     furnishingstatus  \n",
      "0                   2  \n",
      "1                   2  \n",
      "2                   1  \n",
      "3                   2  \n",
      "4                   2  \n",
      "..                ...  \n",
      "540                 0  \n",
      "541                 1  \n",
      "542                 0  \n",
      "543                 2  \n",
      "544                 0  \n",
      "\n",
      "[545 rows x 13 columns]\n"
     ]
    }
   ],
   "source": [
    "dataset['furnishingstatus'].replace(['furnished','semi-furnished','unfurnished'],[2,1,0],inplace=True)\n",
    "print(dataset)"
   ]
  },
  {
   "cell_type": "code",
   "execution_count": 195,
   "id": "c3151644-9931-4a44-a10f-901ace8aafcb",
   "metadata": {},
   "outputs": [],
   "source": [
    "X = dataset.iloc[:,[1,3,4,5,6,8,10,11,12]].values\n",
    "Y = dataset.iloc[:,0].values"
   ]
  },
  {
   "cell_type": "code",
   "execution_count": 196,
   "id": "ed5928f8-5416-423a-9258-b8c45b7ec398",
   "metadata": {},
   "outputs": [
    {
     "name": "stdout",
     "output_type": "stream",
     "text": [
      "[[7420    2    3 ...    2    1    2]\n",
      " [8960    4    4 ...    3    0    2]\n",
      " [9960    2    2 ...    2    1    1]\n",
      " ...\n",
      " [3620    1    1 ...    0    0    0]\n",
      " [2910    1    1 ...    0    0    2]\n",
      " [3850    1    2 ...    0    0    0]]\n"
     ]
    }
   ],
   "source": [
    "print(X)"
   ]
  },
  {
   "cell_type": "code",
   "execution_count": 197,
   "id": "9b94e775-dcf6-47aa-91e8-62db50bba104",
   "metadata": {},
   "outputs": [
    {
     "name": "stdout",
     "output_type": "stream",
     "text": [
      "[13300000 12250000 12250000 12215000 11410000 10850000 10150000 10150000\n",
      "  9870000  9800000  9800000  9681000  9310000  9240000  9240000  9100000\n",
      "  9100000  8960000  8890000  8855000  8750000  8680000  8645000  8645000\n",
      "  8575000  8540000  8463000  8400000  8400000  8400000  8400000  8400000\n",
      "  8295000  8190000  8120000  8080940  8043000  7980000  7962500  7910000\n",
      "  7875000  7840000  7700000  7700000  7560000  7560000  7525000  7490000\n",
      "  7455000  7420000  7420000  7420000  7350000  7350000  7350000  7350000\n",
      "  7343000  7245000  7210000  7210000  7140000  7070000  7070000  7035000\n",
      "  7000000  6930000  6930000  6895000  6860000  6790000  6790000  6755000\n",
      "  6720000  6685000  6650000  6650000  6650000  6650000  6650000  6650000\n",
      "  6629000  6615000  6615000  6580000  6510000  6510000  6510000  6475000\n",
      "  6475000  6440000  6440000  6419000  6405000  6300000  6300000  6300000\n",
      "  6300000  6300000  6293000  6265000  6230000  6230000  6195000  6195000\n",
      "  6195000  6160000  6160000  6125000  6107500  6090000  6090000  6090000\n",
      "  6083000  6083000  6020000  6020000  6020000  5950000  5950000  5950000\n",
      "  5950000  5950000  5950000  5950000  5950000  5943000  5880000  5880000\n",
      "  5873000  5873000  5866000  5810000  5810000  5810000  5803000  5775000\n",
      "  5740000  5740000  5740000  5740000  5740000  5652500  5600000  5600000\n",
      "  5600000  5600000  5600000  5600000  5600000  5600000  5600000  5565000\n",
      "  5565000  5530000  5530000  5530000  5523000  5495000  5495000  5460000\n",
      "  5460000  5460000  5460000  5425000  5390000  5383000  5320000  5285000\n",
      "  5250000  5250000  5250000  5250000  5250000  5250000  5250000  5250000\n",
      "  5250000  5243000  5229000  5215000  5215000  5215000  5145000  5145000\n",
      "  5110000  5110000  5110000  5110000  5075000  5040000  5040000  5040000\n",
      "  5040000  5033000  5005000  4970000  4970000  4956000  4935000  4907000\n",
      "  4900000  4900000  4900000  4900000  4900000  4900000  4900000  4900000\n",
      "  4900000  4900000  4900000  4900000  4893000  4893000  4865000  4830000\n",
      "  4830000  4830000  4830000  4795000  4795000  4767000  4760000  4760000\n",
      "  4760000  4753000  4690000  4690000  4690000  4690000  4690000  4690000\n",
      "  4655000  4620000  4620000  4620000  4620000  4620000  4613000  4585000\n",
      "  4585000  4550000  4550000  4550000  4550000  4550000  4550000  4550000\n",
      "  4543000  4543000  4515000  4515000  4515000  4515000  4480000  4480000\n",
      "  4480000  4480000  4480000  4473000  4473000  4473000  4445000  4410000\n",
      "  4410000  4403000  4403000  4403000  4382000  4375000  4340000  4340000\n",
      "  4340000  4340000  4340000  4319000  4305000  4305000  4277000  4270000\n",
      "  4270000  4270000  4270000  4270000  4270000  4235000  4235000  4200000\n",
      "  4200000  4200000  4200000  4200000  4200000  4200000  4200000  4200000\n",
      "  4200000  4200000  4200000  4200000  4200000  4200000  4200000  4200000\n",
      "  4193000  4193000  4165000  4165000  4165000  4130000  4130000  4123000\n",
      "  4098500  4095000  4095000  4095000  4060000  4060000  4060000  4060000\n",
      "  4060000  4025000  4025000  4025000  4007500  4007500  3990000  3990000\n",
      "  3990000  3990000  3990000  3920000  3920000  3920000  3920000  3920000\n",
      "  3920000  3920000  3885000  3885000  3850000  3850000  3850000  3850000\n",
      "  3850000  3850000  3850000  3836000  3815000  3780000  3780000  3780000\n",
      "  3780000  3780000  3780000  3773000  3773000  3773000  3745000  3710000\n",
      "  3710000  3710000  3710000  3710000  3703000  3703000  3675000  3675000\n",
      "  3675000  3675000  3640000  3640000  3640000  3640000  3640000  3640000\n",
      "  3640000  3640000  3640000  3633000  3605000  3605000  3570000  3570000\n",
      "  3570000  3570000  3535000  3500000  3500000  3500000  3500000  3500000\n",
      "  3500000  3500000  3500000  3500000  3500000  3500000  3500000  3500000\n",
      "  3500000  3500000  3500000  3500000  3493000  3465000  3465000  3465000\n",
      "  3430000  3430000  3430000  3430000  3430000  3430000  3423000  3395000\n",
      "  3395000  3395000  3360000  3360000  3360000  3360000  3360000  3360000\n",
      "  3360000  3360000  3353000  3332000  3325000  3325000  3290000  3290000\n",
      "  3290000  3290000  3290000  3290000  3290000  3290000  3255000  3255000\n",
      "  3234000  3220000  3220000  3220000  3220000  3150000  3150000  3150000\n",
      "  3150000  3150000  3150000  3150000  3150000  3150000  3143000  3129000\n",
      "  3118850  3115000  3115000  3115000  3087000  3080000  3080000  3080000\n",
      "  3080000  3045000  3010000  3010000  3010000  3010000  3010000  3010000\n",
      "  3010000  3003000  2975000  2961000  2940000  2940000  2940000  2940000\n",
      "  2940000  2940000  2940000  2940000  2870000  2870000  2870000  2870000\n",
      "  2852500  2835000  2835000  2835000  2800000  2800000  2730000  2730000\n",
      "  2695000  2660000  2660000  2660000  2660000  2660000  2660000  2660000\n",
      "  2653000  2653000  2604000  2590000  2590000  2590000  2520000  2520000\n",
      "  2520000  2485000  2485000  2450000  2450000  2450000  2450000  2450000\n",
      "  2450000  2408000  2380000  2380000  2380000  2345000  2310000  2275000\n",
      "  2275000  2275000  2240000  2233000  2135000  2100000  2100000  2100000\n",
      "  1960000  1890000  1890000  1855000  1820000  1767150  1750000  1750000\n",
      "  1750000]\n"
     ]
    }
   ],
   "source": [
    "print(Y)"
   ]
  },
  {
   "cell_type": "code",
   "execution_count": 198,
   "id": "071c5fd9-bd66-47f0-ab59-49188860b687",
   "metadata": {},
   "outputs": [],
   "source": [
    "from sklearn.model_selection import train_test_split\n",
    "X_train,X_test,Y_train,Y_test = train_test_split(X,Y, test_size=0.25,random_state=42)"
   ]
  },
  {
   "cell_type": "code",
   "execution_count": 199,
   "id": "d0d901cb-96cc-40db-81df-311ca0edd6d7",
   "metadata": {},
   "outputs": [
    {
     "name": "stdout",
     "output_type": "stream",
     "text": [
      "[[4600    2    1 ...    2    0    1]\n",
      " [5640    1    1 ...    0    0    1]\n",
      " [3520    1    2 ...    0    1    1]\n",
      " ...\n",
      " [4500    2    3 ...    1    0    2]\n",
      " [4040    1    1 ...    0    0    0]\n",
      " [5500    2    4 ...    1    0    1]]\n"
     ]
    }
   ],
   "source": [
    "print(X_train)"
   ]
  },
  {
   "cell_type": "code",
   "execution_count": 200,
   "id": "129b6e49-0230-4b00-bd18-03a482c99c38",
   "metadata": {},
   "outputs": [
    {
     "name": "stdout",
     "output_type": "stream",
     "text": [
      "[[5900    2    2 ...    1    0    0]\n",
      " [6500    2    3 ...    0    1    2]\n",
      " [4040    1    1 ...    0    0    1]\n",
      " ...\n",
      " [3650    1    2 ...    0    0    0]\n",
      " [3635    1    1 ...    0    0    0]\n",
      " [4000    1    1 ...    0    0    1]]\n"
     ]
    }
   ],
   "source": [
    "print(X_test)"
   ]
  },
  {
   "cell_type": "code",
   "execution_count": 201,
   "id": "c8f66b41-6f91-4b8b-a2a3-d57fbca17c6a",
   "metadata": {},
   "outputs": [
    {
     "name": "stdout",
     "output_type": "stream",
     "text": [
      "[ 5285000  3675000  4200000  2275000  3570000  4620000  4200000  3087000\n",
      "  3255000  8855000  3640000  7343000  4690000  4305000  3640000  4403000\n",
      "  4270000  2940000  4795000  8540000  4235000  7700000  3500000  3360000\n",
      "  4970000  3150000  5530000  5880000  3710000  3640000  8400000  6083000\n",
      "  4760000  3080000  5243000  7245000  4550000  8575000  8960000  3500000\n",
      "  6930000  4613000  4340000  4473000  3780000  6300000  5215000  5040000\n",
      "  4515000  8645000  2660000  3118850  2450000 10850000  6020000  7560000\n",
      "  4123000  4098500  9100000  7455000  4900000  3423000 12215000  4382000\n",
      "  3850000  7140000  4970000  2380000  6090000  3710000  4200000  8400000\n",
      "  4620000  4900000  8463000 10150000  5215000  7420000  6107500  7980000\n",
      "  5495000  2450000  5950000  3465000  6020000  2450000  4900000  5250000\n",
      "  3605000  4690000  5600000  5005000  3360000  3290000  4543000  4200000\n",
      "  3395000  2653000  5652500  3395000  6895000  4270000  4690000  5250000\n",
      "  5075000  3990000  3325000  2695000  5033000  6615000  6090000  4200000\n",
      "  5600000  6405000  5565000  3080000  3150000  4480000  4277000  3465000\n",
      "  4319000  6195000  4025000  6650000  3780000  2380000  5950000  4060000\n",
      "  3885000  3500000  2852500  4200000  2940000  3920000  3290000  4130000\n",
      "  8043000  5740000  4515000  4025000  7210000  6090000  4200000  4200000\n",
      "  4445000  3430000  5600000  4403000  3290000  7962500  3773000  4935000\n",
      "  3430000  5600000  3150000  5600000  3773000  4025000  5950000  2940000\n",
      "  6300000  5600000  4585000  3010000  6300000  3150000  4200000  3500000\n",
      "  5950000  5145000  4900000  4550000  3850000  3920000  3500000  3430000\n",
      "  3150000  4060000  5943000  3850000  4760000  2485000  4795000  5873000\n",
      "  2940000  4007500  2135000  2870000  2870000  3493000  3920000  4200000\n",
      "  3395000  3570000  3255000  6083000  5215000  3815000  3570000  3640000\n",
      "  4095000  5565000  3150000  4620000  2590000  3780000  5390000  4060000\n",
      "  5740000  4956000  4480000  4655000  6020000  5950000  3500000  4760000\n",
      "  3115000  3605000  3836000  5880000  2100000  4235000  2800000  3010000\n",
      "  6125000  3360000  3675000  5810000  2310000  7560000  5250000  6930000\n",
      "  4270000  6510000  4550000  5110000  3290000  5460000  9310000  8080940\n",
      "  8400000  5250000  5600000  3150000  3535000  4767000  6300000  7420000\n",
      "  4585000  3360000  3780000  3290000  5229000  3220000  7840000  2730000\n",
      "  3220000  4900000  3500000  4270000  3745000  3500000  4480000  3010000\n",
      " 11410000  4480000  2590000  6230000  4690000  2590000  4893000  2940000\n",
      "  5250000  6293000  4200000  4830000  7070000  3465000  7490000  8295000\n",
      "  4403000  3990000  4900000  2604000  8400000  2835000  4690000  4473000\n",
      "  3640000  4200000  3360000  5460000  3500000  2940000  5740000  7070000\n",
      "  5775000  5873000  2275000  9870000  3990000  3850000  7000000  4200000\n",
      "  9240000  5523000  7875000  3633000  5110000  2100000  4830000  3430000\n",
      "  4270000  2730000  2835000  3920000  4620000  4900000  4893000  4200000\n",
      "  2485000  4515000  1960000  3129000  1750000  4200000  3780000  4375000\n",
      "  3150000  4900000  5460000  7700000  4830000  3500000  5040000  4130000\n",
      "  4473000  6160000  7350000  3500000 12250000  2660000  3710000  7420000\n",
      "  3360000  6629000  4900000  8120000  3290000  4410000  3332000  3143000\n",
      "  3220000  3675000  6419000  3885000  2345000  7350000  3850000  4410000\n",
      "  4550000  9240000  4095000  6475000  3500000  4340000  5320000  3990000\n",
      "  1855000  5803000  4165000  2870000  2240000  2653000  4060000  4550000\n",
      "  5040000  2961000  2520000  7210000  2975000  4515000  8680000  4095000\n",
      "  3115000  5460000  4305000  5040000  3570000  3430000  2835000  3850000\n",
      "  4165000  5866000  6265000  3640000  6475000  3115000  3990000  4865000\n",
      "  3010000  5950000  8750000  6755000  6160000  4340000  3290000  6195000]\n"
     ]
    }
   ],
   "source": [
    "print(Y_train)"
   ]
  },
  {
   "cell_type": "code",
   "execution_count": 202,
   "id": "36b48c9b-55a7-4dce-a503-bbd6b3701dbb",
   "metadata": {},
   "outputs": [
    {
     "name": "stdout",
     "output_type": "stream",
     "text": [
      "[ 4060000  6650000  3710000  6440000  2800000  4900000  5250000  4543000\n",
      "  2450000  3353000 10150000  2660000  3360000  3360000  2275000  2660000\n",
      "  2660000  7350000  2940000  2870000  6720000  5425000  1890000  5250000\n",
      "  4193000 12250000  3080000  5110000  9800000  2520000  6790000  3500000\n",
      "  6650000  2940000  3325000  4200000  4900000  3290000  3500000  2380000\n",
      "  5495000  3675000  6650000  4907000  3150000  4480000  6580000  5740000\n",
      "  3003000  1820000  8400000  2450000  4270000  4007500  3234000  1750000\n",
      "  9800000  2100000  4340000  3045000  3850000  3500000  4753000  3080000\n",
      "  4550000  6510000  6685000  5110000  4550000  6650000  3640000  5600000\n",
      "  3780000  6615000  3220000  6650000  4690000  4830000  6860000  2233000\n",
      "  7035000  4165000  6195000  6510000  1890000  8190000  2660000  4193000\n",
      " 13300000  9681000  4340000  8645000  3703000  5145000  6440000  5950000\n",
      "  5810000  5740000  6230000  5600000  3010000  8890000  4900000  5530000\n",
      "  9100000  3773000  7910000  7350000  5530000  7525000  6300000  3920000\n",
      "  3430000  3010000  4620000  1750000  3010000  2520000  3710000  3703000\n",
      "  2450000  4200000  3640000  3640000  5383000  1767150  5250000  3500000\n",
      "  6790000  3920000  3920000  5810000  5250000  5950000  3500000  2408000\n",
      "  2660000]\n"
     ]
    }
   ],
   "source": [
    "print(Y_test)"
   ]
  },
  {
   "cell_type": "code",
   "execution_count": 203,
   "id": "3369821b-c6f8-42fe-97b6-8b8f677fbd41",
   "metadata": {},
   "outputs": [],
   "source": [
    "from sklearn.preprocessing import StandardScaler\n",
    "sc = StandardScaler()\n",
    "x_train = sc.fit_transform(X_train) \n",
    "x_test = sc.fit_transform(X_test)"
   ]
  },
  {
   "cell_type": "code",
   "execution_count": 204,
   "id": "d6f91357-67a6-4c5d-bda0-25a3782e6b08",
   "metadata": {},
   "outputs": [
    {
     "name": "stdout",
     "output_type": "stream",
     "text": [
      "[9.99999352e-01 1.97693083e-07 1.75989006e-07]\n"
     ]
    }
   ],
   "source": [
    "from sklearn.decomposition import PCA\n",
    "pca = PCA(n_components=3)\n",
    "X_train = pca.fit_transform(X_train)\n",
    "X_test = pca.fit_transform(X_test)\n",
    "explained_variance = pca.explained_variance_ratio_\n",
    "print(explained_variance)"
   ]
  },
  {
   "cell_type": "code",
   "execution_count": 205,
   "id": "c89ff614-cfbb-4256-9fff-b279704d92a1",
   "metadata": {},
   "outputs": [
    {
     "data": {
      "text/html": [
       "<style>#sk-container-id-2 {color: black;background-color: white;}#sk-container-id-2 pre{padding: 0;}#sk-container-id-2 div.sk-toggleable {background-color: white;}#sk-container-id-2 label.sk-toggleable__label {cursor: pointer;display: block;width: 100%;margin-bottom: 0;padding: 0.3em;box-sizing: border-box;text-align: center;}#sk-container-id-2 label.sk-toggleable__label-arrow:before {content: \"▸\";float: left;margin-right: 0.25em;color: #696969;}#sk-container-id-2 label.sk-toggleable__label-arrow:hover:before {color: black;}#sk-container-id-2 div.sk-estimator:hover label.sk-toggleable__label-arrow:before {color: black;}#sk-container-id-2 div.sk-toggleable__content {max-height: 0;max-width: 0;overflow: hidden;text-align: left;background-color: #f0f8ff;}#sk-container-id-2 div.sk-toggleable__content pre {margin: 0.2em;color: black;border-radius: 0.25em;background-color: #f0f8ff;}#sk-container-id-2 input.sk-toggleable__control:checked~div.sk-toggleable__content {max-height: 200px;max-width: 100%;overflow: auto;}#sk-container-id-2 input.sk-toggleable__control:checked~label.sk-toggleable__label-arrow:before {content: \"▾\";}#sk-container-id-2 div.sk-estimator input.sk-toggleable__control:checked~label.sk-toggleable__label {background-color: #d4ebff;}#sk-container-id-2 div.sk-label input.sk-toggleable__control:checked~label.sk-toggleable__label {background-color: #d4ebff;}#sk-container-id-2 input.sk-hidden--visually {border: 0;clip: rect(1px 1px 1px 1px);clip: rect(1px, 1px, 1px, 1px);height: 1px;margin: -1px;overflow: hidden;padding: 0;position: absolute;width: 1px;}#sk-container-id-2 div.sk-estimator {font-family: monospace;background-color: #f0f8ff;border: 1px dotted black;border-radius: 0.25em;box-sizing: border-box;margin-bottom: 0.5em;}#sk-container-id-2 div.sk-estimator:hover {background-color: #d4ebff;}#sk-container-id-2 div.sk-parallel-item::after {content: \"\";width: 100%;border-bottom: 1px solid gray;flex-grow: 1;}#sk-container-id-2 div.sk-label:hover label.sk-toggleable__label {background-color: #d4ebff;}#sk-container-id-2 div.sk-serial::before {content: \"\";position: absolute;border-left: 1px solid gray;box-sizing: border-box;top: 0;bottom: 0;left: 50%;z-index: 0;}#sk-container-id-2 div.sk-serial {display: flex;flex-direction: column;align-items: center;background-color: white;padding-right: 0.2em;padding-left: 0.2em;position: relative;}#sk-container-id-2 div.sk-item {position: relative;z-index: 1;}#sk-container-id-2 div.sk-parallel {display: flex;align-items: stretch;justify-content: center;background-color: white;position: relative;}#sk-container-id-2 div.sk-item::before, #sk-container-id-2 div.sk-parallel-item::before {content: \"\";position: absolute;border-left: 1px solid gray;box-sizing: border-box;top: 0;bottom: 0;left: 50%;z-index: -1;}#sk-container-id-2 div.sk-parallel-item {display: flex;flex-direction: column;z-index: 1;position: relative;background-color: white;}#sk-container-id-2 div.sk-parallel-item:first-child::after {align-self: flex-end;width: 50%;}#sk-container-id-2 div.sk-parallel-item:last-child::after {align-self: flex-start;width: 50%;}#sk-container-id-2 div.sk-parallel-item:only-child::after {width: 0;}#sk-container-id-2 div.sk-dashed-wrapped {border: 1px dashed gray;margin: 0 0.4em 0.5em 0.4em;box-sizing: border-box;padding-bottom: 0.4em;background-color: white;}#sk-container-id-2 div.sk-label label {font-family: monospace;font-weight: bold;display: inline-block;line-height: 1.2em;}#sk-container-id-2 div.sk-label-container {text-align: center;}#sk-container-id-2 div.sk-container {/* jupyter's `normalize.less` sets `[hidden] { display: none; }` but bootstrap.min.css set `[hidden] { display: none !important; }` so we also need the `!important` here to be able to override the default hidden behavior on the sphinx rendered scikit-learn.org. See: https://github.com/scikit-learn/scikit-learn/issues/21755 */display: inline-block !important;position: relative;}#sk-container-id-2 div.sk-text-repr-fallback {display: none;}</style><div id=\"sk-container-id-2\" class=\"sk-top-container\"><div class=\"sk-text-repr-fallback\"><pre>LinearRegression()</pre><b>In a Jupyter environment, please rerun this cell to show the HTML representation or trust the notebook. <br />On GitHub, the HTML representation is unable to render, please try loading this page with nbviewer.org.</b></div><div class=\"sk-container\" hidden><div class=\"sk-item\"><div class=\"sk-estimator sk-toggleable\"><input class=\"sk-toggleable__control sk-hidden--visually\" id=\"sk-estimator-id-2\" type=\"checkbox\" checked><label for=\"sk-estimator-id-2\" class=\"sk-toggleable__label sk-toggleable__label-arrow\">LinearRegression</label><div class=\"sk-toggleable__content\"><pre>LinearRegression()</pre></div></div></div></div></div>"
      ],
      "text/plain": [
       "LinearRegression()"
      ]
     },
     "execution_count": 205,
     "metadata": {},
     "output_type": "execute_result"
    }
   ],
   "source": [
    "from sklearn.linear_model import LinearRegression\n",
    "regression = LinearRegression()\n",
    "regression.fit(X_train,Y_train)"
   ]
  },
  {
   "cell_type": "code",
   "execution_count": 206,
   "id": "65fea799-c12c-428f-a2cd-6aed0917408a",
   "metadata": {},
   "outputs": [
    {
     "name": "stdout",
     "output_type": "stream",
     "text": [
      "[5068371.19210998 6536706.51928168 3476763.53938472 4631499.65918287\n",
      " 3660220.74578152 4083081.471572   5373721.80637794 5250806.88056628\n",
      " 3145467.18037383 3196870.1345128  8439933.21353574 3236807.03461229\n",
      " 3091189.03678933 3973742.859955   4110869.22054441 4538243.31139043\n",
      " 3720220.65312432 4891679.83367108 4846115.88336815 4072132.49000964\n",
      " 6247072.33367052 4449640.30082268 3150235.52903673 4350314.64670841\n",
      " 5248127.2016347  6845187.1265722  3016338.17310131 4555323.35459399\n",
      " 7749445.67897548 4231738.30170219 4706422.52981511 4016851.98785487\n",
      " 6329729.19851196 5122071.52411106 4355395.75383679 4961855.03143375\n",
      " 4888230.00671555 3870899.08228233 3018286.71630465 4454718.24630368\n",
      " 5001933.60539571 3144464.09533169 6512405.74578678 4760428.38981933\n",
      " 4299952.24152428 3993620.63391275 6949193.75761953 4686324.66414956\n",
      " 4487081.83092463 3281452.47544683 6323759.002822   3117273.98975311\n",
      " 4981723.56916959 4399006.39611566 4010628.52987797 3260659.6649369\n",
      " 6956580.43039694 3633966.5407071  5071951.17877784 3196103.23900835\n",
      " 3831567.94973367 3760537.55381279 4698322.20131271 3548464.45468432\n",
      " 4952453.91669242 4588715.77130717 7430209.32400971 3816222.34191881\n",
      " 7675313.68562418 4644025.62482984 4068727.50221019 5998741.43174228\n",
      " 5173092.16044189 6189670.00400129 3021285.93444828 4699919.38829447\n",
      " 4543705.88447023 3803179.06790329 4444068.95559505 3662131.09860028\n",
      " 6822537.13705304 4680397.73537901 4870954.44512425 5885148.94914331\n",
      " 3421334.77262678 6346790.00020474 2892343.57032216 4324850.658413\n",
      " 7144522.38586039 5880403.23608766 3610750.05587501 5102680.57526188\n",
      " 4112822.65212393 4067908.35724772 6830435.73242181 4480274.36864268\n",
      " 6645170.63943402 6680683.8439906  5693928.62247419 4633070.83053977\n",
      " 4425239.61368262 5369695.79587932 4877994.36960934 4690469.73047964\n",
      " 5263616.29925649 5509078.85660849 7113372.24331324 5423022.86645457\n",
      " 5017305.9474758  7321130.22320493 5216860.30354585 3944836.32487813\n",
      " 3788757.85641798 4044042.09343345 4634537.25586973 4074418.06030207\n",
      " 3503087.1475278  2927158.81569879 4078207.68338336 3985339.18323646\n",
      " 4380765.94688446 5076185.59566866 4197123.33296163 4231738.30170219\n",
      " 4330172.54382626 2897984.25401526 4030425.28135604 4216314.84960296\n",
      " 7699953.20076546 5478748.16241886 4023980.3218105  5555378.43077953\n",
      " 5911787.60835857 7480604.04926518 4013666.12656483 3065369.464951\n",
      " 3464613.15263727]\n"
     ]
    }
   ],
   "source": [
    "Y_pred = regression.predict(X_test)\n",
    "print(Y_pred)"
   ]
  },
  {
   "cell_type": "code",
   "execution_count": 207,
   "id": "4cf0dcf6-4df4-4b3e-ba18-359c0f440d3b",
   "metadata": {},
   "outputs": [],
   "source": [
    "import pickle"
   ]
  },
  {
   "cell_type": "code",
   "execution_count": 208,
   "id": "e6a7bc6e-f500-4112-b4a0-36e79f2af29d",
   "metadata": {},
   "outputs": [
    {
     "name": "stdout",
     "output_type": "stream",
     "text": [
      "[Info] Saving Model\n"
     ]
    }
   ],
   "source": [
    "print(\"[Info] Saving Model\")\n",
    "saving_model = pickle.dump(regression,open('linearmodel.pkl','wb'))"
   ]
  },
  {
   "cell_type": "code",
   "execution_count": 209,
   "id": "e1ce0e05-7cfb-43a5-a3e6-029c253da068",
   "metadata": {},
   "outputs": [
    {
     "data": {
      "text/plain": [
       "array([5068371.19210998, 6536706.51928168, 3476763.53938472,\n",
       "       4631499.65918287, 3660220.74578152, 4083081.471572  ,\n",
       "       5373721.80637794, 5250806.88056628, 3145467.18037383,\n",
       "       3196870.1345128 , 8439933.21353574, 3236807.03461229,\n",
       "       3091189.03678933, 3973742.859955  , 4110869.22054441,\n",
       "       4538243.31139043, 3720220.65312432, 4891679.83367108,\n",
       "       4846115.88336815, 4072132.49000964, 6247072.33367052,\n",
       "       4449640.30082268, 3150235.52903673, 4350314.64670841,\n",
       "       5248127.2016347 , 6845187.1265722 , 3016338.17310131,\n",
       "       4555323.35459399, 7749445.67897548, 4231738.30170219,\n",
       "       4706422.52981511, 4016851.98785487, 6329729.19851196,\n",
       "       5122071.52411106, 4355395.75383679, 4961855.03143375,\n",
       "       4888230.00671555, 3870899.08228233, 3018286.71630465,\n",
       "       4454718.24630368, 5001933.60539571, 3144464.09533169,\n",
       "       6512405.74578678, 4760428.38981933, 4299952.24152428,\n",
       "       3993620.63391275, 6949193.75761953, 4686324.66414956,\n",
       "       4487081.83092463, 3281452.47544683, 6323759.002822  ,\n",
       "       3117273.98975311, 4981723.56916959, 4399006.39611566,\n",
       "       4010628.52987797, 3260659.6649369 , 6956580.43039694,\n",
       "       3633966.5407071 , 5071951.17877784, 3196103.23900835,\n",
       "       3831567.94973367, 3760537.55381279, 4698322.20131271,\n",
       "       3548464.45468432, 4952453.91669242, 4588715.77130717,\n",
       "       7430209.32400971, 3816222.34191881, 7675313.68562418,\n",
       "       4644025.62482984, 4068727.50221019, 5998741.43174228,\n",
       "       5173092.16044189, 6189670.00400129, 3021285.93444828,\n",
       "       4699919.38829447, 4543705.88447023, 3803179.06790329,\n",
       "       4444068.95559505, 3662131.09860028, 6822537.13705304,\n",
       "       4680397.73537901, 4870954.44512425, 5885148.94914331,\n",
       "       3421334.77262678, 6346790.00020474, 2892343.57032216,\n",
       "       4324850.658413  , 7144522.38586039, 5880403.23608766,\n",
       "       3610750.05587501, 5102680.57526188, 4112822.65212393,\n",
       "       4067908.35724772, 6830435.73242181, 4480274.36864268,\n",
       "       6645170.63943402, 6680683.8439906 , 5693928.62247419,\n",
       "       4633070.83053977, 4425239.61368262, 5369695.79587932,\n",
       "       4877994.36960934, 4690469.73047964, 5263616.29925649,\n",
       "       5509078.85660849, 7113372.24331324, 5423022.86645457,\n",
       "       5017305.9474758 , 7321130.22320493, 5216860.30354585,\n",
       "       3944836.32487813, 3788757.85641798, 4044042.09343345,\n",
       "       4634537.25586973, 4074418.06030207, 3503087.1475278 ,\n",
       "       2927158.81569879, 4078207.68338336, 3985339.18323646,\n",
       "       4380765.94688446, 5076185.59566866, 4197123.33296163,\n",
       "       4231738.30170219, 4330172.54382626, 2897984.25401526,\n",
       "       4030425.28135604, 4216314.84960296, 7699953.20076546,\n",
       "       5478748.16241886, 4023980.3218105 , 5555378.43077953,\n",
       "       5911787.60835857, 7480604.04926518, 4013666.12656483,\n",
       "       3065369.464951  , 3464613.15263727])"
      ]
     },
     "execution_count": 209,
     "metadata": {},
     "output_type": "execute_result"
    }
   ],
   "source": [
    "model = pickle.load(open('./linearmodel.pkl','rb'))\n",
    "model.predict(X_test)"
   ]
  },
  {
   "cell_type": "code",
   "execution_count": 210,
   "id": "37332b15-0b33-444b-9a8f-2b9016cfc2d4",
   "metadata": {},
   "outputs": [],
   "source": [
    "from sklearn.metrics import mean_squared_error, r2_score"
   ]
  },
  {
   "cell_type": "code",
   "execution_count": 215,
   "id": "830ecb18-4258-47b3-8706-44824773b6ec",
   "metadata": {},
   "outputs": [
    {
     "name": "stdout",
     "output_type": "stream",
     "text": [
      "Mean Squared Error: 2134418228772.73\n",
      "R-Squared: 0.54\n"
     ]
    }
   ],
   "source": [
    "mse = mean_squared_error(Y_test,Y_pred)\n",
    "r2 = r2_score(Y_test,Y_pred)\n",
    "print(f\"Mean Squared Error: {mse:.2f}\")\n",
    "print(f\"R-Squared: {r2:.2f}\")"
   ]
  },
  {
   "cell_type": "code",
   "execution_count": 219,
   "id": "8d5f066c-1b48-4fac-a59c-8e4c78eb74a0",
   "metadata": {},
   "outputs": [
    {
     "name": "stdout",
     "output_type": "stream",
     "text": [
      "Predicted price: 5068371.19\n"
     ]
    }
   ],
   "source": [
    "prediction = regression.predict(X_test)[0]\n",
    "print(f\"Predicted price: {prediction:.2f}\")"
   ]
  },
  {
   "cell_type": "code",
   "execution_count": null,
   "id": "46b5fbd3-983b-449d-a8eb-3c5429b0d686",
   "metadata": {},
   "outputs": [],
   "source": []
  }
 ],
 "metadata": {
  "kernelspec": {
   "display_name": "Python 3 (ipykernel)",
   "language": "python",
   "name": "python3"
  },
  "language_info": {
   "codemirror_mode": {
    "name": "ipython",
    "version": 3
   },
   "file_extension": ".py",
   "mimetype": "text/x-python",
   "name": "python",
   "nbconvert_exporter": "python",
   "pygments_lexer": "ipython3",
   "version": "3.11.7"
  }
 },
 "nbformat": 4,
 "nbformat_minor": 5
}
