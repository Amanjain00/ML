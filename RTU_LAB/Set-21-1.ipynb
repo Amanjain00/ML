{
 "cells": [
  {
   "cell_type": "markdown",
   "id": "007b40f5-c0a4-459b-86dd-abb7f9f90705",
   "metadata": {},
   "source": [
    "Q1.This data set contains details of a houses and the target variable is a continuous variable.\r\n",
    "Dataset contains input features and predicting house prices. Apply necessary data preprocessing -\r\n",
    "Construct Linear Regression Model using dependent variable to predict house prices based on\r\n",
    "given data using Jupyter Notebook. Use Area, bathrooms, stories, main road, guestroom,\r\n",
    "hotwater heating, parking, prefarea, furnishing status."
   ]
  },
  {
   "cell_type": "code",
   "execution_count": 7,
   "id": "407840ae-8320-47d6-a398-4a58a0ee6f36",
   "metadata": {},
   "outputs": [],
   "source": [
    "import numpy as np\n",
    "import pandas as pd\n",
    "import matplotlib.pyplot as plt"
   ]
  },
  {
   "cell_type": "code",
   "execution_count": 8,
   "id": "eb5a767a-2f9d-447e-a751-22b9f72034b2",
   "metadata": {},
   "outputs": [
    {
     "name": "stdout",
     "output_type": "stream",
     "text": [
      "        price  area  bedrooms  bathrooms  stories mainroad guestroom basement  \\\n",
      "0    13300000  7420         4          2        3      yes        no       no   \n",
      "1    12250000  8960         4          4        4      yes        no       no   \n",
      "2    12250000  9960         3          2        2      yes        no      yes   \n",
      "3    12215000  7500         4          2        2      yes        no      yes   \n",
      "4    11410000  7420         4          1        2      yes       yes      yes   \n",
      "..        ...   ...       ...        ...      ...      ...       ...      ...   \n",
      "540   1820000  3000         2          1        1      yes        no      yes   \n",
      "541   1767150  2400         3          1        1       no        no       no   \n",
      "542   1750000  3620         2          1        1      yes        no       no   \n",
      "543   1750000  2910         3          1        1       no        no       no   \n",
      "544   1750000  3850         3          1        2      yes        no       no   \n",
      "\n",
      "    hotwaterheating airconditioning  parking prefarea furnishingstatus  \n",
      "0                no             yes        2      yes        furnished  \n",
      "1                no             yes        3       no        furnished  \n",
      "2                no              no        2      yes   semi-furnished  \n",
      "3                no             yes        3      yes        furnished  \n",
      "4                no             yes        2       no        furnished  \n",
      "..              ...             ...      ...      ...              ...  \n",
      "540              no              no        2       no      unfurnished  \n",
      "541              no              no        0       no   semi-furnished  \n",
      "542              no              no        0       no      unfurnished  \n",
      "543              no              no        0       no        furnished  \n",
      "544              no              no        0       no      unfurnished  \n",
      "\n",
      "[545 rows x 13 columns]\n"
     ]
    }
   ],
   "source": [
    "dataset = pd.read_csv(\"./SET 21-1.csv\")\n",
    "print(dataset)"
   ]
  },
  {
   "cell_type": "code",
   "execution_count": 9,
   "id": "91f3b351-3992-4785-aa0a-8ee87399b0f0",
   "metadata": {},
   "outputs": [
    {
     "data": {
      "text/plain": [
       "price               0\n",
       "area                0\n",
       "bedrooms            0\n",
       "bathrooms           0\n",
       "stories             0\n",
       "mainroad            0\n",
       "guestroom           0\n",
       "basement            0\n",
       "hotwaterheating     0\n",
       "airconditioning     0\n",
       "parking             0\n",
       "prefarea            0\n",
       "furnishingstatus    0\n",
       "dtype: int64"
      ]
     },
     "execution_count": 9,
     "metadata": {},
     "output_type": "execute_result"
    }
   ],
   "source": [
    "dataset.isnull().sum()"
   ]
  },
  {
   "cell_type": "code",
   "execution_count": 11,
   "id": "27e2e695-26f8-4eb2-b3a6-30cdd43f90ea",
   "metadata": {},
   "outputs": [
    {
     "name": "stdout",
     "output_type": "stream",
     "text": [
      "        price  area  bedrooms  bathrooms  stories  mainroad guestroom  \\\n",
      "0    13300000  7420         4          2        3         1        no   \n",
      "1    12250000  8960         4          4        4         1        no   \n",
      "2    12250000  9960         3          2        2         1        no   \n",
      "3    12215000  7500         4          2        2         1        no   \n",
      "4    11410000  7420         4          1        2         1       yes   \n",
      "..        ...   ...       ...        ...      ...       ...       ...   \n",
      "540   1820000  3000         2          1        1         1        no   \n",
      "541   1767150  2400         3          1        1         0        no   \n",
      "542   1750000  3620         2          1        1         1        no   \n",
      "543   1750000  2910         3          1        1         0        no   \n",
      "544   1750000  3850         3          1        2         1        no   \n",
      "\n",
      "    basement hotwaterheating airconditioning  parking prefarea  \\\n",
      "0         no              no             yes        2      yes   \n",
      "1         no              no             yes        3       no   \n",
      "2        yes              no              no        2      yes   \n",
      "3        yes              no             yes        3      yes   \n",
      "4        yes              no             yes        2       no   \n",
      "..       ...             ...             ...      ...      ...   \n",
      "540      yes              no              no        2       no   \n",
      "541       no              no              no        0       no   \n",
      "542       no              no              no        0       no   \n",
      "543       no              no              no        0       no   \n",
      "544       no              no              no        0       no   \n",
      "\n",
      "    furnishingstatus  \n",
      "0          furnished  \n",
      "1          furnished  \n",
      "2     semi-furnished  \n",
      "3          furnished  \n",
      "4          furnished  \n",
      "..               ...  \n",
      "540      unfurnished  \n",
      "541   semi-furnished  \n",
      "542      unfurnished  \n",
      "543        furnished  \n",
      "544      unfurnished  \n",
      "\n",
      "[545 rows x 13 columns]\n"
     ]
    }
   ],
   "source": [
    "dataset['mainroad'].replace(['yes','no'],[1,0],inplace=True)\n",
    "print(dataset)"
   ]
  },
  {
   "cell_type": "code",
   "execution_count": 12,
   "id": "6871f597-08c3-4b8f-8df8-d22172946a97",
   "metadata": {},
   "outputs": [
    {
     "name": "stdout",
     "output_type": "stream",
     "text": [
      "        price  area  bedrooms  bathrooms  stories  mainroad  guestroom  \\\n",
      "0    13300000  7420         4          2        3         1          0   \n",
      "1    12250000  8960         4          4        4         1          0   \n",
      "2    12250000  9960         3          2        2         1          0   \n",
      "3    12215000  7500         4          2        2         1          0   \n",
      "4    11410000  7420         4          1        2         1          1   \n",
      "..        ...   ...       ...        ...      ...       ...        ...   \n",
      "540   1820000  3000         2          1        1         1          0   \n",
      "541   1767150  2400         3          1        1         0          0   \n",
      "542   1750000  3620         2          1        1         1          0   \n",
      "543   1750000  2910         3          1        1         0          0   \n",
      "544   1750000  3850         3          1        2         1          0   \n",
      "\n",
      "    basement hotwaterheating airconditioning  parking prefarea  \\\n",
      "0         no              no             yes        2      yes   \n",
      "1         no              no             yes        3       no   \n",
      "2        yes              no              no        2      yes   \n",
      "3        yes              no             yes        3      yes   \n",
      "4        yes              no             yes        2       no   \n",
      "..       ...             ...             ...      ...      ...   \n",
      "540      yes              no              no        2       no   \n",
      "541       no              no              no        0       no   \n",
      "542       no              no              no        0       no   \n",
      "543       no              no              no        0       no   \n",
      "544       no              no              no        0       no   \n",
      "\n",
      "    furnishingstatus  \n",
      "0          furnished  \n",
      "1          furnished  \n",
      "2     semi-furnished  \n",
      "3          furnished  \n",
      "4          furnished  \n",
      "..               ...  \n",
      "540      unfurnished  \n",
      "541   semi-furnished  \n",
      "542      unfurnished  \n",
      "543        furnished  \n",
      "544      unfurnished  \n",
      "\n",
      "[545 rows x 13 columns]\n"
     ]
    }
   ],
   "source": [
    "dataset['guestroom'].replace(['yes','no'],[1,0],inplace=True)\n",
    "print(dataset)"
   ]
  },
  {
   "cell_type": "code",
   "execution_count": 13,
   "id": "1433b759-db65-4176-9ed5-d6db1d1cb71d",
   "metadata": {},
   "outputs": [
    {
     "name": "stdout",
     "output_type": "stream",
     "text": [
      "        price  area  bedrooms  bathrooms  stories  mainroad  guestroom  \\\n",
      "0    13300000  7420         4          2        3         1          0   \n",
      "1    12250000  8960         4          4        4         1          0   \n",
      "2    12250000  9960         3          2        2         1          0   \n",
      "3    12215000  7500         4          2        2         1          0   \n",
      "4    11410000  7420         4          1        2         1          1   \n",
      "..        ...   ...       ...        ...      ...       ...        ...   \n",
      "540   1820000  3000         2          1        1         1          0   \n",
      "541   1767150  2400         3          1        1         0          0   \n",
      "542   1750000  3620         2          1        1         1          0   \n",
      "543   1750000  2910         3          1        1         0          0   \n",
      "544   1750000  3850         3          1        2         1          0   \n",
      "\n",
      "    basement  hotwaterheating airconditioning  parking prefarea  \\\n",
      "0         no                0             yes        2      yes   \n",
      "1         no                0             yes        3       no   \n",
      "2        yes                0              no        2      yes   \n",
      "3        yes                0             yes        3      yes   \n",
      "4        yes                0             yes        2       no   \n",
      "..       ...              ...             ...      ...      ...   \n",
      "540      yes                0              no        2       no   \n",
      "541       no                0              no        0       no   \n",
      "542       no                0              no        0       no   \n",
      "543       no                0              no        0       no   \n",
      "544       no                0              no        0       no   \n",
      "\n",
      "    furnishingstatus  \n",
      "0          furnished  \n",
      "1          furnished  \n",
      "2     semi-furnished  \n",
      "3          furnished  \n",
      "4          furnished  \n",
      "..               ...  \n",
      "540      unfurnished  \n",
      "541   semi-furnished  \n",
      "542      unfurnished  \n",
      "543        furnished  \n",
      "544      unfurnished  \n",
      "\n",
      "[545 rows x 13 columns]\n"
     ]
    }
   ],
   "source": [
    "dataset['hotwaterheating'].replace(['yes','no'],[1,0],inplace=True)\n",
    "print(dataset)"
   ]
  },
  {
   "cell_type": "code",
   "execution_count": 14,
   "id": "4eef7960-70c8-451e-b18f-ba2864bd6089",
   "metadata": {},
   "outputs": [
    {
     "name": "stdout",
     "output_type": "stream",
     "text": [
      "        price  area  bedrooms  bathrooms  stories  mainroad  guestroom  \\\n",
      "0    13300000  7420         4          2        3         1          0   \n",
      "1    12250000  8960         4          4        4         1          0   \n",
      "2    12250000  9960         3          2        2         1          0   \n",
      "3    12215000  7500         4          2        2         1          0   \n",
      "4    11410000  7420         4          1        2         1          1   \n",
      "..        ...   ...       ...        ...      ...       ...        ...   \n",
      "540   1820000  3000         2          1        1         1          0   \n",
      "541   1767150  2400         3          1        1         0          0   \n",
      "542   1750000  3620         2          1        1         1          0   \n",
      "543   1750000  2910         3          1        1         0          0   \n",
      "544   1750000  3850         3          1        2         1          0   \n",
      "\n",
      "    basement  hotwaterheating airconditioning  parking  prefarea  \\\n",
      "0         no                0             yes        2         1   \n",
      "1         no                0             yes        3         0   \n",
      "2        yes                0              no        2         1   \n",
      "3        yes                0             yes        3         1   \n",
      "4        yes                0             yes        2         0   \n",
      "..       ...              ...             ...      ...       ...   \n",
      "540      yes                0              no        2         0   \n",
      "541       no                0              no        0         0   \n",
      "542       no                0              no        0         0   \n",
      "543       no                0              no        0         0   \n",
      "544       no                0              no        0         0   \n",
      "\n",
      "    furnishingstatus  \n",
      "0          furnished  \n",
      "1          furnished  \n",
      "2     semi-furnished  \n",
      "3          furnished  \n",
      "4          furnished  \n",
      "..               ...  \n",
      "540      unfurnished  \n",
      "541   semi-furnished  \n",
      "542      unfurnished  \n",
      "543        furnished  \n",
      "544      unfurnished  \n",
      "\n",
      "[545 rows x 13 columns]\n"
     ]
    }
   ],
   "source": [
    "dataset['prefarea'].replace(['yes','no'],[1,0],inplace=True)\n",
    "print(dataset)"
   ]
  },
  {
   "cell_type": "code",
   "execution_count": 15,
   "id": "8261ae04-2f61-478b-8f3d-27620d853cf0",
   "metadata": {},
   "outputs": [
    {
     "name": "stdout",
     "output_type": "stream",
     "text": [
      "        price  area  bedrooms  bathrooms  stories  mainroad  guestroom  \\\n",
      "0    13300000  7420         4          2        3         1          0   \n",
      "1    12250000  8960         4          4        4         1          0   \n",
      "2    12250000  9960         3          2        2         1          0   \n",
      "3    12215000  7500         4          2        2         1          0   \n",
      "4    11410000  7420         4          1        2         1          1   \n",
      "..        ...   ...       ...        ...      ...       ...        ...   \n",
      "540   1820000  3000         2          1        1         1          0   \n",
      "541   1767150  2400         3          1        1         0          0   \n",
      "542   1750000  3620         2          1        1         1          0   \n",
      "543   1750000  2910         3          1        1         0          0   \n",
      "544   1750000  3850         3          1        2         1          0   \n",
      "\n",
      "    basement  hotwaterheating airconditioning  parking  prefarea  \\\n",
      "0         no                0             yes        2         1   \n",
      "1         no                0             yes        3         0   \n",
      "2        yes                0              no        2         1   \n",
      "3        yes                0             yes        3         1   \n",
      "4        yes                0             yes        2         0   \n",
      "..       ...              ...             ...      ...       ...   \n",
      "540      yes                0              no        2         0   \n",
      "541       no                0              no        0         0   \n",
      "542       no                0              no        0         0   \n",
      "543       no                0              no        0         0   \n",
      "544       no                0              no        0         0   \n",
      "\n",
      "     furnishingstatus  \n",
      "0                   2  \n",
      "1                   2  \n",
      "2                   1  \n",
      "3                   2  \n",
      "4                   2  \n",
      "..                ...  \n",
      "540                 0  \n",
      "541                 1  \n",
      "542                 0  \n",
      "543                 2  \n",
      "544                 0  \n",
      "\n",
      "[545 rows x 13 columns]\n"
     ]
    }
   ],
   "source": [
    "dataset['furnishingstatus'].replace(['furnished','semi-furnished','unfurnished'],[2,1,0],inplace=True)\n",
    "print(dataset)"
   ]
  },
  {
   "cell_type": "code",
   "execution_count": 10,
   "id": "b5304c8d-52f7-404c-aab5-6d21abfb5d17",
   "metadata": {},
   "outputs": [
    {
     "name": "stdout",
     "output_type": "stream",
     "text": [
      "<class 'pandas.core.frame.DataFrame'>\n",
      "RangeIndex: 545 entries, 0 to 544\n",
      "Data columns (total 13 columns):\n",
      " #   Column            Non-Null Count  Dtype \n",
      "---  ------            --------------  ----- \n",
      " 0   price             545 non-null    int64 \n",
      " 1   area              545 non-null    int64 \n",
      " 2   bedrooms          545 non-null    int64 \n",
      " 3   bathrooms         545 non-null    int64 \n",
      " 4   stories           545 non-null    int64 \n",
      " 5   mainroad          545 non-null    object\n",
      " 6   guestroom         545 non-null    object\n",
      " 7   basement          545 non-null    object\n",
      " 8   hotwaterheating   545 non-null    object\n",
      " 9   airconditioning   545 non-null    object\n",
      " 10  parking           545 non-null    int64 \n",
      " 11  prefarea          545 non-null    object\n",
      " 12  furnishingstatus  545 non-null    object\n",
      "dtypes: int64(6), object(7)\n",
      "memory usage: 55.5+ KB\n"
     ]
    }
   ],
   "source": [
    "dataset.info()"
   ]
  },
  {
   "cell_type": "markdown",
   "id": "32d78ba7-4e60-4f6a-bc73-59b2709df983",
   "metadata": {},
   "source": [
    "Area, bathrooms, stories, main road, guestroom,\r\n",
    "hotwater heating, parking, prefarea, furnishing status."
   ]
  },
  {
   "cell_type": "code",
   "execution_count": 16,
   "id": "900f7f51-c3a7-495f-ba2c-9e9fed3b9f38",
   "metadata": {},
   "outputs": [],
   "source": [
    "X = dataset.iloc[:,[1,3,4,5,6,8,10,11,12]].values\n",
    "Y = dataset.iloc[:,0].values"
   ]
  },
  {
   "cell_type": "code",
   "execution_count": 17,
   "id": "81fdb147-8a06-4a5d-a5f0-d4122477fb60",
   "metadata": {},
   "outputs": [
    {
     "name": "stdout",
     "output_type": "stream",
     "text": [
      "[[7420    2    3 ...    2    1    2]\n",
      " [8960    4    4 ...    3    0    2]\n",
      " [9960    2    2 ...    2    1    1]\n",
      " ...\n",
      " [3620    1    1 ...    0    0    0]\n",
      " [2910    1    1 ...    0    0    2]\n",
      " [3850    1    2 ...    0    0    0]]\n"
     ]
    }
   ],
   "source": [
    "print(X)"
   ]
  },
  {
   "cell_type": "code",
   "execution_count": 18,
   "id": "a77f1286-32b8-4ce3-8f8f-f7318e240e16",
   "metadata": {},
   "outputs": [
    {
     "name": "stdout",
     "output_type": "stream",
     "text": [
      "[13300000 12250000 12250000 12215000 11410000 10850000 10150000 10150000\n",
      "  9870000  9800000  9800000  9681000  9310000  9240000  9240000  9100000\n",
      "  9100000  8960000  8890000  8855000  8750000  8680000  8645000  8645000\n",
      "  8575000  8540000  8463000  8400000  8400000  8400000  8400000  8400000\n",
      "  8295000  8190000  8120000  8080940  8043000  7980000  7962500  7910000\n",
      "  7875000  7840000  7700000  7700000  7560000  7560000  7525000  7490000\n",
      "  7455000  7420000  7420000  7420000  7350000  7350000  7350000  7350000\n",
      "  7343000  7245000  7210000  7210000  7140000  7070000  7070000  7035000\n",
      "  7000000  6930000  6930000  6895000  6860000  6790000  6790000  6755000\n",
      "  6720000  6685000  6650000  6650000  6650000  6650000  6650000  6650000\n",
      "  6629000  6615000  6615000  6580000  6510000  6510000  6510000  6475000\n",
      "  6475000  6440000  6440000  6419000  6405000  6300000  6300000  6300000\n",
      "  6300000  6300000  6293000  6265000  6230000  6230000  6195000  6195000\n",
      "  6195000  6160000  6160000  6125000  6107500  6090000  6090000  6090000\n",
      "  6083000  6083000  6020000  6020000  6020000  5950000  5950000  5950000\n",
      "  5950000  5950000  5950000  5950000  5950000  5943000  5880000  5880000\n",
      "  5873000  5873000  5866000  5810000  5810000  5810000  5803000  5775000\n",
      "  5740000  5740000  5740000  5740000  5740000  5652500  5600000  5600000\n",
      "  5600000  5600000  5600000  5600000  5600000  5600000  5600000  5565000\n",
      "  5565000  5530000  5530000  5530000  5523000  5495000  5495000  5460000\n",
      "  5460000  5460000  5460000  5425000  5390000  5383000  5320000  5285000\n",
      "  5250000  5250000  5250000  5250000  5250000  5250000  5250000  5250000\n",
      "  5250000  5243000  5229000  5215000  5215000  5215000  5145000  5145000\n",
      "  5110000  5110000  5110000  5110000  5075000  5040000  5040000  5040000\n",
      "  5040000  5033000  5005000  4970000  4970000  4956000  4935000  4907000\n",
      "  4900000  4900000  4900000  4900000  4900000  4900000  4900000  4900000\n",
      "  4900000  4900000  4900000  4900000  4893000  4893000  4865000  4830000\n",
      "  4830000  4830000  4830000  4795000  4795000  4767000  4760000  4760000\n",
      "  4760000  4753000  4690000  4690000  4690000  4690000  4690000  4690000\n",
      "  4655000  4620000  4620000  4620000  4620000  4620000  4613000  4585000\n",
      "  4585000  4550000  4550000  4550000  4550000  4550000  4550000  4550000\n",
      "  4543000  4543000  4515000  4515000  4515000  4515000  4480000  4480000\n",
      "  4480000  4480000  4480000  4473000  4473000  4473000  4445000  4410000\n",
      "  4410000  4403000  4403000  4403000  4382000  4375000  4340000  4340000\n",
      "  4340000  4340000  4340000  4319000  4305000  4305000  4277000  4270000\n",
      "  4270000  4270000  4270000  4270000  4270000  4235000  4235000  4200000\n",
      "  4200000  4200000  4200000  4200000  4200000  4200000  4200000  4200000\n",
      "  4200000  4200000  4200000  4200000  4200000  4200000  4200000  4200000\n",
      "  4193000  4193000  4165000  4165000  4165000  4130000  4130000  4123000\n",
      "  4098500  4095000  4095000  4095000  4060000  4060000  4060000  4060000\n",
      "  4060000  4025000  4025000  4025000  4007500  4007500  3990000  3990000\n",
      "  3990000  3990000  3990000  3920000  3920000  3920000  3920000  3920000\n",
      "  3920000  3920000  3885000  3885000  3850000  3850000  3850000  3850000\n",
      "  3850000  3850000  3850000  3836000  3815000  3780000  3780000  3780000\n",
      "  3780000  3780000  3780000  3773000  3773000  3773000  3745000  3710000\n",
      "  3710000  3710000  3710000  3710000  3703000  3703000  3675000  3675000\n",
      "  3675000  3675000  3640000  3640000  3640000  3640000  3640000  3640000\n",
      "  3640000  3640000  3640000  3633000  3605000  3605000  3570000  3570000\n",
      "  3570000  3570000  3535000  3500000  3500000  3500000  3500000  3500000\n",
      "  3500000  3500000  3500000  3500000  3500000  3500000  3500000  3500000\n",
      "  3500000  3500000  3500000  3500000  3493000  3465000  3465000  3465000\n",
      "  3430000  3430000  3430000  3430000  3430000  3430000  3423000  3395000\n",
      "  3395000  3395000  3360000  3360000  3360000  3360000  3360000  3360000\n",
      "  3360000  3360000  3353000  3332000  3325000  3325000  3290000  3290000\n",
      "  3290000  3290000  3290000  3290000  3290000  3290000  3255000  3255000\n",
      "  3234000  3220000  3220000  3220000  3220000  3150000  3150000  3150000\n",
      "  3150000  3150000  3150000  3150000  3150000  3150000  3143000  3129000\n",
      "  3118850  3115000  3115000  3115000  3087000  3080000  3080000  3080000\n",
      "  3080000  3045000  3010000  3010000  3010000  3010000  3010000  3010000\n",
      "  3010000  3003000  2975000  2961000  2940000  2940000  2940000  2940000\n",
      "  2940000  2940000  2940000  2940000  2870000  2870000  2870000  2870000\n",
      "  2852500  2835000  2835000  2835000  2800000  2800000  2730000  2730000\n",
      "  2695000  2660000  2660000  2660000  2660000  2660000  2660000  2660000\n",
      "  2653000  2653000  2604000  2590000  2590000  2590000  2520000  2520000\n",
      "  2520000  2485000  2485000  2450000  2450000  2450000  2450000  2450000\n",
      "  2450000  2408000  2380000  2380000  2380000  2345000  2310000  2275000\n",
      "  2275000  2275000  2240000  2233000  2135000  2100000  2100000  2100000\n",
      "  1960000  1890000  1890000  1855000  1820000  1767150  1750000  1750000\n",
      "  1750000]\n"
     ]
    }
   ],
   "source": [
    "print(Y)"
   ]
  },
  {
   "cell_type": "code",
   "execution_count": 19,
   "id": "2b6aca23-bb28-4b6a-ae28-4a0d543f58ff",
   "metadata": {},
   "outputs": [],
   "source": [
    "from sklearn.model_selection import train_test_split\n",
    "X_train,X_test,Y_train,Y_test = train_test_split(X,Y, test_size=0.25,random_state=42)"
   ]
  },
  {
   "cell_type": "code",
   "execution_count": 20,
   "id": "de4ea547-15c1-4903-ad7b-32ffd75ea476",
   "metadata": {},
   "outputs": [
    {
     "name": "stdout",
     "output_type": "stream",
     "text": [
      "[[4600    2    1 ...    2    0    1]\n",
      " [5640    1    1 ...    0    0    1]\n",
      " [3520    1    2 ...    0    1    1]\n",
      " ...\n",
      " [4500    2    3 ...    1    0    2]\n",
      " [4040    1    1 ...    0    0    0]\n",
      " [5500    2    4 ...    1    0    1]]\n"
     ]
    }
   ],
   "source": [
    "print(X_train)"
   ]
  },
  {
   "cell_type": "code",
   "execution_count": 21,
   "id": "3d238102-2933-4b3c-bac1-6c811907b21e",
   "metadata": {},
   "outputs": [
    {
     "name": "stdout",
     "output_type": "stream",
     "text": [
      "[ 5285000  3675000  4200000  2275000  3570000  4620000  4200000  3087000\n",
      "  3255000  8855000  3640000  7343000  4690000  4305000  3640000  4403000\n",
      "  4270000  2940000  4795000  8540000  4235000  7700000  3500000  3360000\n",
      "  4970000  3150000  5530000  5880000  3710000  3640000  8400000  6083000\n",
      "  4760000  3080000  5243000  7245000  4550000  8575000  8960000  3500000\n",
      "  6930000  4613000  4340000  4473000  3780000  6300000  5215000  5040000\n",
      "  4515000  8645000  2660000  3118850  2450000 10850000  6020000  7560000\n",
      "  4123000  4098500  9100000  7455000  4900000  3423000 12215000  4382000\n",
      "  3850000  7140000  4970000  2380000  6090000  3710000  4200000  8400000\n",
      "  4620000  4900000  8463000 10150000  5215000  7420000  6107500  7980000\n",
      "  5495000  2450000  5950000  3465000  6020000  2450000  4900000  5250000\n",
      "  3605000  4690000  5600000  5005000  3360000  3290000  4543000  4200000\n",
      "  3395000  2653000  5652500  3395000  6895000  4270000  4690000  5250000\n",
      "  5075000  3990000  3325000  2695000  5033000  6615000  6090000  4200000\n",
      "  5600000  6405000  5565000  3080000  3150000  4480000  4277000  3465000\n",
      "  4319000  6195000  4025000  6650000  3780000  2380000  5950000  4060000\n",
      "  3885000  3500000  2852500  4200000  2940000  3920000  3290000  4130000\n",
      "  8043000  5740000  4515000  4025000  7210000  6090000  4200000  4200000\n",
      "  4445000  3430000  5600000  4403000  3290000  7962500  3773000  4935000\n",
      "  3430000  5600000  3150000  5600000  3773000  4025000  5950000  2940000\n",
      "  6300000  5600000  4585000  3010000  6300000  3150000  4200000  3500000\n",
      "  5950000  5145000  4900000  4550000  3850000  3920000  3500000  3430000\n",
      "  3150000  4060000  5943000  3850000  4760000  2485000  4795000  5873000\n",
      "  2940000  4007500  2135000  2870000  2870000  3493000  3920000  4200000\n",
      "  3395000  3570000  3255000  6083000  5215000  3815000  3570000  3640000\n",
      "  4095000  5565000  3150000  4620000  2590000  3780000  5390000  4060000\n",
      "  5740000  4956000  4480000  4655000  6020000  5950000  3500000  4760000\n",
      "  3115000  3605000  3836000  5880000  2100000  4235000  2800000  3010000\n",
      "  6125000  3360000  3675000  5810000  2310000  7560000  5250000  6930000\n",
      "  4270000  6510000  4550000  5110000  3290000  5460000  9310000  8080940\n",
      "  8400000  5250000  5600000  3150000  3535000  4767000  6300000  7420000\n",
      "  4585000  3360000  3780000  3290000  5229000  3220000  7840000  2730000\n",
      "  3220000  4900000  3500000  4270000  3745000  3500000  4480000  3010000\n",
      " 11410000  4480000  2590000  6230000  4690000  2590000  4893000  2940000\n",
      "  5250000  6293000  4200000  4830000  7070000  3465000  7490000  8295000\n",
      "  4403000  3990000  4900000  2604000  8400000  2835000  4690000  4473000\n",
      "  3640000  4200000  3360000  5460000  3500000  2940000  5740000  7070000\n",
      "  5775000  5873000  2275000  9870000  3990000  3850000  7000000  4200000\n",
      "  9240000  5523000  7875000  3633000  5110000  2100000  4830000  3430000\n",
      "  4270000  2730000  2835000  3920000  4620000  4900000  4893000  4200000\n",
      "  2485000  4515000  1960000  3129000  1750000  4200000  3780000  4375000\n",
      "  3150000  4900000  5460000  7700000  4830000  3500000  5040000  4130000\n",
      "  4473000  6160000  7350000  3500000 12250000  2660000  3710000  7420000\n",
      "  3360000  6629000  4900000  8120000  3290000  4410000  3332000  3143000\n",
      "  3220000  3675000  6419000  3885000  2345000  7350000  3850000  4410000\n",
      "  4550000  9240000  4095000  6475000  3500000  4340000  5320000  3990000\n",
      "  1855000  5803000  4165000  2870000  2240000  2653000  4060000  4550000\n",
      "  5040000  2961000  2520000  7210000  2975000  4515000  8680000  4095000\n",
      "  3115000  5460000  4305000  5040000  3570000  3430000  2835000  3850000\n",
      "  4165000  5866000  6265000  3640000  6475000  3115000  3990000  4865000\n",
      "  3010000  5950000  8750000  6755000  6160000  4340000  3290000  6195000]\n"
     ]
    }
   ],
   "source": [
    "print(Y_train)"
   ]
  },
  {
   "cell_type": "code",
   "execution_count": 22,
   "id": "eef20181-6d4b-4547-b854-55a13d87f3bd",
   "metadata": {},
   "outputs": [
    {
     "name": "stdout",
     "output_type": "stream",
     "text": [
      "[[5900    2    2 ...    1    0    0]\n",
      " [6500    2    3 ...    0    1    2]\n",
      " [4040    1    1 ...    0    0    1]\n",
      " ...\n",
      " [3650    1    2 ...    0    0    0]\n",
      " [3635    1    1 ...    0    0    0]\n",
      " [4000    1    1 ...    0    0    1]]\n"
     ]
    }
   ],
   "source": [
    "print(X_test)"
   ]
  },
  {
   "cell_type": "code",
   "execution_count": 23,
   "id": "bcaf0efc-8a5c-4175-a246-929cb69e2395",
   "metadata": {},
   "outputs": [
    {
     "name": "stdout",
     "output_type": "stream",
     "text": [
      "[ 4060000  6650000  3710000  6440000  2800000  4900000  5250000  4543000\n",
      "  2450000  3353000 10150000  2660000  3360000  3360000  2275000  2660000\n",
      "  2660000  7350000  2940000  2870000  6720000  5425000  1890000  5250000\n",
      "  4193000 12250000  3080000  5110000  9800000  2520000  6790000  3500000\n",
      "  6650000  2940000  3325000  4200000  4900000  3290000  3500000  2380000\n",
      "  5495000  3675000  6650000  4907000  3150000  4480000  6580000  5740000\n",
      "  3003000  1820000  8400000  2450000  4270000  4007500  3234000  1750000\n",
      "  9800000  2100000  4340000  3045000  3850000  3500000  4753000  3080000\n",
      "  4550000  6510000  6685000  5110000  4550000  6650000  3640000  5600000\n",
      "  3780000  6615000  3220000  6650000  4690000  4830000  6860000  2233000\n",
      "  7035000  4165000  6195000  6510000  1890000  8190000  2660000  4193000\n",
      " 13300000  9681000  4340000  8645000  3703000  5145000  6440000  5950000\n",
      "  5810000  5740000  6230000  5600000  3010000  8890000  4900000  5530000\n",
      "  9100000  3773000  7910000  7350000  5530000  7525000  6300000  3920000\n",
      "  3430000  3010000  4620000  1750000  3010000  2520000  3710000  3703000\n",
      "  2450000  4200000  3640000  3640000  5383000  1767150  5250000  3500000\n",
      "  6790000  3920000  3920000  5810000  5250000  5950000  3500000  2408000\n",
      "  2660000]\n"
     ]
    }
   ],
   "source": [
    "print(Y_test)"
   ]
  },
  {
   "cell_type": "code",
   "execution_count": 25,
   "id": "5bc5a039-b752-4fa6-86de-62577b4dcc18",
   "metadata": {},
   "outputs": [],
   "source": [
    "from sklearn.preprocessing import StandardScaler\n",
    "sc = StandardScaler()\n",
    "x_train = sc.fit_transform(X_train)\n",
    "x_test = sc.fit_transform(X_test)"
   ]
  },
  {
   "cell_type": "code",
   "execution_count": 26,
   "id": "48761ff6-b8cf-4905-8040-8e00c6bea21d",
   "metadata": {},
   "outputs": [
    {
     "name": "stdout",
     "output_type": "stream",
     "text": [
      "[[-0.25361539  1.5277588  -0.92057131 ...  1.56028336 -0.56225353\n",
      "   0.06886505]\n",
      " [ 0.21717445 -0.55694217 -0.92057131 ... -0.82396987 -0.56225353\n",
      "   0.06886505]\n",
      " [-0.74251253 -0.55694217  0.24586687 ... -0.82396987  1.77855709\n",
      "   0.06886505]\n",
      " ...\n",
      " [-0.29888364  1.5277588   1.41230505 ...  0.36815675 -0.56225353\n",
      "   1.40681449]\n",
      " [-0.50711761 -0.55694217 -0.92057131 ... -0.82396987 -0.56225353\n",
      "  -1.2690844 ]\n",
      " [ 0.15379889  1.5277588   2.57874323 ...  0.36815675 -0.56225353\n",
      "   0.06886505]]\n"
     ]
    }
   ],
   "source": [
    "print(x_train)"
   ]
  },
  {
   "cell_type": "code",
   "execution_count": 27,
   "id": "212c0341-9938-452a-9831-fdedfd2eb8eb",
   "metadata": {},
   "outputs": [
    {
     "name": "stdout",
     "output_type": "stream",
     "text": [
      "[[ 0.35378049  1.17429048  0.163605   ...  0.32421452 -0.52950338\n",
      "  -1.09985336]\n",
      " [ 0.64315853  1.17429048  1.28429923 ... -0.75913645  1.88856206\n",
      "   1.41147848]\n",
      " [-0.54329142 -0.61324058 -0.95708924 ... -0.75913645 -0.52950338\n",
      "   0.15581256]\n",
      " ...\n",
      " [-0.73138715 -0.61324058  0.163605   ... -0.75913645 -0.52950338\n",
      "  -1.09985336]\n",
      " [-0.7386216  -0.61324058 -0.95708924 ... -0.75913645 -0.52950338\n",
      "  -1.09985336]\n",
      " [-0.56258329 -0.61324058 -0.95708924 ... -0.75913645 -0.52950338\n",
      "   0.15581256]]\n"
     ]
    }
   ],
   "source": [
    "print(x_test)"
   ]
  },
  {
   "cell_type": "code",
   "execution_count": 28,
   "id": "07eec49e-07a0-4cf6-99f6-0265e660f9ff",
   "metadata": {},
   "outputs": [
    {
     "data": {
      "text/html": [
       "<style>#sk-container-id-1 {color: black;background-color: white;}#sk-container-id-1 pre{padding: 0;}#sk-container-id-1 div.sk-toggleable {background-color: white;}#sk-container-id-1 label.sk-toggleable__label {cursor: pointer;display: block;width: 100%;margin-bottom: 0;padding: 0.3em;box-sizing: border-box;text-align: center;}#sk-container-id-1 label.sk-toggleable__label-arrow:before {content: \"▸\";float: left;margin-right: 0.25em;color: #696969;}#sk-container-id-1 label.sk-toggleable__label-arrow:hover:before {color: black;}#sk-container-id-1 div.sk-estimator:hover label.sk-toggleable__label-arrow:before {color: black;}#sk-container-id-1 div.sk-toggleable__content {max-height: 0;max-width: 0;overflow: hidden;text-align: left;background-color: #f0f8ff;}#sk-container-id-1 div.sk-toggleable__content pre {margin: 0.2em;color: black;border-radius: 0.25em;background-color: #f0f8ff;}#sk-container-id-1 input.sk-toggleable__control:checked~div.sk-toggleable__content {max-height: 200px;max-width: 100%;overflow: auto;}#sk-container-id-1 input.sk-toggleable__control:checked~label.sk-toggleable__label-arrow:before {content: \"▾\";}#sk-container-id-1 div.sk-estimator input.sk-toggleable__control:checked~label.sk-toggleable__label {background-color: #d4ebff;}#sk-container-id-1 div.sk-label input.sk-toggleable__control:checked~label.sk-toggleable__label {background-color: #d4ebff;}#sk-container-id-1 input.sk-hidden--visually {border: 0;clip: rect(1px 1px 1px 1px);clip: rect(1px, 1px, 1px, 1px);height: 1px;margin: -1px;overflow: hidden;padding: 0;position: absolute;width: 1px;}#sk-container-id-1 div.sk-estimator {font-family: monospace;background-color: #f0f8ff;border: 1px dotted black;border-radius: 0.25em;box-sizing: border-box;margin-bottom: 0.5em;}#sk-container-id-1 div.sk-estimator:hover {background-color: #d4ebff;}#sk-container-id-1 div.sk-parallel-item::after {content: \"\";width: 100%;border-bottom: 1px solid gray;flex-grow: 1;}#sk-container-id-1 div.sk-label:hover label.sk-toggleable__label {background-color: #d4ebff;}#sk-container-id-1 div.sk-serial::before {content: \"\";position: absolute;border-left: 1px solid gray;box-sizing: border-box;top: 0;bottom: 0;left: 50%;z-index: 0;}#sk-container-id-1 div.sk-serial {display: flex;flex-direction: column;align-items: center;background-color: white;padding-right: 0.2em;padding-left: 0.2em;position: relative;}#sk-container-id-1 div.sk-item {position: relative;z-index: 1;}#sk-container-id-1 div.sk-parallel {display: flex;align-items: stretch;justify-content: center;background-color: white;position: relative;}#sk-container-id-1 div.sk-item::before, #sk-container-id-1 div.sk-parallel-item::before {content: \"\";position: absolute;border-left: 1px solid gray;box-sizing: border-box;top: 0;bottom: 0;left: 50%;z-index: -1;}#sk-container-id-1 div.sk-parallel-item {display: flex;flex-direction: column;z-index: 1;position: relative;background-color: white;}#sk-container-id-1 div.sk-parallel-item:first-child::after {align-self: flex-end;width: 50%;}#sk-container-id-1 div.sk-parallel-item:last-child::after {align-self: flex-start;width: 50%;}#sk-container-id-1 div.sk-parallel-item:only-child::after {width: 0;}#sk-container-id-1 div.sk-dashed-wrapped {border: 1px dashed gray;margin: 0 0.4em 0.5em 0.4em;box-sizing: border-box;padding-bottom: 0.4em;background-color: white;}#sk-container-id-1 div.sk-label label {font-family: monospace;font-weight: bold;display: inline-block;line-height: 1.2em;}#sk-container-id-1 div.sk-label-container {text-align: center;}#sk-container-id-1 div.sk-container {/* jupyter's `normalize.less` sets `[hidden] { display: none; }` but bootstrap.min.css set `[hidden] { display: none !important; }` so we also need the `!important` here to be able to override the default hidden behavior on the sphinx rendered scikit-learn.org. See: https://github.com/scikit-learn/scikit-learn/issues/21755 */display: inline-block !important;position: relative;}#sk-container-id-1 div.sk-text-repr-fallback {display: none;}</style><div id=\"sk-container-id-1\" class=\"sk-top-container\"><div class=\"sk-text-repr-fallback\"><pre>LinearRegression()</pre><b>In a Jupyter environment, please rerun this cell to show the HTML representation or trust the notebook. <br />On GitHub, the HTML representation is unable to render, please try loading this page with nbviewer.org.</b></div><div class=\"sk-container\" hidden><div class=\"sk-item\"><div class=\"sk-estimator sk-toggleable\"><input class=\"sk-toggleable__control sk-hidden--visually\" id=\"sk-estimator-id-1\" type=\"checkbox\" checked><label for=\"sk-estimator-id-1\" class=\"sk-toggleable__label sk-toggleable__label-arrow\">LinearRegression</label><div class=\"sk-toggleable__content\"><pre>LinearRegression()</pre></div></div></div></div></div>"
      ],
      "text/plain": [
       "LinearRegression()"
      ]
     },
     "execution_count": 28,
     "metadata": {},
     "output_type": "execute_result"
    }
   ],
   "source": [
    "from sklearn.linear_model import LinearRegression\n",
    "regression = LinearRegression()\n",
    "regression.fit(X_train,Y_train)"
   ]
  },
  {
   "cell_type": "code",
   "execution_count": 29,
   "id": "cbdc73f5-f986-41e4-ac7a-9a6515cf2181",
   "metadata": {},
   "outputs": [
    {
     "name": "stdout",
     "output_type": "stream",
     "text": [
      "[5024088.17644776 6919530.54631147 3310385.45238972 4018601.26198219\n",
      " 3542959.03208864 3796874.88193105 5370066.67137883 6642151.58485472\n",
      " 3358946.47408407 2853062.6051143  9318495.36672832 3026371.21126054\n",
      " 2625759.36415746 3151704.70965641 3479043.08987686 5765961.95528695\n",
      " 3188913.1743973  4323456.23555655 4281971.8311773  3852448.33627852\n",
      " 5373820.5465998  5382514.2741616  2947550.84293998 5016920.01845819\n",
      " 5323687.02120891 7745005.00322071 3375898.62681294 5372836.43715245\n",
      " 7826051.09251419 3720174.46562678 5530709.58972424 3526955.67147504\n",
      " 6645240.14630266 4465250.01579873 3701676.06004548 5260682.69738417\n",
      " 5069626.14466793 3260558.56014617 2559384.31715067 4730982.25207431\n",
      " 4966024.2202457  2942296.1517186  6897405.53064254 4335040.57374131\n",
      " 4059870.35817475 3848935.90396716 6250310.84164049 4202029.56455258\n",
      " 4164703.26742702 3334043.39948692 7294761.69916297 3051052.52640635\n",
      " 4879653.77640203 3538892.48386269 3387777.40024252 2911140.77124524\n",
      " 7511364.15918504 3044839.6573741  4419617.17098156 2989311.81001508\n",
      " 4708238.92077592 3699838.75344814 4823108.54169935 3310124.53721458\n",
      " 5148402.36622329 4758133.794146   7389902.43746294 3210777.27489108\n",
      " 6438619.69491621 5892061.58284626 4616536.46392682 5556397.53285694\n",
      " 5053888.27479486 7423340.95970797 2963658.71451407 5400149.03658174\n",
      " 4205692.1148129  4243676.92462011 4390137.80472694 3781683.80655646\n",
      " 7446793.51505198 4330145.32795063 6906464.68433999 5387433.37320619\n",
      " 2851245.77027096 7188540.19881288 2712749.11415345 3872919.95647723\n",
      " 7739949.97266531 8100011.8450678  2821212.28810175 5540037.66210291\n",
      " 3955037.44892248 3237439.14537351 7968807.33602795 4496714.68358954\n",
      " 5715972.74814585 5940299.70710032 5346845.89212865 5807056.97739918\n",
      " 4097832.66342686 6381318.4966922  3899894.61094838 5687875.96034954\n",
      " 4861145.70400497 4748629.30325488 6533301.71472106 6230816.80245007\n",
      " 6489455.97099735 6788000.31008891 6103011.83122025 4069115.75004571\n",
      " 3821873.20644266 3418199.2967873  4021366.88894081 3445855.56637347\n",
      " 3000778.37974584 2476415.50839218 3857979.59019576 3673724.49244473\n",
      " 4067906.32387545 5232682.24674972 3623116.60690006 3720174.46562678\n",
      " 5891353.45444518 2515395.20098796 5192826.87741121 3650147.58962895\n",
      " 8588782.14077384 6957250.51919942 3465475.87025893 4516629.42271982\n",
      " 6572099.29250227 6933195.72541627 3390543.02720114 2602251.53500923\n",
      " 3299322.94455526]\n"
     ]
    }
   ],
   "source": [
    "Y_pred = regression.predict(X_test)\n",
    "print(Y_pred)"
   ]
  },
  {
   "cell_type": "code",
   "execution_count": 35,
   "id": "bf42ef1e-4701-494b-9cd3-49f804558733",
   "metadata": {},
   "outputs": [],
   "source": [
    "from sklearn.metrics import mean_squared_error, r2_score"
   ]
  },
  {
   "cell_type": "code",
   "execution_count": 36,
   "id": "08c7dbfe-4bb4-4ea0-b455-8266cb91243f",
   "metadata": {},
   "outputs": [
    {
     "name": "stdout",
     "output_type": "stream",
     "text": [
      "Mean Squared Error: 1762440300365.03\n",
      "R-Squared: 0.62\n"
     ]
    }
   ],
   "source": [
    "mse = mean_squared_error(Y_test, Y_pred)\n",
    "r2 = r2_score(Y_test, Y_pred)\n",
    "\n",
    "print(f\"Mean Squared Error: {mse:.2f}\")\n",
    "print(f\"R-Squared: {r2:.2f}\")"
   ]
  },
  {
   "cell_type": "code",
   "execution_count": 43,
   "id": "5e7b6015-17ac-430a-8eab-c77cd6b1909d",
   "metadata": {},
   "outputs": [
    {
     "name": "stdout",
     "output_type": "stream",
     "text": [
      "Predicted price: 5024088.18\n"
     ]
    }
   ],
   "source": [
    "prediction = regression.predict(X_test)[0]\n",
    "print(f\"Predicted price: {prediction:.2f}\")"
   ]
  },
  {
   "cell_type": "code",
   "execution_count": 44,
   "id": "68efddbc-47a3-459f-9192-6912ef0c2abb",
   "metadata": {},
   "outputs": [
    {
     "name": "stdout",
     "output_type": "stream",
     "text": [
      "[Info] Saving Model\n"
     ]
    }
   ],
   "source": [
    "import pickle\n",
    "print(\"[Info] Saving Model\")\n",
    "saved_model = pickle.dump(regression,open('model1.pkl','wb'))"
   ]
  },
  {
   "cell_type": "code",
   "execution_count": 45,
   "id": "280d2ebb-c824-470a-8dee-3db344c2cb76",
   "metadata": {},
   "outputs": [
    {
     "data": {
      "text/plain": [
       "array([5024088.17644776, 6919530.54631147, 3310385.45238972,\n",
       "       4018601.26198219, 3542959.03208864, 3796874.88193105,\n",
       "       5370066.67137883, 6642151.58485472, 3358946.47408407,\n",
       "       2853062.6051143 , 9318495.36672832, 3026371.21126054,\n",
       "       2625759.36415746, 3151704.70965641, 3479043.08987686,\n",
       "       5765961.95528695, 3188913.1743973 , 4323456.23555655,\n",
       "       4281971.8311773 , 3852448.33627852, 5373820.5465998 ,\n",
       "       5382514.2741616 , 2947550.84293998, 5016920.01845819,\n",
       "       5323687.02120891, 7745005.00322071, 3375898.62681294,\n",
       "       5372836.43715245, 7826051.09251419, 3720174.46562678,\n",
       "       5530709.58972424, 3526955.67147504, 6645240.14630266,\n",
       "       4465250.01579873, 3701676.06004548, 5260682.69738417,\n",
       "       5069626.14466793, 3260558.56014617, 2559384.31715067,\n",
       "       4730982.25207431, 4966024.2202457 , 2942296.1517186 ,\n",
       "       6897405.53064254, 4335040.57374131, 4059870.35817475,\n",
       "       3848935.90396716, 6250310.84164049, 4202029.56455258,\n",
       "       4164703.26742702, 3334043.39948692, 7294761.69916297,\n",
       "       3051052.52640635, 4879653.77640203, 3538892.48386269,\n",
       "       3387777.40024252, 2911140.77124524, 7511364.15918504,\n",
       "       3044839.6573741 , 4419617.17098156, 2989311.81001508,\n",
       "       4708238.92077592, 3699838.75344814, 4823108.54169935,\n",
       "       3310124.53721458, 5148402.36622329, 4758133.794146  ,\n",
       "       7389902.43746294, 3210777.27489108, 6438619.69491621,\n",
       "       5892061.58284626, 4616536.46392682, 5556397.53285694,\n",
       "       5053888.27479486, 7423340.95970797, 2963658.71451407,\n",
       "       5400149.03658174, 4205692.1148129 , 4243676.92462011,\n",
       "       4390137.80472694, 3781683.80655646, 7446793.51505198,\n",
       "       4330145.32795063, 6906464.68433999, 5387433.37320619,\n",
       "       2851245.77027096, 7188540.19881288, 2712749.11415345,\n",
       "       3872919.95647723, 7739949.97266531, 8100011.8450678 ,\n",
       "       2821212.28810175, 5540037.66210291, 3955037.44892248,\n",
       "       3237439.14537351, 7968807.33602795, 4496714.68358954,\n",
       "       5715972.74814585, 5940299.70710032, 5346845.89212865,\n",
       "       5807056.97739918, 4097832.66342686, 6381318.4966922 ,\n",
       "       3899894.61094838, 5687875.96034954, 4861145.70400497,\n",
       "       4748629.30325488, 6533301.71472106, 6230816.80245007,\n",
       "       6489455.97099735, 6788000.31008891, 6103011.83122025,\n",
       "       4069115.75004571, 3821873.20644266, 3418199.2967873 ,\n",
       "       4021366.88894081, 3445855.56637347, 3000778.37974584,\n",
       "       2476415.50839218, 3857979.59019576, 3673724.49244473,\n",
       "       4067906.32387545, 5232682.24674972, 3623116.60690006,\n",
       "       3720174.46562678, 5891353.45444518, 2515395.20098796,\n",
       "       5192826.87741121, 3650147.58962895, 8588782.14077384,\n",
       "       6957250.51919942, 3465475.87025893, 4516629.42271982,\n",
       "       6572099.29250227, 6933195.72541627, 3390543.02720114,\n",
       "       2602251.53500923, 3299322.94455526])"
      ]
     },
     "execution_count": 45,
     "metadata": {},
     "output_type": "execute_result"
    }
   ],
   "source": [
    "model = pickle.load(open('model1.pkl','rb'))\n",
    "model.predict(X_test)"
   ]
  },
  {
   "cell_type": "code",
   "execution_count": null,
   "id": "0092feaa-53f9-4752-9452-5f3b4d89bd42",
   "metadata": {},
   "outputs": [],
   "source": []
  }
 ],
 "metadata": {
  "kernelspec": {
   "display_name": "Python 3 (ipykernel)",
   "language": "python",
   "name": "python3"
  },
  "language_info": {
   "codemirror_mode": {
    "name": "ipython",
    "version": 3
   },
   "file_extension": ".py",
   "mimetype": "text/x-python",
   "name": "python",
   "nbconvert_exporter": "python",
   "pygments_lexer": "ipython3",
   "version": "3.11.7"
  }
 },
 "nbformat": 4,
 "nbformat_minor": 5
}
