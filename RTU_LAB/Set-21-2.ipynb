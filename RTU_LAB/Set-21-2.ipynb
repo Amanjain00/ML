{
 "cells": [
  {
   "cell_type": "markdown",
   "id": "5d8edede-5e87-4858-9d74-77c420af429a",
   "metadata": {},
   "source": [
    "Q2. This data set contains details of a startups and the target variable is a continuous variable.\r\n",
    "Dataset contains input features and predicting profit. Construct two clusters using K Means\r\n",
    "Algorithm using independent variable (R&amp;D Spend , Marketing Spend , State ) to predict profit\r\n",
    "based on given data using Jupyter notebook and Deploy model on local host using Flask"
   ]
  },
  {
   "cell_type": "code",
   "execution_count": 1,
   "id": "ae2f87d1-c78b-402c-adac-4716bbc1aaaf",
   "metadata": {},
   "outputs": [],
   "source": [
    "import numpy as np\n",
    "import matplotlib.pyplot as plt\n",
    "import pandas as pd"
   ]
  },
  {
   "cell_type": "code",
   "execution_count": 2,
   "id": "cf0d20ca-0a27-4267-94a3-e8570e9002d0",
   "metadata": {},
   "outputs": [],
   "source": [
    "dataset = pd.read_csv('./SET 22-2.csv')"
   ]
  },
  {
   "cell_type": "code",
   "execution_count": 3,
   "id": "552134e9-d676-455a-8c63-d813c9df2356",
   "metadata": {},
   "outputs": [
    {
     "name": "stdout",
     "output_type": "stream",
     "text": [
      "    R&D Spend  Administration  Marketing Spend       State     Profit\n",
      "0   165349.20       136897.80        471784.10    New York  192261.83\n",
      "1   162597.70       151377.59        443898.53  California  191792.06\n",
      "2   153441.51       101145.55        407934.54     Florida  191050.39\n",
      "3   144372.41       118671.85        383199.62    New York  182901.99\n",
      "4   142107.34        91391.77        366168.42     Florida  166187.94\n",
      "5   131876.90        99814.71        362861.36    New York  156991.12\n",
      "6   134615.46       147198.87        127716.82  California  156122.51\n",
      "7   130298.13       145530.06        323876.68     Florida  155752.60\n",
      "8   120542.52       148718.95        311613.29    New York  152211.77\n",
      "9   123334.88       108679.17        304981.62  California  149759.96\n",
      "10  101913.08       110594.11        229160.95     Florida  146121.95\n",
      "11  100671.96        91790.61        249744.55  California  144259.40\n",
      "12   93863.75       127320.38        249839.44     Florida  141585.52\n",
      "13   91992.39       135495.07        252664.93  California  134307.35\n",
      "14  119943.24       156547.42        256512.92     Florida  132602.65\n",
      "15  114523.61       122616.84        261776.23    New York  129917.04\n",
      "16   78013.11       121597.55        264346.06  California  126992.93\n",
      "17   94657.16       145077.58        282574.31    New York  125370.37\n",
      "18   91749.16       114175.79        294919.57     Florida  124266.90\n",
      "19   86419.70       153514.11             0.00    New York  122776.86\n",
      "20   76253.86       113867.30        298664.47  California  118474.03\n",
      "21   78389.47       153773.43        299737.29    New York  111313.02\n",
      "22   73994.56       122782.75        303319.26     Florida  110352.25\n",
      "23   67532.53       105751.03        304768.73     Florida  108733.99\n",
      "24   77044.01        99281.34        140574.81    New York  108552.04\n",
      "25   64664.71       139553.16        137962.62  California  107404.34\n",
      "26   75328.87       144135.98        134050.07     Florida  105733.54\n",
      "27   72107.60       127864.55        353183.81    New York  105008.31\n",
      "28   66051.52       182645.56        118148.20     Florida  103282.38\n",
      "29   65605.48       153032.06        107138.38    New York  101004.64\n",
      "30   61994.48       115641.28         91131.24     Florida   99937.59\n",
      "31   61136.38       152701.92         88218.23    New York   97483.56\n",
      "32   63408.86       129219.61         46085.25  California   97427.84\n",
      "33   55493.95       103057.49        214634.81     Florida   96778.92\n",
      "34   46426.07       157693.92        210797.67  California   96712.80\n",
      "35   46014.02        85047.44        205517.64    New York   96479.51\n",
      "36   28663.76       127056.21        201126.82     Florida   90708.19\n",
      "37   44069.95        51283.14        197029.42  California   89949.14\n",
      "38   20229.59        65947.93        185265.10    New York   81229.06\n",
      "39   38558.51        82982.09        174999.30  California   81005.76\n",
      "40   28754.33       118546.05        172795.67  California   78239.91\n",
      "41   27892.92        84710.77        164470.71     Florida   77798.83\n",
      "42   23640.93        96189.63        148001.11  California   71498.49\n",
      "43   15505.73       127382.30         35534.17    New York   69758.98\n",
      "44   22177.74       154806.14         28334.72  California   65200.33\n",
      "45    1000.23       124153.04          1903.93    New York   64926.08\n",
      "46    1315.46       115816.21        297114.46     Florida   49490.75\n",
      "47       0.00       135426.92             0.00  California   42559.73\n",
      "48     542.05        51743.15             0.00    New York   35673.41\n",
      "49       0.00       116983.80         45173.06  California   14681.40\n"
     ]
    }
   ],
   "source": [
    "print(dataset)"
   ]
  },
  {
   "cell_type": "code",
   "execution_count": 15,
   "id": "f5318252-48f3-4cad-a89c-553678ef0f62",
   "metadata": {},
   "outputs": [
    {
     "name": "stdout",
     "output_type": "stream",
     "text": [
      "    R&D Spend  Administration  Marketing Spend  State     Profit\n",
      "0   165349.20       136897.80        471784.10      1  192261.83\n",
      "1   162597.70       151377.59        443898.53      2  191792.06\n",
      "2   153441.51       101145.55        407934.54      3  191050.39\n",
      "3   144372.41       118671.85        383199.62      1  182901.99\n",
      "4   142107.34        91391.77        366168.42      3  166187.94\n",
      "5   131876.90        99814.71        362861.36      1  156991.12\n",
      "6   134615.46       147198.87        127716.82      2  156122.51\n",
      "7   130298.13       145530.06        323876.68      3  155752.60\n",
      "8   120542.52       148718.95        311613.29      1  152211.77\n",
      "9   123334.88       108679.17        304981.62      2  149759.96\n",
      "10  101913.08       110594.11        229160.95      3  146121.95\n",
      "11  100671.96        91790.61        249744.55      2  144259.40\n",
      "12   93863.75       127320.38        249839.44      3  141585.52\n",
      "13   91992.39       135495.07        252664.93      2  134307.35\n",
      "14  119943.24       156547.42        256512.92      3  132602.65\n",
      "15  114523.61       122616.84        261776.23      1  129917.04\n",
      "16   78013.11       121597.55        264346.06      2  126992.93\n",
      "17   94657.16       145077.58        282574.31      1  125370.37\n",
      "18   91749.16       114175.79        294919.57      3  124266.90\n",
      "19   86419.70       153514.11             0.00      1  122776.86\n",
      "20   76253.86       113867.30        298664.47      2  118474.03\n",
      "21   78389.47       153773.43        299737.29      1  111313.02\n",
      "22   73994.56       122782.75        303319.26      3  110352.25\n",
      "23   67532.53       105751.03        304768.73      3  108733.99\n",
      "24   77044.01        99281.34        140574.81      1  108552.04\n",
      "25   64664.71       139553.16        137962.62      2  107404.34\n",
      "26   75328.87       144135.98        134050.07      3  105733.54\n",
      "27   72107.60       127864.55        353183.81      1  105008.31\n",
      "28   66051.52       182645.56        118148.20      3  103282.38\n",
      "29   65605.48       153032.06        107138.38      1  101004.64\n",
      "30   61994.48       115641.28         91131.24      3   99937.59\n",
      "31   61136.38       152701.92         88218.23      1   97483.56\n",
      "32   63408.86       129219.61         46085.25      2   97427.84\n",
      "33   55493.95       103057.49        214634.81      3   96778.92\n",
      "34   46426.07       157693.92        210797.67      2   96712.80\n",
      "35   46014.02        85047.44        205517.64      1   96479.51\n",
      "36   28663.76       127056.21        201126.82      3   90708.19\n",
      "37   44069.95        51283.14        197029.42      2   89949.14\n",
      "38   20229.59        65947.93        185265.10      1   81229.06\n",
      "39   38558.51        82982.09        174999.30      2   81005.76\n",
      "40   28754.33       118546.05        172795.67      2   78239.91\n",
      "41   27892.92        84710.77        164470.71      3   77798.83\n",
      "42   23640.93        96189.63        148001.11      2   71498.49\n",
      "43   15505.73       127382.30         35534.17      1   69758.98\n",
      "44   22177.74       154806.14         28334.72      2   65200.33\n",
      "45    1000.23       124153.04          1903.93      1   64926.08\n",
      "46    1315.46       115816.21        297114.46      3   49490.75\n",
      "47       0.00       135426.92             0.00      2   42559.73\n",
      "48     542.05        51743.15             0.00      1   35673.41\n",
      "49       0.00       116983.80         45173.06      2   14681.40\n"
     ]
    }
   ],
   "source": [
    "dataset['State'].replace(['New York','California','Florida'],[1,2,3],inplace=True)\n",
    "print(dataset)"
   ]
  },
  {
   "cell_type": "code",
   "execution_count": 16,
   "id": "acd9710b-7db8-42d8-bace-7810c38e1c7a",
   "metadata": {},
   "outputs": [
    {
     "data": {
      "text/plain": [
       "R&D Spend          0\n",
       "Administration     0\n",
       "Marketing Spend    0\n",
       "State              0\n",
       "Profit             0\n",
       "dtype: int64"
      ]
     },
     "execution_count": 16,
     "metadata": {},
     "output_type": "execute_result"
    }
   ],
   "source": [
    "dataset.isnull().sum()"
   ]
  },
  {
   "cell_type": "code",
   "execution_count": 17,
   "id": "b3429f77-90cd-4111-9691-cde2a521cb8c",
   "metadata": {},
   "outputs": [
    {
     "name": "stdout",
     "output_type": "stream",
     "text": [
      "<class 'pandas.core.frame.DataFrame'>\n",
      "RangeIndex: 50 entries, 0 to 49\n",
      "Data columns (total 5 columns):\n",
      " #   Column           Non-Null Count  Dtype  \n",
      "---  ------           --------------  -----  \n",
      " 0   R&D Spend        50 non-null     float64\n",
      " 1   Administration   50 non-null     float64\n",
      " 2   Marketing Spend  50 non-null     float64\n",
      " 3   State            50 non-null     int64  \n",
      " 4   Profit           50 non-null     float64\n",
      "dtypes: float64(4), int64(1)\n",
      "memory usage: 2.1 KB\n"
     ]
    }
   ],
   "source": [
    "dataset.info()"
   ]
  },
  {
   "cell_type": "code",
   "execution_count": 18,
   "id": "abb35082-4f11-4279-92c9-33c38679c757",
   "metadata": {},
   "outputs": [],
   "source": [
    "X = dataset.iloc[:,[0,2,3]].values\n",
    "Y = dataset.iloc[:,4].values"
   ]
  },
  {
   "cell_type": "code",
   "execution_count": 19,
   "id": "6e9db59b-f3c9-46b1-87c5-9dcc0ff26cf7",
   "metadata": {},
   "outputs": [
    {
     "name": "stdout",
     "output_type": "stream",
     "text": [
      "[[1.6534920e+05 4.7178410e+05 1.0000000e+00]\n",
      " [1.6259770e+05 4.4389853e+05 2.0000000e+00]\n",
      " [1.5344151e+05 4.0793454e+05 3.0000000e+00]\n",
      " [1.4437241e+05 3.8319962e+05 1.0000000e+00]\n",
      " [1.4210734e+05 3.6616842e+05 3.0000000e+00]\n",
      " [1.3187690e+05 3.6286136e+05 1.0000000e+00]\n",
      " [1.3461546e+05 1.2771682e+05 2.0000000e+00]\n",
      " [1.3029813e+05 3.2387668e+05 3.0000000e+00]\n",
      " [1.2054252e+05 3.1161329e+05 1.0000000e+00]\n",
      " [1.2333488e+05 3.0498162e+05 2.0000000e+00]\n",
      " [1.0191308e+05 2.2916095e+05 3.0000000e+00]\n",
      " [1.0067196e+05 2.4974455e+05 2.0000000e+00]\n",
      " [9.3863750e+04 2.4983944e+05 3.0000000e+00]\n",
      " [9.1992390e+04 2.5266493e+05 2.0000000e+00]\n",
      " [1.1994324e+05 2.5651292e+05 3.0000000e+00]\n",
      " [1.1452361e+05 2.6177623e+05 1.0000000e+00]\n",
      " [7.8013110e+04 2.6434606e+05 2.0000000e+00]\n",
      " [9.4657160e+04 2.8257431e+05 1.0000000e+00]\n",
      " [9.1749160e+04 2.9491957e+05 3.0000000e+00]\n",
      " [8.6419700e+04 0.0000000e+00 1.0000000e+00]\n",
      " [7.6253860e+04 2.9866447e+05 2.0000000e+00]\n",
      " [7.8389470e+04 2.9973729e+05 1.0000000e+00]\n",
      " [7.3994560e+04 3.0331926e+05 3.0000000e+00]\n",
      " [6.7532530e+04 3.0476873e+05 3.0000000e+00]\n",
      " [7.7044010e+04 1.4057481e+05 1.0000000e+00]\n",
      " [6.4664710e+04 1.3796262e+05 2.0000000e+00]\n",
      " [7.5328870e+04 1.3405007e+05 3.0000000e+00]\n",
      " [7.2107600e+04 3.5318381e+05 1.0000000e+00]\n",
      " [6.6051520e+04 1.1814820e+05 3.0000000e+00]\n",
      " [6.5605480e+04 1.0713838e+05 1.0000000e+00]\n",
      " [6.1994480e+04 9.1131240e+04 3.0000000e+00]\n",
      " [6.1136380e+04 8.8218230e+04 1.0000000e+00]\n",
      " [6.3408860e+04 4.6085250e+04 2.0000000e+00]\n",
      " [5.5493950e+04 2.1463481e+05 3.0000000e+00]\n",
      " [4.6426070e+04 2.1079767e+05 2.0000000e+00]\n",
      " [4.6014020e+04 2.0551764e+05 1.0000000e+00]\n",
      " [2.8663760e+04 2.0112682e+05 3.0000000e+00]\n",
      " [4.4069950e+04 1.9702942e+05 2.0000000e+00]\n",
      " [2.0229590e+04 1.8526510e+05 1.0000000e+00]\n",
      " [3.8558510e+04 1.7499930e+05 2.0000000e+00]\n",
      " [2.8754330e+04 1.7279567e+05 2.0000000e+00]\n",
      " [2.7892920e+04 1.6447071e+05 3.0000000e+00]\n",
      " [2.3640930e+04 1.4800111e+05 2.0000000e+00]\n",
      " [1.5505730e+04 3.5534170e+04 1.0000000e+00]\n",
      " [2.2177740e+04 2.8334720e+04 2.0000000e+00]\n",
      " [1.0002300e+03 1.9039300e+03 1.0000000e+00]\n",
      " [1.3154600e+03 2.9711446e+05 3.0000000e+00]\n",
      " [0.0000000e+00 0.0000000e+00 2.0000000e+00]\n",
      " [5.4205000e+02 0.0000000e+00 1.0000000e+00]\n",
      " [0.0000000e+00 4.5173060e+04 2.0000000e+00]]\n"
     ]
    }
   ],
   "source": [
    "print(X)"
   ]
  },
  {
   "cell_type": "code",
   "execution_count": 20,
   "id": "3e574738-94ca-4e96-b482-1920ee6b4bdb",
   "metadata": {},
   "outputs": [
    {
     "name": "stdout",
     "output_type": "stream",
     "text": [
      "[192261.83 191792.06 191050.39 182901.99 166187.94 156991.12 156122.51\n",
      " 155752.6  152211.77 149759.96 146121.95 144259.4  141585.52 134307.35\n",
      " 132602.65 129917.04 126992.93 125370.37 124266.9  122776.86 118474.03\n",
      " 111313.02 110352.25 108733.99 108552.04 107404.34 105733.54 105008.31\n",
      " 103282.38 101004.64  99937.59  97483.56  97427.84  96778.92  96712.8\n",
      "  96479.51  90708.19  89949.14  81229.06  81005.76  78239.91  77798.83\n",
      "  71498.49  69758.98  65200.33  64926.08  49490.75  42559.73  35673.41\n",
      "  14681.4 ]\n"
     ]
    }
   ],
   "source": [
    "print(Y)"
   ]
  },
  {
   "cell_type": "code",
   "execution_count": 21,
   "id": "79456994-0ae9-48e7-a85b-53f938a7eadc",
   "metadata": {},
   "outputs": [],
   "source": [
    "from sklearn.model_selection import train_test_split\n",
    "X_train,X_test,Y_train,Y_test = train_test_split(X,Y, test_size=0.25,random_state=42)"
   ]
  },
  {
   "cell_type": "code",
   "execution_count": 22,
   "id": "78de41b4-68a2-416b-ae58-fb9ca65aa9d1",
   "metadata": {},
   "outputs": [
    {
     "name": "stdout",
     "output_type": "stream",
     "text": [
      "[[1.2054252e+05 3.1161329e+05 1.0000000e+00]\n",
      " [1.4437241e+05 3.8319962e+05 1.0000000e+00]\n",
      " [1.3461546e+05 1.2771682e+05 2.0000000e+00]\n",
      " [2.7892920e+04 1.6447071e+05 3.0000000e+00]\n",
      " [1.3154600e+03 2.9711446e+05 3.0000000e+00]\n",
      " [0.0000000e+00 0.0000000e+00 2.0000000e+00]\n",
      " [1.1452361e+05 2.6177623e+05 1.0000000e+00]\n",
      " [1.2333488e+05 3.0498162e+05 2.0000000e+00]\n",
      " [7.8013110e+04 2.6434606e+05 2.0000000e+00]\n",
      " [7.7044010e+04 1.4057481e+05 1.0000000e+00]\n",
      " [4.6426070e+04 2.1079767e+05 2.0000000e+00]\n",
      " [6.1136380e+04 8.8218230e+04 1.0000000e+00]\n",
      " [1.6534920e+05 4.7178410e+05 1.0000000e+00]\n",
      " [2.2177740e+04 2.8334720e+04 2.0000000e+00]\n",
      " [7.2107600e+04 3.5318381e+05 1.0000000e+00]\n",
      " [5.5493950e+04 2.1463481e+05 3.0000000e+00]\n",
      " [1.3187690e+05 3.6286136e+05 1.0000000e+00]\n",
      " [6.5605480e+04 1.0713838e+05 1.0000000e+00]\n",
      " [1.0067196e+05 2.4974455e+05 2.0000000e+00]\n",
      " [2.8663760e+04 2.0112682e+05 3.0000000e+00]\n",
      " [1.6259770e+05 4.4389853e+05 2.0000000e+00]\n",
      " [7.8389470e+04 2.9973729e+05 1.0000000e+00]\n",
      " [1.5344151e+05 4.0793454e+05 3.0000000e+00]\n",
      " [1.5505730e+04 3.5534170e+04 1.0000000e+00]\n",
      " [4.6014020e+04 2.0551764e+05 1.0000000e+00]\n",
      " [6.7532530e+04 3.0476873e+05 3.0000000e+00]\n",
      " [2.8754330e+04 1.7279567e+05 2.0000000e+00]\n",
      " [1.0191308e+05 2.2916095e+05 3.0000000e+00]\n",
      " [7.3994560e+04 3.0331926e+05 3.0000000e+00]\n",
      " [9.1749160e+04 2.9491957e+05 3.0000000e+00]\n",
      " [0.0000000e+00 4.5173060e+04 2.0000000e+00]\n",
      " [7.6253860e+04 2.9866447e+05 2.0000000e+00]\n",
      " [1.3029813e+05 3.2387668e+05 3.0000000e+00]\n",
      " [2.3640930e+04 1.4800111e+05 2.0000000e+00]\n",
      " [1.1994324e+05 2.5651292e+05 3.0000000e+00]\n",
      " [6.6051520e+04 1.1814820e+05 3.0000000e+00]\n",
      " [2.0229590e+04 1.8526510e+05 1.0000000e+00]]\n"
     ]
    }
   ],
   "source": [
    "print(X_train)"
   ]
  },
  {
   "cell_type": "code",
   "execution_count": 23,
   "id": "976e5b0c-b17e-4e40-af22-e83ae951e6e6",
   "metadata": {},
   "outputs": [
    {
     "name": "stdout",
     "output_type": "stream",
     "text": [
      "[[9.1992390e+04 2.5266493e+05 2.0000000e+00]\n",
      " [3.8558510e+04 1.7499930e+05 2.0000000e+00]\n",
      " [6.1994480e+04 9.1131240e+04 3.0000000e+00]\n",
      " [1.0002300e+03 1.9039300e+03 1.0000000e+00]\n",
      " [9.4657160e+04 2.8257431e+05 1.0000000e+00]\n",
      " [5.4205000e+02 0.0000000e+00 1.0000000e+00]\n",
      " [7.5328870e+04 1.3405007e+05 3.0000000e+00]\n",
      " [6.4664710e+04 1.3796262e+05 2.0000000e+00]\n",
      " [6.3408860e+04 4.6085250e+04 2.0000000e+00]\n",
      " [8.6419700e+04 0.0000000e+00 1.0000000e+00]\n",
      " [9.3863750e+04 2.4983944e+05 3.0000000e+00]\n",
      " [1.4210734e+05 3.6616842e+05 3.0000000e+00]\n",
      " [4.4069950e+04 1.9702942e+05 2.0000000e+00]]\n"
     ]
    }
   ],
   "source": [
    "print(X_test)"
   ]
  },
  {
   "cell_type": "code",
   "execution_count": 24,
   "id": "4f8dbd2d-8a9b-4e12-8099-cdc9d949688d",
   "metadata": {},
   "outputs": [
    {
     "name": "stdout",
     "output_type": "stream",
     "text": [
      "[152211.77 182901.99 156122.51  77798.83  49490.75  42559.73 129917.04\n",
      " 149759.96 126992.93 108552.04  96712.8   97483.56 192261.83  65200.33\n",
      " 105008.31  96778.92 156991.12 101004.64 144259.4   90708.19 191792.06\n",
      " 111313.02 191050.39  69758.98  96479.51 108733.99  78239.91 146121.95\n",
      " 110352.25 124266.9   14681.4  118474.03 155752.6   71498.49 132602.65\n",
      " 103282.38  81229.06]\n"
     ]
    }
   ],
   "source": [
    "print(Y_train)"
   ]
  },
  {
   "cell_type": "code",
   "execution_count": 25,
   "id": "8950a755-1423-477d-8f81-3df633dac53f",
   "metadata": {},
   "outputs": [
    {
     "name": "stdout",
     "output_type": "stream",
     "text": [
      "[134307.35  81005.76  99937.59  64926.08 125370.37  35673.41 105733.54\n",
      " 107404.34  97427.84 122776.86 141585.52 166187.94  89949.14]\n"
     ]
    }
   ],
   "source": [
    "print(Y_test)"
   ]
  },
  {
   "cell_type": "code",
   "execution_count": 26,
   "id": "cde3966f-fe2a-401b-86a9-2e285990e2db",
   "metadata": {},
   "outputs": [],
   "source": [
    "from sklearn.preprocessing import StandardScaler\n",
    "sc = StandardScaler()\n",
    "x_train = sc.fit_transform(X_train) \n",
    "x_test = sc.fit_transform(X_test)"
   ]
  },
  {
   "cell_type": "markdown",
   "id": "d351fe67-96e7-4e56-bda2-f5bdbbb75328",
   "metadata": {},
   "source": [
    "# Construct two clusters using K Means \n",
    "Algorithm using independent variable"
   ]
  },
  {
   "cell_type": "code",
   "execution_count": 27,
   "id": "c4a50a4a-9802-485c-85e3-fab20dfb3759",
   "metadata": {},
   "outputs": [
    {
     "name": "stdout",
     "output_type": "stream",
     "text": [
      "KMeans(n_clusters=2, random_state=42)\n"
     ]
    },
    {
     "name": "stderr",
     "output_type": "stream",
     "text": [
      "C:\\Users\\DELL\\anaconda3\\Lib\\site-packages\\sklearn\\cluster\\_kmeans.py:870: FutureWarning: The default value of `n_init` will change from 10 to 'auto' in 1.4. Set the value of `n_init` explicitly to suppress the warning\n",
      "  warnings.warn(\n",
      "C:\\Users\\DELL\\anaconda3\\Lib\\site-packages\\sklearn\\cluster\\_kmeans.py:1382: UserWarning: KMeans is known to have a memory leak on Windows with MKL, when there are less chunks than available threads. You can avoid it by setting the environment variable OMP_NUM_THREADS=1.\n",
      "  warnings.warn(\n"
     ]
    }
   ],
   "source": [
    "from sklearn.cluster import KMeans\n",
    "kmeans = KMeans(n_clusters=2,init='k-means++',random_state=42)\n",
    "print(kmeans)\n",
    "y_means = kmeans.fit_predict(X)"
   ]
  },
  {
   "cell_type": "code",
   "execution_count": 28,
   "id": "00fe6d67-00a5-4efc-8182-25bb51d879ca",
   "metadata": {},
   "outputs": [
    {
     "name": "stdout",
     "output_type": "stream",
     "text": [
      "[1 1 1 1 1 1 0 1 1 1 1 1 1 1 1 1 1 1 1 0 1 1 1 1 0 0 0 1 0 0 0 0 0 0 0 0 0\n",
      " 0 0 0 0 0 0 0 0 0 1 0 0 0]\n"
     ]
    }
   ],
   "source": [
    "print(y_means)"
   ]
  },
  {
   "cell_type": "code",
   "execution_count": 29,
   "id": "04a0f4a4-d9cf-4bba-bc51-9eab62db948e",
   "metadata": {},
   "outputs": [
    {
     "name": "stdout",
     "output_type": "stream",
     "text": [
      "[INFO] Saving model...\n"
     ]
    }
   ],
   "source": [
    "import pickle\n",
    "print(\"[INFO] Saving model...\")\n",
    "saved_model=pickle.dump(kmeans,open('kmeanscluster.pkl', 'wb'))"
   ]
  },
  {
   "cell_type": "code",
   "execution_count": 30,
   "id": "a132045a-4bee-44fb-a862-4b5f6001b1c1",
   "metadata": {},
   "outputs": [
    {
     "data": {
      "text/plain": [
       "array([1, 1, 1, 1, 1, 1, 0, 1, 1, 1, 1, 1, 1, 1, 1, 1, 1, 1, 1, 0, 1, 1,\n",
       "       1, 1, 0, 0, 0, 1, 0, 0, 0, 0, 0, 0, 0, 0, 0, 0, 0, 0, 0, 0, 0, 0,\n",
       "       0, 0, 1, 0, 0, 0])"
      ]
     },
     "execution_count": 30,
     "metadata": {},
     "output_type": "execute_result"
    }
   ],
   "source": [
    "model = pickle.load(open('kmeanscluster.pkl','rb'))\n",
    "model.predict(X)"
   ]
  },
  {
   "cell_type": "markdown",
   "id": "590c7ce5-c060-4409-a969-980f7a0fe33e",
   "metadata": {},
   "source": [
    "from flask import Flask, render_template,request\n",
    "\n",
    "import pickle\n",
    "\n",
    "model = pickle.load(open('kmeanscluster.pkl','rb'))\n",
    "app = Flask(__name__,template_folder='Template')\n",
    "\n",
    "@app.route('/')\n",
    "def home():\n",
    "\n",
    "    return render_template(\"index.html\")\n",
    "@app.route('/predict',methods=['POST'])\n",
    "def predict():\n",
    "    income = int(request.form.get('income'))\n",
    "    score = int(request.form.get('score'))\n",
    "    predict = model.predict([[income,score ]])\n",
    "    if predict==[0]:\n",
    "        result=\"Customer is careless\"\n",
    "\n",
    "    elif predict==[1]:\n",
    "        result=\"Customer is standard\"\n",
    "    elif predict==[2]:\n",
    "        result=\"Customer is Target\"\n",
    "    elif predict==[3]:\n",
    "        result=\"Customer is careful\"\n",
    "\n",
    "    else:\n",
    "        result=\"Custmor is sensible\"\n",
    "    return render_template('index.html', prediction_text='Model  has predicted  : {}'.format(result))\n",
    "if __name__ == '__main__':\n",
    " app.run()"
   ]
  },
  {
   "cell_type": "code",
   "execution_count": null,
   "id": "0c355c8d-615b-433f-bb73-90b2235c5d2f",
   "metadata": {},
   "outputs": [],
   "source": []
  }
 ],
 "metadata": {
  "kernelspec": {
   "display_name": "Python 3 (ipykernel)",
   "language": "python",
   "name": "python3"
  },
  "language_info": {
   "codemirror_mode": {
    "name": "ipython",
    "version": 3
   },
   "file_extension": ".py",
   "mimetype": "text/x-python",
   "name": "python",
   "nbconvert_exporter": "python",
   "pygments_lexer": "ipython3",
   "version": "3.11.7"
  }
 },
 "nbformat": 4,
 "nbformat_minor": 5
}
