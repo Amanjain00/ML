{
 "cells": [
  {
   "cell_type": "markdown",
   "id": "f66d34d0-862a-4d96-bd62-9dd5c60df058",
   "metadata": {},
   "source": [
    "Q1. This data set contains details of a houses and the target variable is a continuous variable.\r\n",
    "Dataset contains input features and predicting house prices. Apply necessary data preprocessing -\r\n",
    "Construct Naïve Bayes Model using dependent variable to predict house prices based on given\r\n",
    "data using Jupyter Notebook. Use area, bedrooms, Bathrooms. Stories, Basement, Hot water\r\n",
    "heating, Air conditioning, parking, Furnishing status."
   ]
  },
  {
   "cell_type": "code",
   "execution_count": 4,
   "id": "40adb979-4740-4c8b-a756-f64ba8afd830",
   "metadata": {},
   "outputs": [],
   "source": [
    "import numpy as np\n",
    "import matplotlib.pyplot as plt\n",
    "import pandas as pd"
   ]
  },
  {
   "cell_type": "code",
   "execution_count": 5,
   "id": "b3c8e42c-2e17-4d29-9619-06d7a55bc92b",
   "metadata": {},
   "outputs": [
    {
     "name": "stdout",
     "output_type": "stream",
     "text": [
      "    basement hotwaterheating furnishingstatus     price  area  bedrooms  \\\n",
      "0         no              no        furnished  13300000  7420         4   \n",
      "1         no              no        furnished  12250000  8960         4   \n",
      "2        yes              no   semi-furnished  12250000  9960         3   \n",
      "3        yes              no        furnished  12215000  7500         4   \n",
      "4        yes              no        furnished  11410000  7420         4   \n",
      "..       ...             ...              ...       ...   ...       ...   \n",
      "540      yes              no      unfurnished   1820000  3000         2   \n",
      "541       no              no   semi-furnished   1767150  2400         3   \n",
      "542       no              no      unfurnished   1750000  3620         2   \n",
      "543       no              no        furnished   1750000  2910         3   \n",
      "544       no              no      unfurnished   1750000  3850         3   \n",
      "\n",
      "     bathrooms airconditioning  parking  stories guestroom prefarea mainroad  \n",
      "0            2             yes        2        3        no      yes      yes  \n",
      "1            4             yes        3        4        no       no      yes  \n",
      "2            2              no        2        2        no      yes      yes  \n",
      "3            2             yes        3        2        no      yes      yes  \n",
      "4            1             yes        2        2       yes       no      yes  \n",
      "..         ...             ...      ...      ...       ...      ...      ...  \n",
      "540          1              no        2        1        no       no      yes  \n",
      "541          1              no        0        1        no       no       no  \n",
      "542          1              no        0        1        no       no      yes  \n",
      "543          1              no        0        1        no       no       no  \n",
      "544          1              no        0        2        no       no      yes  \n",
      "\n",
      "[545 rows x 13 columns]\n"
     ]
    }
   ],
   "source": [
    "dataset = pd.read_csv('./SET 24-1.csv')\n",
    "print(dataset)"
   ]
  },
  {
   "cell_type": "code",
   "execution_count": 6,
   "id": "616283a9-53f8-4e70-9453-b97a114c3932",
   "metadata": {},
   "outputs": [
    {
     "data": {
      "text/plain": [
       "basement            0\n",
       "hotwaterheating     0\n",
       "furnishingstatus    0\n",
       "price               0\n",
       "area                0\n",
       "bedrooms            0\n",
       "bathrooms           0\n",
       "airconditioning     0\n",
       "parking             0\n",
       "stories             0\n",
       "guestroom           0\n",
       "prefarea            0\n",
       "mainroad            0\n",
       "dtype: int64"
      ]
     },
     "execution_count": 6,
     "metadata": {},
     "output_type": "execute_result"
    }
   ],
   "source": [
    "dataset.isnull().sum()"
   ]
  },
  {
   "cell_type": "code",
   "execution_count": 8,
   "id": "63b431fd-01b3-4702-92eb-bf31112b7f40",
   "metadata": {},
   "outputs": [],
   "source": [
    "dataset['airconditioning'].replace(['yes','no'],[1,0],inplace=True)\n",
    "dataset['basement'].replace(['yes','no'],[1,0],inplace=True)\n",
    "dataset['hotwaterheating'].replace(['yes','no'],[1,0],inplace=True)\n",
    "dataset['furnishingstatus'].replace(['furnished','semi-furnished','unfurnished'],[2,1,0],inplace=True)"
   ]
  },
  {
   "cell_type": "code",
   "execution_count": 9,
   "id": "3c9c1ce8-90eb-44c3-94f1-d3d64bb1af74",
   "metadata": {},
   "outputs": [
    {
     "name": "stdout",
     "output_type": "stream",
     "text": [
      "     basement  hotwaterheating  furnishingstatus     price  area  bedrooms  \\\n",
      "0           0                0                 2  13300000  7420         4   \n",
      "1           0                0                 2  12250000  8960         4   \n",
      "2           1                0                 1  12250000  9960         3   \n",
      "3           1                0                 2  12215000  7500         4   \n",
      "4           1                0                 2  11410000  7420         4   \n",
      "..        ...              ...               ...       ...   ...       ...   \n",
      "540         1                0                 0   1820000  3000         2   \n",
      "541         0                0                 1   1767150  2400         3   \n",
      "542         0                0                 0   1750000  3620         2   \n",
      "543         0                0                 2   1750000  2910         3   \n",
      "544         0                0                 0   1750000  3850         3   \n",
      "\n",
      "     bathrooms  airconditioning  parking  stories guestroom prefarea mainroad  \n",
      "0            2                1        2        3        no      yes      yes  \n",
      "1            4                1        3        4        no       no      yes  \n",
      "2            2                0        2        2        no      yes      yes  \n",
      "3            2                1        3        2        no      yes      yes  \n",
      "4            1                1        2        2       yes       no      yes  \n",
      "..         ...              ...      ...      ...       ...      ...      ...  \n",
      "540          1                0        2        1        no       no      yes  \n",
      "541          1                0        0        1        no       no       no  \n",
      "542          1                0        0        1        no       no      yes  \n",
      "543          1                0        0        1        no       no       no  \n",
      "544          1                0        0        2        no       no      yes  \n",
      "\n",
      "[545 rows x 13 columns]\n"
     ]
    }
   ],
   "source": [
    "print(dataset)"
   ]
  },
  {
   "cell_type": "code",
   "execution_count": 7,
   "id": "b94c6ab4-435a-4860-8baa-ed2b16e82403",
   "metadata": {},
   "outputs": [
    {
     "name": "stdout",
     "output_type": "stream",
     "text": [
      "<class 'pandas.core.frame.DataFrame'>\n",
      "RangeIndex: 545 entries, 0 to 544\n",
      "Data columns (total 13 columns):\n",
      " #   Column            Non-Null Count  Dtype \n",
      "---  ------            --------------  ----- \n",
      " 0   basement          545 non-null    object\n",
      " 1   hotwaterheating   545 non-null    object\n",
      " 2   furnishingstatus  545 non-null    object\n",
      " 3   price             545 non-null    int64 \n",
      " 4   area              545 non-null    int64 \n",
      " 5   bedrooms          545 non-null    int64 \n",
      " 6   bathrooms         545 non-null    int64 \n",
      " 7   airconditioning   545 non-null    object\n",
      " 8   parking           545 non-null    int64 \n",
      " 9   stories           545 non-null    int64 \n",
      " 10  guestroom         545 non-null    object\n",
      " 11  prefarea          545 non-null    object\n",
      " 12  mainroad          545 non-null    object\n",
      "dtypes: int64(6), object(7)\n",
      "memory usage: 55.5+ KB\n"
     ]
    }
   ],
   "source": [
    "dataset.info()"
   ]
  },
  {
   "cell_type": "markdown",
   "id": "95f5f6ca-dab6-484e-b6bb-1085e150b152",
   "metadata": {},
   "source": [
    "area, bedrooms, Bathrooms. Stories, Basement, Hot water heating, Air conditioning, parking, Furnishing status"
   ]
  },
  {
   "cell_type": "code",
   "execution_count": 10,
   "id": "0ec75878-a267-4de3-962c-aaef9039c48a",
   "metadata": {},
   "outputs": [],
   "source": [
    "X = dataset.iloc[:,[0,1,2,4,5,6,7,8]].values\n",
    "Y = dataset.iloc[:,3].values"
   ]
  },
  {
   "cell_type": "code",
   "execution_count": 11,
   "id": "f41ad633-8570-42ea-82af-ff904331909e",
   "metadata": {},
   "outputs": [
    {
     "name": "stdout",
     "output_type": "stream",
     "text": [
      "[[0 0 2 ... 2 1 2]\n",
      " [0 0 2 ... 4 1 3]\n",
      " [1 0 1 ... 2 0 2]\n",
      " ...\n",
      " [0 0 0 ... 1 0 0]\n",
      " [0 0 2 ... 1 0 0]\n",
      " [0 0 0 ... 1 0 0]]\n"
     ]
    }
   ],
   "source": [
    "print(X)"
   ]
  },
  {
   "cell_type": "code",
   "execution_count": 12,
   "id": "f61080af-6d44-42c6-a8f2-1a6fe1360ed6",
   "metadata": {},
   "outputs": [
    {
     "name": "stdout",
     "output_type": "stream",
     "text": [
      "[13300000 12250000 12250000 12215000 11410000 10850000 10150000 10150000\n",
      "  9870000  9800000  9800000  9681000  9310000  9240000  9240000  9100000\n",
      "  9100000  8960000  8890000  8855000  8750000  8680000  8645000  8645000\n",
      "  8575000  8540000  8463000  8400000  8400000  8400000  8400000  8400000\n",
      "  8295000  8190000  8120000  8080940  8043000  7980000  7962500  7910000\n",
      "  7875000  7840000  7700000  7700000  7560000  7560000  7525000  7490000\n",
      "  7455000  7420000  7420000  7420000  7350000  7350000  7350000  7350000\n",
      "  7343000  7245000  7210000  7210000  7140000  7070000  7070000  7035000\n",
      "  7000000  6930000  6930000  6895000  6860000  6790000  6790000  6755000\n",
      "  6720000  6685000  6650000  6650000  6650000  6650000  6650000  6650000\n",
      "  6629000  6615000  6615000  6580000  6510000  6510000  6510000  6475000\n",
      "  6475000  6440000  6440000  6419000  6405000  6300000  6300000  6300000\n",
      "  6300000  6300000  6293000  6265000  6230000  6230000  6195000  6195000\n",
      "  6195000  6160000  6160000  6125000  6107500  6090000  6090000  6090000\n",
      "  6083000  6083000  6020000  6020000  6020000  5950000  5950000  5950000\n",
      "  5950000  5950000  5950000  5950000  5950000  5943000  5880000  5880000\n",
      "  5873000  5873000  5866000  5810000  5810000  5810000  5803000  5775000\n",
      "  5740000  5740000  5740000  5740000  5740000  5652500  5600000  5600000\n",
      "  5600000  5600000  5600000  5600000  5600000  5600000  5600000  5565000\n",
      "  5565000  5530000  5530000  5530000  5523000  5495000  5495000  5460000\n",
      "  5460000  5460000  5460000  5425000  5390000  5383000  5320000  5285000\n",
      "  5250000  5250000  5250000  5250000  5250000  5250000  5250000  5250000\n",
      "  5250000  5243000  5229000  5215000  5215000  5215000  5145000  5145000\n",
      "  5110000  5110000  5110000  5110000  5075000  5040000  5040000  5040000\n",
      "  5040000  5033000  5005000  4970000  4970000  4956000  4935000  4907000\n",
      "  4900000  4900000  4900000  4900000  4900000  4900000  4900000  4900000\n",
      "  4900000  4900000  4900000  4900000  4893000  4893000  4865000  4830000\n",
      "  4830000  4830000  4830000  4795000  4795000  4767000  4760000  4760000\n",
      "  4760000  4753000  4690000  4690000  4690000  4690000  4690000  4690000\n",
      "  4655000  4620000  4620000  4620000  4620000  4620000  4613000  4585000\n",
      "  4585000  4550000  4550000  4550000  4550000  4550000  4550000  4550000\n",
      "  4543000  4543000  4515000  4515000  4515000  4515000  4480000  4480000\n",
      "  4480000  4480000  4480000  4473000  4473000  4473000  4445000  4410000\n",
      "  4410000  4403000  4403000  4403000  4382000  4375000  4340000  4340000\n",
      "  4340000  4340000  4340000  4319000  4305000  4305000  4277000  4270000\n",
      "  4270000  4270000  4270000  4270000  4270000  4235000  4235000  4200000\n",
      "  4200000  4200000  4200000  4200000  4200000  4200000  4200000  4200000\n",
      "  4200000  4200000  4200000  4200000  4200000  4200000  4200000  4200000\n",
      "  4193000  4193000  4165000  4165000  4165000  4130000  4130000  4123000\n",
      "  4098500  4095000  4095000  4095000  4060000  4060000  4060000  4060000\n",
      "  4060000  4025000  4025000  4025000  4007500  4007500  3990000  3990000\n",
      "  3990000  3990000  3990000  3920000  3920000  3920000  3920000  3920000\n",
      "  3920000  3920000  3885000  3885000  3850000  3850000  3850000  3850000\n",
      "  3850000  3850000  3850000  3836000  3815000  3780000  3780000  3780000\n",
      "  3780000  3780000  3780000  3773000  3773000  3773000  3745000  3710000\n",
      "  3710000  3710000  3710000  3710000  3703000  3703000  3675000  3675000\n",
      "  3675000  3675000  3640000  3640000  3640000  3640000  3640000  3640000\n",
      "  3640000  3640000  3640000  3633000  3605000  3605000  3570000  3570000\n",
      "  3570000  3570000  3535000  3500000  3500000  3500000  3500000  3500000\n",
      "  3500000  3500000  3500000  3500000  3500000  3500000  3500000  3500000\n",
      "  3500000  3500000  3500000  3500000  3493000  3465000  3465000  3465000\n",
      "  3430000  3430000  3430000  3430000  3430000  3430000  3423000  3395000\n",
      "  3395000  3395000  3360000  3360000  3360000  3360000  3360000  3360000\n",
      "  3360000  3360000  3353000  3332000  3325000  3325000  3290000  3290000\n",
      "  3290000  3290000  3290000  3290000  3290000  3290000  3255000  3255000\n",
      "  3234000  3220000  3220000  3220000  3220000  3150000  3150000  3150000\n",
      "  3150000  3150000  3150000  3150000  3150000  3150000  3143000  3129000\n",
      "  3118850  3115000  3115000  3115000  3087000  3080000  3080000  3080000\n",
      "  3080000  3045000  3010000  3010000  3010000  3010000  3010000  3010000\n",
      "  3010000  3003000  2975000  2961000  2940000  2940000  2940000  2940000\n",
      "  2940000  2940000  2940000  2940000  2870000  2870000  2870000  2870000\n",
      "  2852500  2835000  2835000  2835000  2800000  2800000  2730000  2730000\n",
      "  2695000  2660000  2660000  2660000  2660000  2660000  2660000  2660000\n",
      "  2653000  2653000  2604000  2590000  2590000  2590000  2520000  2520000\n",
      "  2520000  2485000  2485000  2450000  2450000  2450000  2450000  2450000\n",
      "  2450000  2408000  2380000  2380000  2380000  2345000  2310000  2275000\n",
      "  2275000  2275000  2240000  2233000  2135000  2100000  2100000  2100000\n",
      "  1960000  1890000  1890000  1855000  1820000  1767150  1750000  1750000\n",
      "  1750000]\n"
     ]
    }
   ],
   "source": [
    "print(Y)"
   ]
  },
  {
   "cell_type": "code",
   "execution_count": 13,
   "id": "2f602ba3-6bf9-40c7-bd7c-3092c591eaa2",
   "metadata": {},
   "outputs": [],
   "source": [
    "from sklearn.model_selection import train_test_split\n",
    "X_train,X_test,Y_train,Y_test = train_test_split(X,Y, test_size=0.25,random_state=42)"
   ]
  },
  {
   "cell_type": "code",
   "execution_count": 14,
   "id": "e5be2e38-9bd9-4d25-8020-2b2c2f349258",
   "metadata": {},
   "outputs": [
    {
     "name": "stdout",
     "output_type": "stream",
     "text": [
      "[[0 0 1 ... 2 1 2]\n",
      " [0 0 1 ... 1 0 0]\n",
      " [0 0 1 ... 1 0 0]\n",
      " ...\n",
      " [0 1 2 ... 2 0 1]\n",
      " [0 0 0 ... 1 0 0]\n",
      " [0 0 1 ... 2 1 1]]\n"
     ]
    }
   ],
   "source": [
    "print(X_train)"
   ]
  },
  {
   "cell_type": "code",
   "execution_count": 15,
   "id": "600072a8-b4c2-4951-9a48-7d9a5963b001",
   "metadata": {},
   "outputs": [
    {
     "name": "stdout",
     "output_type": "stream",
     "text": [
      "[[1 0 0 ... 2 0 1]\n",
      " [0 0 2 ... 2 1 0]\n",
      " [0 0 1 ... 1 0 0]\n",
      " ...\n",
      " [0 0 0 ... 1 0 0]\n",
      " [0 0 0 ... 1 0 0]\n",
      " [0 0 1 ... 1 0 0]]\n"
     ]
    }
   ],
   "source": [
    "print(X_test)"
   ]
  },
  {
   "cell_type": "code",
   "execution_count": 16,
   "id": "467c874d-6b1c-49b8-bdc7-b33028026ce8",
   "metadata": {},
   "outputs": [
    {
     "name": "stdout",
     "output_type": "stream",
     "text": [
      "[ 5285000  3675000  4200000  2275000  3570000  4620000  4200000  3087000\n",
      "  3255000  8855000  3640000  7343000  4690000  4305000  3640000  4403000\n",
      "  4270000  2940000  4795000  8540000  4235000  7700000  3500000  3360000\n",
      "  4970000  3150000  5530000  5880000  3710000  3640000  8400000  6083000\n",
      "  4760000  3080000  5243000  7245000  4550000  8575000  8960000  3500000\n",
      "  6930000  4613000  4340000  4473000  3780000  6300000  5215000  5040000\n",
      "  4515000  8645000  2660000  3118850  2450000 10850000  6020000  7560000\n",
      "  4123000  4098500  9100000  7455000  4900000  3423000 12215000  4382000\n",
      "  3850000  7140000  4970000  2380000  6090000  3710000  4200000  8400000\n",
      "  4620000  4900000  8463000 10150000  5215000  7420000  6107500  7980000\n",
      "  5495000  2450000  5950000  3465000  6020000  2450000  4900000  5250000\n",
      "  3605000  4690000  5600000  5005000  3360000  3290000  4543000  4200000\n",
      "  3395000  2653000  5652500  3395000  6895000  4270000  4690000  5250000\n",
      "  5075000  3990000  3325000  2695000  5033000  6615000  6090000  4200000\n",
      "  5600000  6405000  5565000  3080000  3150000  4480000  4277000  3465000\n",
      "  4319000  6195000  4025000  6650000  3780000  2380000  5950000  4060000\n",
      "  3885000  3500000  2852500  4200000  2940000  3920000  3290000  4130000\n",
      "  8043000  5740000  4515000  4025000  7210000  6090000  4200000  4200000\n",
      "  4445000  3430000  5600000  4403000  3290000  7962500  3773000  4935000\n",
      "  3430000  5600000  3150000  5600000  3773000  4025000  5950000  2940000\n",
      "  6300000  5600000  4585000  3010000  6300000  3150000  4200000  3500000\n",
      "  5950000  5145000  4900000  4550000  3850000  3920000  3500000  3430000\n",
      "  3150000  4060000  5943000  3850000  4760000  2485000  4795000  5873000\n",
      "  2940000  4007500  2135000  2870000  2870000  3493000  3920000  4200000\n",
      "  3395000  3570000  3255000  6083000  5215000  3815000  3570000  3640000\n",
      "  4095000  5565000  3150000  4620000  2590000  3780000  5390000  4060000\n",
      "  5740000  4956000  4480000  4655000  6020000  5950000  3500000  4760000\n",
      "  3115000  3605000  3836000  5880000  2100000  4235000  2800000  3010000\n",
      "  6125000  3360000  3675000  5810000  2310000  7560000  5250000  6930000\n",
      "  4270000  6510000  4550000  5110000  3290000  5460000  9310000  8080940\n",
      "  8400000  5250000  5600000  3150000  3535000  4767000  6300000  7420000\n",
      "  4585000  3360000  3780000  3290000  5229000  3220000  7840000  2730000\n",
      "  3220000  4900000  3500000  4270000  3745000  3500000  4480000  3010000\n",
      " 11410000  4480000  2590000  6230000  4690000  2590000  4893000  2940000\n",
      "  5250000  6293000  4200000  4830000  7070000  3465000  7490000  8295000\n",
      "  4403000  3990000  4900000  2604000  8400000  2835000  4690000  4473000\n",
      "  3640000  4200000  3360000  5460000  3500000  2940000  5740000  7070000\n",
      "  5775000  5873000  2275000  9870000  3990000  3850000  7000000  4200000\n",
      "  9240000  5523000  7875000  3633000  5110000  2100000  4830000  3430000\n",
      "  4270000  2730000  2835000  3920000  4620000  4900000  4893000  4200000\n",
      "  2485000  4515000  1960000  3129000  1750000  4200000  3780000  4375000\n",
      "  3150000  4900000  5460000  7700000  4830000  3500000  5040000  4130000\n",
      "  4473000  6160000  7350000  3500000 12250000  2660000  3710000  7420000\n",
      "  3360000  6629000  4900000  8120000  3290000  4410000  3332000  3143000\n",
      "  3220000  3675000  6419000  3885000  2345000  7350000  3850000  4410000\n",
      "  4550000  9240000  4095000  6475000  3500000  4340000  5320000  3990000\n",
      "  1855000  5803000  4165000  2870000  2240000  2653000  4060000  4550000\n",
      "  5040000  2961000  2520000  7210000  2975000  4515000  8680000  4095000\n",
      "  3115000  5460000  4305000  5040000  3570000  3430000  2835000  3850000\n",
      "  4165000  5866000  6265000  3640000  6475000  3115000  3990000  4865000\n",
      "  3010000  5950000  8750000  6755000  6160000  4340000  3290000  6195000]\n"
     ]
    }
   ],
   "source": [
    "print(Y_train)"
   ]
  },
  {
   "cell_type": "code",
   "execution_count": 17,
   "id": "c233d0c4-aebd-4b2f-94c6-1d1e8ae7a079",
   "metadata": {},
   "outputs": [
    {
     "name": "stdout",
     "output_type": "stream",
     "text": [
      "[ 4060000  6650000  3710000  6440000  2800000  4900000  5250000  4543000\n",
      "  2450000  3353000 10150000  2660000  3360000  3360000  2275000  2660000\n",
      "  2660000  7350000  2940000  2870000  6720000  5425000  1890000  5250000\n",
      "  4193000 12250000  3080000  5110000  9800000  2520000  6790000  3500000\n",
      "  6650000  2940000  3325000  4200000  4900000  3290000  3500000  2380000\n",
      "  5495000  3675000  6650000  4907000  3150000  4480000  6580000  5740000\n",
      "  3003000  1820000  8400000  2450000  4270000  4007500  3234000  1750000\n",
      "  9800000  2100000  4340000  3045000  3850000  3500000  4753000  3080000\n",
      "  4550000  6510000  6685000  5110000  4550000  6650000  3640000  5600000\n",
      "  3780000  6615000  3220000  6650000  4690000  4830000  6860000  2233000\n",
      "  7035000  4165000  6195000  6510000  1890000  8190000  2660000  4193000\n",
      " 13300000  9681000  4340000  8645000  3703000  5145000  6440000  5950000\n",
      "  5810000  5740000  6230000  5600000  3010000  8890000  4900000  5530000\n",
      "  9100000  3773000  7910000  7350000  5530000  7525000  6300000  3920000\n",
      "  3430000  3010000  4620000  1750000  3010000  2520000  3710000  3703000\n",
      "  2450000  4200000  3640000  3640000  5383000  1767150  5250000  3500000\n",
      "  6790000  3920000  3920000  5810000  5250000  5950000  3500000  2408000\n",
      "  2660000]\n"
     ]
    }
   ],
   "source": [
    "print(Y_test)"
   ]
  },
  {
   "cell_type": "code",
   "execution_count": 18,
   "id": "55075441-307f-465d-8c3d-215160f2e34f",
   "metadata": {},
   "outputs": [],
   "source": [
    "from sklearn.preprocessing import StandardScaler\n",
    "sc = StandardScaler()\n",
    "x_train = sc.fit_transform(X_train) \n",
    "x_test = sc.fit_transform(X_test)"
   ]
  },
  {
   "cell_type": "code",
   "execution_count": 19,
   "id": "aaf79258-59c2-4854-a9c8-2bca08b75a75",
   "metadata": {},
   "outputs": [
    {
     "data": {
      "text/html": [
       "<style>#sk-container-id-1 {color: black;background-color: white;}#sk-container-id-1 pre{padding: 0;}#sk-container-id-1 div.sk-toggleable {background-color: white;}#sk-container-id-1 label.sk-toggleable__label {cursor: pointer;display: block;width: 100%;margin-bottom: 0;padding: 0.3em;box-sizing: border-box;text-align: center;}#sk-container-id-1 label.sk-toggleable__label-arrow:before {content: \"▸\";float: left;margin-right: 0.25em;color: #696969;}#sk-container-id-1 label.sk-toggleable__label-arrow:hover:before {color: black;}#sk-container-id-1 div.sk-estimator:hover label.sk-toggleable__label-arrow:before {color: black;}#sk-container-id-1 div.sk-toggleable__content {max-height: 0;max-width: 0;overflow: hidden;text-align: left;background-color: #f0f8ff;}#sk-container-id-1 div.sk-toggleable__content pre {margin: 0.2em;color: black;border-radius: 0.25em;background-color: #f0f8ff;}#sk-container-id-1 input.sk-toggleable__control:checked~div.sk-toggleable__content {max-height: 200px;max-width: 100%;overflow: auto;}#sk-container-id-1 input.sk-toggleable__control:checked~label.sk-toggleable__label-arrow:before {content: \"▾\";}#sk-container-id-1 div.sk-estimator input.sk-toggleable__control:checked~label.sk-toggleable__label {background-color: #d4ebff;}#sk-container-id-1 div.sk-label input.sk-toggleable__control:checked~label.sk-toggleable__label {background-color: #d4ebff;}#sk-container-id-1 input.sk-hidden--visually {border: 0;clip: rect(1px 1px 1px 1px);clip: rect(1px, 1px, 1px, 1px);height: 1px;margin: -1px;overflow: hidden;padding: 0;position: absolute;width: 1px;}#sk-container-id-1 div.sk-estimator {font-family: monospace;background-color: #f0f8ff;border: 1px dotted black;border-radius: 0.25em;box-sizing: border-box;margin-bottom: 0.5em;}#sk-container-id-1 div.sk-estimator:hover {background-color: #d4ebff;}#sk-container-id-1 div.sk-parallel-item::after {content: \"\";width: 100%;border-bottom: 1px solid gray;flex-grow: 1;}#sk-container-id-1 div.sk-label:hover label.sk-toggleable__label {background-color: #d4ebff;}#sk-container-id-1 div.sk-serial::before {content: \"\";position: absolute;border-left: 1px solid gray;box-sizing: border-box;top: 0;bottom: 0;left: 50%;z-index: 0;}#sk-container-id-1 div.sk-serial {display: flex;flex-direction: column;align-items: center;background-color: white;padding-right: 0.2em;padding-left: 0.2em;position: relative;}#sk-container-id-1 div.sk-item {position: relative;z-index: 1;}#sk-container-id-1 div.sk-parallel {display: flex;align-items: stretch;justify-content: center;background-color: white;position: relative;}#sk-container-id-1 div.sk-item::before, #sk-container-id-1 div.sk-parallel-item::before {content: \"\";position: absolute;border-left: 1px solid gray;box-sizing: border-box;top: 0;bottom: 0;left: 50%;z-index: -1;}#sk-container-id-1 div.sk-parallel-item {display: flex;flex-direction: column;z-index: 1;position: relative;background-color: white;}#sk-container-id-1 div.sk-parallel-item:first-child::after {align-self: flex-end;width: 50%;}#sk-container-id-1 div.sk-parallel-item:last-child::after {align-self: flex-start;width: 50%;}#sk-container-id-1 div.sk-parallel-item:only-child::after {width: 0;}#sk-container-id-1 div.sk-dashed-wrapped {border: 1px dashed gray;margin: 0 0.4em 0.5em 0.4em;box-sizing: border-box;padding-bottom: 0.4em;background-color: white;}#sk-container-id-1 div.sk-label label {font-family: monospace;font-weight: bold;display: inline-block;line-height: 1.2em;}#sk-container-id-1 div.sk-label-container {text-align: center;}#sk-container-id-1 div.sk-container {/* jupyter's `normalize.less` sets `[hidden] { display: none; }` but bootstrap.min.css set `[hidden] { display: none !important; }` so we also need the `!important` here to be able to override the default hidden behavior on the sphinx rendered scikit-learn.org. See: https://github.com/scikit-learn/scikit-learn/issues/21755 */display: inline-block !important;position: relative;}#sk-container-id-1 div.sk-text-repr-fallback {display: none;}</style><div id=\"sk-container-id-1\" class=\"sk-top-container\"><div class=\"sk-text-repr-fallback\"><pre>GaussianNB()</pre><b>In a Jupyter environment, please rerun this cell to show the HTML representation or trust the notebook. <br />On GitHub, the HTML representation is unable to render, please try loading this page with nbviewer.org.</b></div><div class=\"sk-container\" hidden><div class=\"sk-item\"><div class=\"sk-estimator sk-toggleable\"><input class=\"sk-toggleable__control sk-hidden--visually\" id=\"sk-estimator-id-1\" type=\"checkbox\" checked><label for=\"sk-estimator-id-1\" class=\"sk-toggleable__label sk-toggleable__label-arrow\">GaussianNB</label><div class=\"sk-toggleable__content\"><pre>GaussianNB()</pre></div></div></div></div></div>"
      ],
      "text/plain": [
       "GaussianNB()"
      ]
     },
     "execution_count": 19,
     "metadata": {},
     "output_type": "execute_result"
    }
   ],
   "source": [
    "from sklearn.naive_bayes import GaussianNB\n",
    "gnb = GaussianNB()\n",
    "gnb.fit(X_train,Y_train)"
   ]
  },
  {
   "cell_type": "code",
   "execution_count": 20,
   "id": "f456155d-03bc-4d8a-a904-ab7f8e765375",
   "metadata": {},
   "outputs": [],
   "source": [
    "Y_pred = gnb.predict(X_test)"
   ]
  },
  {
   "cell_type": "code",
   "execution_count": 21,
   "id": "e4bc447c-3d1a-43cc-840e-42ec2b092eb5",
   "metadata": {},
   "outputs": [
    {
     "name": "stdout",
     "output_type": "stream",
     "text": [
      "[5600000 6195000 3605000 4130000 3220000 2730000 5873000 6083000 2100000\n",
      " 2380000 5250000 3255000 2653000 4235000 2450000 3885000 2380000 4830000\n",
      " 3150000 3675000 2653000 4130000 2870000 3395000 4795000 4970000 2450000\n",
      " 3885000 4760000 2380000 6160000 2100000 7560000 4235000 2870000 7350000\n",
      " 6475000 3290000 2653000 3885000 5873000 2653000 6195000 3220000 3675000\n",
      " 7070000 7560000 3010000 2730000 3150000 7420000 2100000 3500000 4130000\n",
      " 2450000 2380000 6195000 2870000 4130000 3255000 3570000 3430000 4760000\n",
      " 6160000 4403000 3780000 6083000 2450000 3500000 6475000 3430000 4235000\n",
      " 3500000 6930000 4270000 9240000 4403000 4095000 7070000 6160000 7700000\n",
      " 4403000 6083000 5880000 2870000 7420000 2485000 4403000 3773000 4970000\n",
      " 3850000 4760000 3675000 4550000 6083000 5460000 4130000 6195000 2730000\n",
      " 4893000 4403000 7350000 2485000 3885000 4970000 4480000 7560000 7560000\n",
      " 6083000 7560000 6020000 3395000 2450000 2485000 4410000 2485000 2870000\n",
      " 2485000 4235000 3080000 2730000 4830000 4235000 4473000 5600000 2485000\n",
      " 6160000 2730000 6083000 6020000 2485000 4130000 6475000 9240000 2485000\n",
      " 2870000 2485000]\n"
     ]
    }
   ],
   "source": [
    "print(Y_pred)"
   ]
  },
  {
   "cell_type": "code",
   "execution_count": 25,
   "id": "442361ed-4212-456c-aa1e-d0a2bc6e0cc3",
   "metadata": {},
   "outputs": [],
   "source": [
    "from sklearn.metrics import accuracy_score,confusion_matrix,ConfusionMatrixDisplay"
   ]
  },
  {
   "cell_type": "code",
   "execution_count": 26,
   "id": "e45fa4a8-85bf-4eb3-8da3-1fc78dc3b15e",
   "metadata": {},
   "outputs": [
    {
     "name": "stdout",
     "output_type": "stream",
     "text": [
      "[[0 0 0 ... 0 0 0]\n",
      " [0 0 0 ... 0 0 0]\n",
      " [0 0 0 ... 0 0 0]\n",
      " ...\n",
      " [0 0 0 ... 0 0 0]\n",
      " [0 0 0 ... 0 0 0]\n",
      " [0 0 0 ... 0 0 0]]\n"
     ]
    }
   ],
   "source": [
    "cm = confusion_matrix(Y_test, Y_pred)\n",
    "print(cm)"
   ]
  },
  {
   "cell_type": "code",
   "execution_count": 27,
   "id": "8bbd8fec-fcec-4e2a-83c8-d4b3d813fe47",
   "metadata": {},
   "outputs": [
    {
     "data": {
      "image/png": "[encoded data removed]",
      "text/plain": [
       "<Figure size 640x480 with 2 Axes>"
      ]
     },
     "metadata": {},
     "output_type": "display_data"
    }
   ],
   "source": [
    "cm_display = ConfusionMatrixDisplay(cm).plot()"
   ]
  },
  {
   "cell_type": "code",
   "execution_count": 30,
   "id": "aedfe69d-1556-4e32-b2a3-0ff45ecd9b8d",
   "metadata": {},
   "outputs": [
    {
     "name": "stdout",
     "output_type": "stream",
     "text": [
      "Accuracy:0.73\n"
     ]
    }
   ],
   "source": [
    "print('Accuracy:%.2f' % (accuracy_score(Y_test, Y_pred)*100))"
   ]
  },
  {
   "cell_type": "code",
   "execution_count": 32,
   "id": "e3e87f52-cfe8-4bbe-8ae0-1a22e3bf614c",
   "metadata": {},
   "outputs": [
    {
     "name": "stdout",
     "output_type": "stream",
     "text": [
      "[Info] Saving Model\n"
     ]
    },
    {
     "data": {
      "text/plain": [
       "array([5600000, 6195000, 3605000, 4130000, 3220000, 2730000, 5873000,\n",
       "       6083000, 2100000, 2380000, 5250000, 3255000, 2653000, 4235000,\n",
       "       2450000, 3885000, 2380000, 4830000, 3150000, 3675000, 2653000,\n",
       "       4130000, 2870000, 3395000, 4795000, 4970000, 2450000, 3885000,\n",
       "       4760000, 2380000, 6160000, 2100000, 7560000, 4235000, 2870000,\n",
       "       7350000, 6475000, 3290000, 2653000, 3885000, 5873000, 2653000,\n",
       "       6195000, 3220000, 3675000, 7070000, 7560000, 3010000, 2730000,\n",
       "       3150000, 7420000, 2100000, 3500000, 4130000, 2450000, 2380000,\n",
       "       6195000, 2870000, 4130000, 3255000, 3570000, 3430000, 4760000,\n",
       "       6160000, 4403000, 3780000, 6083000, 2450000, 3500000, 6475000,\n",
       "       3430000, 4235000, 3500000, 6930000, 4270000, 9240000, 4403000,\n",
       "       4095000, 7070000, 6160000, 7700000, 4403000, 6083000, 5880000,\n",
       "       2870000, 7420000, 2485000, 4403000, 3773000, 4970000, 3850000,\n",
       "       4760000, 3675000, 4550000, 6083000, 5460000, 4130000, 6195000,\n",
       "       2730000, 4893000, 4403000, 7350000, 2485000, 3885000, 4970000,\n",
       "       4480000, 7560000, 7560000, 6083000, 7560000, 6020000, 3395000,\n",
       "       2450000, 2485000, 4410000, 2485000, 2870000, 2485000, 4235000,\n",
       "       3080000, 2730000, 4830000, 4235000, 4473000, 5600000, 2485000,\n",
       "       6160000, 2730000, 6083000, 6020000, 2485000, 4130000, 6475000,\n",
       "       9240000, 2485000, 2870000, 2485000], dtype=int64)"
      ]
     },
     "execution_count": 32,
     "metadata": {},
     "output_type": "execute_result"
    }
   ],
   "source": [
    "import pickle\n",
    "print(\"[Info] Saving Model\")\n",
    "saving_model = pickle.dump(gnb,open('linearmodel.pkl','wb'))\n",
    "model = pickle.load(open('./linearmodel.pkl','rb'))\n",
    "model.predict(X_test)"
   ]
  },
  {
   "cell_type": "code",
   "execution_count": 33,
   "id": "54990d08-03b8-4d26-982f-29a6eff31a51",
   "metadata": {},
   "outputs": [
    {
     "name": "stdout",
     "output_type": "stream",
     "text": [
      "Mean Squared Error: 3445980349434.31\n",
      "R-Squared: 0.25\n",
      "Predicted price: 5600000.00\n"
     ]
    }
   ],
   "source": [
    "from sklearn.metrics import mean_squared_error, r2_score\n",
    "mse = mean_squared_error(Y_test,Y_pred)\n",
    "r2 = r2_score(Y_test,Y_pred)\n",
    "print(f\"Mean Squared Error: {mse:.2f}\")\n",
    "print(f\"R-Squared: {r2:.2f}\")\n",
    "prediction = gnb.predict(X_test)[0]\n",
    "print(f\"Predicted price: {prediction:.2f}\")"
   ]
  },
  {
   "cell_type": "code",
   "execution_count": null,
   "id": "15b06318-4eb9-42ae-ae9f-53e3aacc8a98",
   "metadata": {},
   "outputs": [],
   "source": []
  }
 ],
 "metadata": {
  "kernelspec": {
   "display_name": "Python 3 (ipykernel)",
   "language": "python",
   "name": "python3"
  },
  "language_info": {
   "codemirror_mode": {
    "name": "ipython",
    "version": 3
   },
   "file_extension": ".py",
   "mimetype": "text/x-python",
   "name": "python",
   "nbconvert_exporter": "python",
   "pygments_lexer": "ipython3",
   "version": "3.11.7"
  }
 },
 "nbformat": 4,
 "nbformat_minor": 5
}
