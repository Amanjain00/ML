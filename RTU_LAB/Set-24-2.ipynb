{
 "cells": [
  {
   "cell_type": "markdown",
   "id": "f28511b2-a52f-4835-8499-90a00bba191f",
   "metadata": {},
   "source": [
    "Q2. Find out Frequent item sets and Association rule for 50% support and 50% confidence using\r\n",
    "Apriori algorithm for given data set. This Dataset contains list of items for each transaction. Use\r\n",
    "Jupyter and Deploy model on local host using Flask."
   ]
  },
  {
   "cell_type": "code",
   "execution_count": 1,
   "id": "bee11480-f178-4be2-a96f-a5cfb9c16624",
   "metadata": {},
   "outputs": [],
   "source": [
    "import numpy as np\n",
    "import matplotlib.pyplot as plt\n",
    "import pandas as pd"
   ]
  },
  {
   "cell_type": "code",
   "execution_count": 2,
   "id": "d3467b75-2db8-4f9d-93e5-7796db37f5d1",
   "metadata": {},
   "outputs": [
    {
     "name": "stdout",
     "output_type": "stream",
     "text": [
      "                MILK,BREAD,BISCUIT\n",
      "0    BREAD,MILK,BISCUIT,CORNFLAKES\n",
      "1              BREAD,TEA,BOURNVITA\n",
      "2             JAM,MAGGI,BREAD,MILK\n",
      "3                MAGGI,TEA,BISCUIT\n",
      "4              BREAD,TEA,BOURNVITA\n",
      "5             MAGGI,TEA,CORNFLAKES\n",
      "6          MAGGI,BREAD,TEA,BISCUIT\n",
      "7              JAM,MAGGI,BREAD,TEA\n",
      "8                       BREAD,MILK\n",
      "9   COFFEE,COCK,BISCUIT,CORNFLAKES\n",
      "10  COFFEE,COCK,BISCUIT,CORNFLAKES\n",
      "11          COFFEE,SUGER,BOURNVITA\n",
      "12               BREAD,COFFEE,COCK\n",
      "13             BREAD,SUGER,BISCUIT\n",
      "14         COFFEE,SUGER,CORNFLAKES\n",
      "15           BREAD,SUGER,BOURNVITA\n",
      "16              BREAD,COFFEE,SUGER\n",
      "17              BREAD,COFFEE,SUGER\n",
      "18      TEA,MILK,COFFEE,CORNFLAKES\n"
     ]
    }
   ],
   "source": [
    "dataset = pd.read_excel('./SET 24-2.xlsx')\n",
    "print(dataset)"
   ]
  },
  {
   "cell_type": "code",
   "execution_count": 3,
   "id": "f71e010e-fb70-4e05-b168-042e72ee9fee",
   "metadata": {},
   "outputs": [
    {
     "data": {
      "text/plain": [
       "MILK,BREAD,BISCUIT    0\n",
       "dtype: int64"
      ]
     },
     "execution_count": 3,
     "metadata": {},
     "output_type": "execute_result"
    }
   ],
   "source": [
    "dataset.isnull().sum()"
   ]
  },
  {
   "cell_type": "code",
   "execution_count": null,
   "id": "39aefded-5b4b-42c9-bdea-d7a19411fdea",
   "metadata": {},
   "outputs": [],
   "source": []
  }
 ],
 "metadata": {
  "kernelspec": {
   "display_name": "Python 3 (ipykernel)",
   "language": "python",
   "name": "python3"
  },
  "language_info": {
   "codemirror_mode": {
    "name": "ipython",
    "version": 3
   },
   "file_extension": ".py",
   "mimetype": "text/x-python",
   "name": "python",
   "nbconvert_exporter": "python",
   "pygments_lexer": "ipython3",
   "version": "3.11.7"
  }
 },
 "nbformat": 4,
 "nbformat_minor": 5
}
