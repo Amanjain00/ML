{
 "cells": [
  {
   "cell_type": "markdown",
   "id": "f28511b2-a52f-4835-8499-90a00bba191f",
   "metadata": {},
   "source": [
    "Q2. Find out Frequent item sets and Association rule for 50% support and 50% confidence using\r\n",
    "Apriori algorithm for given data set. This Dataset contains list of items for each transaction. Use\r\n",
    "Jupyter and Deploy model on local host using Flask."
   ]
  },
  {
   "cell_type": "code",
   "execution_count": 1,
   "id": "bee11480-f178-4be2-a96f-a5cfb9c16624",
   "metadata": {},
   "outputs": [],
   "source": [
    "import numpy as np\n",
    "import matplotlib.pyplot as plt\n",
    "import pandas as pd"
   ]
  },
  {
   "cell_type": "code",
   "execution_count": 2,
   "id": "d3467b75-2db8-4f9d-93e5-7796db37f5d1",
   "metadata": {},
   "outputs": [
    {
     "name": "stdout",
     "output_type": "stream",
     "text": [
      "                MILK,BREAD,BISCUIT\n",
      "0    BREAD,MILK,BISCUIT,CORNFLAKES\n",
      "1              BREAD,TEA,BOURNVITA\n",
      "2             JAM,MAGGI,BREAD,MILK\n",
      "3                MAGGI,TEA,BISCUIT\n",
      "4              BREAD,TEA,BOURNVITA\n",
      "5             MAGGI,TEA,CORNFLAKES\n",
      "6          MAGGI,BREAD,TEA,BISCUIT\n",
      "7              JAM,MAGGI,BREAD,TEA\n",
      "8                       BREAD,MILK\n",
      "9   COFFEE,COCK,BISCUIT,CORNFLAKES\n",
      "10  COFFEE,COCK,BISCUIT,CORNFLAKES\n",
      "11          COFFEE,SUGER,BOURNVITA\n",
      "12               BREAD,COFFEE,COCK\n",
      "13             BREAD,SUGER,BISCUIT\n",
      "14         COFFEE,SUGER,CORNFLAKES\n",
      "15           BREAD,SUGER,BOURNVITA\n",
      "16              BREAD,COFFEE,SUGER\n",
      "17              BREAD,COFFEE,SUGER\n",
      "18      TEA,MILK,COFFEE,CORNFLAKES\n"
     ]
    }
   ],
   "source": [
    "dataset = pd.read_excel('./SET 24-2.xlsx')\n",
    "print(dataset)"
   ]
  },
  {
   "cell_type": "code",
   "execution_count": 3,
   "id": "f71e010e-fb70-4e05-b168-042e72ee9fee",
   "metadata": {},
   "outputs": [
    {
     "data": {
      "text/plain": [
       "MILK,BREAD,BISCUIT    0\n",
       "dtype: int64"
      ]
     },
     "execution_count": 3,
     "metadata": {},
     "output_type": "execute_result"
    }
   ],
   "source": [
    "dataset.isnull().sum()"
   ]
  },
  {
   "cell_type": "code",
   "execution_count": 4,
   "id": "39aefded-5b4b-42c9-bdea-d7a19411fdea",
   "metadata": {},
   "outputs": [
    {
     "name": "stdout",
     "output_type": "stream",
     "text": [
      "<class 'pandas.core.frame.DataFrame'>\n",
      "RangeIndex: 19 entries, 0 to 18\n",
      "Data columns (total 1 columns):\n",
      " #   Column              Non-Null Count  Dtype \n",
      "---  ------              --------------  ----- \n",
      " 0   MILK,BREAD,BISCUIT  19 non-null     object\n",
      "dtypes: object(1)\n",
      "memory usage: 284.0+ bytes\n"
     ]
    }
   ],
   "source": [
    "dataset.info()"
   ]
  },
  {
   "cell_type": "code",
   "execution_count": 5,
   "id": "396d623c-8d62-4b5d-b452-71bfdf284994",
   "metadata": {},
   "outputs": [
    {
     "name": "stdout",
     "output_type": "stream",
     "text": [
      "Total rows 19\n",
      "Total cols 1\n"
     ]
    }
   ],
   "source": [
    "print(\"Total rows\",dataset.shape[0])\n",
    "print(\"Total cols\",dataset.shape[1])"
   ]
  },
  {
   "cell_type": "code",
   "execution_count": 6,
   "id": "5e9b3f2d-7a73-439a-8564-826912f492cb",
   "metadata": {},
   "outputs": [
    {
     "name": "stdout",
     "output_type": "stream",
     "text": [
      "Collecting mlxtend\n",
      "  Downloading mlxtend-0.23.1-py3-none-any.whl.metadata (7.3 kB)\n",
      "Requirement already satisfied: scipy>=1.2.1 in c:\\users\\dell\\anaconda3\\lib\\site-packages (from mlxtend) (1.11.4)\n",
      "Requirement already satisfied: numpy>=1.16.2 in c:\\users\\dell\\anaconda3\\lib\\site-packages (from mlxtend) (1.26.4)\n",
      "Requirement already satisfied: pandas>=0.24.2 in c:\\users\\dell\\anaconda3\\lib\\site-packages (from mlxtend) (2.1.4)\n",
      "Requirement already satisfied: scikit-learn>=1.0.2 in c:\\users\\dell\\anaconda3\\lib\\site-packages (from mlxtend) (1.2.2)\n",
      "Requirement already satisfied: matplotlib>=3.0.0 in c:\\users\\dell\\anaconda3\\lib\\site-packages (from mlxtend) (3.8.0)\n",
      "Requirement already satisfied: joblib>=0.13.2 in c:\\users\\dell\\anaconda3\\lib\\site-packages (from mlxtend) (1.2.0)\n",
      "Requirement already satisfied: contourpy>=1.0.1 in c:\\users\\dell\\anaconda3\\lib\\site-packages (from matplotlib>=3.0.0->mlxtend) (1.2.0)\n",
      "Requirement already satisfied: cycler>=0.10 in c:\\users\\dell\\anaconda3\\lib\\site-packages (from matplotlib>=3.0.0->mlxtend) (0.11.0)\n",
      "Requirement already satisfied: fonttools>=4.22.0 in c:\\users\\dell\\anaconda3\\lib\\site-packages (from matplotlib>=3.0.0->mlxtend) (4.25.0)\n",
      "Requirement already satisfied: kiwisolver>=1.0.1 in c:\\users\\dell\\anaconda3\\lib\\site-packages (from matplotlib>=3.0.0->mlxtend) (1.4.4)\n",
      "Requirement already satisfied: packaging>=20.0 in c:\\users\\dell\\anaconda3\\lib\\site-packages (from matplotlib>=3.0.0->mlxtend) (23.1)\n",
      "Requirement already satisfied: pillow>=6.2.0 in c:\\users\\dell\\anaconda3\\lib\\site-packages (from matplotlib>=3.0.0->mlxtend) (10.2.0)\n",
      "Requirement already satisfied: pyparsing>=2.3.1 in c:\\users\\dell\\anaconda3\\lib\\site-packages (from matplotlib>=3.0.0->mlxtend) (3.0.9)\n",
      "Requirement already satisfied: python-dateutil>=2.7 in c:\\users\\dell\\anaconda3\\lib\\site-packages (from matplotlib>=3.0.0->mlxtend) (2.8.2)\n",
      "Requirement already satisfied: pytz>=2020.1 in c:\\users\\dell\\anaconda3\\lib\\site-packages (from pandas>=0.24.2->mlxtend) (2023.3.post1)\n",
      "Requirement already satisfied: tzdata>=2022.1 in c:\\users\\dell\\anaconda3\\lib\\site-packages (from pandas>=0.24.2->mlxtend) (2023.3)\n",
      "Requirement already satisfied: threadpoolctl>=2.0.0 in c:\\users\\dell\\anaconda3\\lib\\site-packages (from scikit-learn>=1.0.2->mlxtend) (2.2.0)\n",
      "Requirement already satisfied: six>=1.5 in c:\\users\\dell\\anaconda3\\lib\\site-packages (from python-dateutil>=2.7->matplotlib>=3.0.0->mlxtend) (1.16.0)\n",
      "Downloading mlxtend-0.23.1-py3-none-any.whl (1.4 MB)\n",
      "   ---------------------------------------- 0.0/1.4 MB ? eta -:--:--\n",
      "   ---------------------------------------- 0.0/1.4 MB ? eta -:--:--\n",
      "   ----- ---------------------------------- 0.2/1.4 MB 2.6 MB/s eta 0:00:01\n",
      "   -------------- ------------------------- 0.5/1.4 MB 4.9 MB/s eta 0:00:01\n",
      "   --------------------------- ------------ 1.0/1.4 MB 6.4 MB/s eta 0:00:01\n",
      "   ---------------------------------------- 1.4/1.4 MB 7.1 MB/s eta 0:00:00\n",
      "Installing collected packages: mlxtend\n",
      "Successfully installed mlxtend-0.23.1\n",
      "Note: you may need to restart the kernel to use updated packages.\n"
     ]
    }
   ],
   "source": [
    "pip install mlxtend"
   ]
  },
  {
   "cell_type": "code",
   "execution_count": 7,
   "id": "cacdd76d-3fa0-4e80-af65-b8797fd7782d",
   "metadata": {},
   "outputs": [],
   "source": [
    "from mlxtend.frequent_patterns import apriori,association_rules"
   ]
  },
  {
   "cell_type": "code",
   "execution_count": 19,
   "id": "3a8c30ac-0865-4ba9-9a68-48fc689d5878",
   "metadata": {},
   "outputs": [
    {
     "name": "stdout",
     "output_type": "stream",
     "text": [
      "['BREAD,MILK,BISCUIT,CORNFLAKES' 'BREAD,TEA,BOURNVITA'\n",
      " 'JAM,MAGGI,BREAD,MILK' 'MAGGI,TEA,BISCUIT' 'MAGGI,TEA,CORNFLAKES'\n",
      " 'MAGGI,BREAD,TEA,BISCUIT' 'JAM,MAGGI,BREAD,TEA' 'BREAD,MILK'\n",
      " 'COFFEE,COCK,BISCUIT,CORNFLAKES' 'COFFEE,SUGER,BOURNVITA'\n",
      " 'BREAD,COFFEE,COCK' 'BREAD,SUGER,BISCUIT' 'COFFEE,SUGER,CORNFLAKES'\n",
      " 'BREAD,SUGER,BOURNVITA' 'BREAD,COFFEE,SUGER' 'TEA,MILK,COFFEE,CORNFLAKES']\n",
      "16\n"
     ]
    }
   ],
   "source": [
    "items = (dataset['MILK,BREAD,BISCUIT'].unique())\n",
    "print(items)\n",
    "le=print(len(items))"
   ]
  },
  {
   "cell_type": "code",
   "execution_count": 20,
   "id": "acf567cd-93af-48de-bb90-36b8b66e6429",
   "metadata": {},
   "outputs": [],
   "source": [
    "transactions = []\n",
    "for i in range(0, dataset.shape[0]):\n",
    "    transactions.append([str(dataset.values[i,j]) for j in range(1)])"
   ]
  },
  {
   "cell_type": "code",
   "execution_count": 21,
   "id": "859eda26-8197-4df6-ab98-8b10fcdeb7ba",
   "metadata": {},
   "outputs": [
    {
     "name": "stdout",
     "output_type": "stream",
     "text": [
      "[['BREAD,MILK,BISCUIT,CORNFLAKES'], ['BREAD,TEA,BOURNVITA'], ['JAM,MAGGI,BREAD,MILK'], ['MAGGI,TEA,BISCUIT'], ['BREAD,TEA,BOURNVITA'], ['MAGGI,TEA,CORNFLAKES'], ['MAGGI,BREAD,TEA,BISCUIT'], ['JAM,MAGGI,BREAD,TEA'], ['BREAD,MILK'], ['COFFEE,COCK,BISCUIT,CORNFLAKES'], ['COFFEE,COCK,BISCUIT,CORNFLAKES'], ['COFFEE,SUGER,BOURNVITA'], ['BREAD,COFFEE,COCK'], ['BREAD,SUGER,BISCUIT'], ['COFFEE,SUGER,CORNFLAKES'], ['BREAD,SUGER,BOURNVITA'], ['BREAD,COFFEE,SUGER'], ['BREAD,COFFEE,SUGER'], ['TEA,MILK,COFFEE,CORNFLAKES']]\n"
     ]
    }
   ],
   "source": [
    "print(transactions)"
   ]
  },
  {
   "cell_type": "code",
   "execution_count": 22,
   "id": "26bbee0c-c13c-47b5-a067-e82fd2ce9cf7",
   "metadata": {},
   "outputs": [],
   "source": [
    "import pandas as pd\n",
    "from mlxtend.preprocessing import TransactionEncoder\n",
    "te = TransactionEncoder()\n",
    "te_ary = te.fit(transactions).transform(transactions)"
   ]
  },
  {
   "cell_type": "code",
   "execution_count": 23,
   "id": "dc116511-cc32-4c92-ac65-38bb1c64d1a9",
   "metadata": {},
   "outputs": [
    {
     "name": "stdout",
     "output_type": "stream",
     "text": [
      "[[False False False  True False False False False False False False False\n",
      "  False False False False]\n",
      " [False False False False False False  True False False False False False\n",
      "  False False False False]\n",
      " [False False False False False False False False False False  True False\n",
      "  False False False False]\n",
      " [False False False False False False False False False False False False\n",
      "  False  True False False]\n",
      " [False False False False False False  True False False False False False\n",
      "  False False False False]\n",
      " [False False False False False False False False False False False False\n",
      "  False False  True False]\n",
      " [False False False False False False False False False False False False\n",
      "   True False False False]\n",
      " [False False False False False False False False False False False  True\n",
      "  False False False False]\n",
      " [False False  True False False False False False False False False False\n",
      "  False False False False]\n",
      " [False False False False False False False  True False False False False\n",
      "  False False False False]\n",
      " [False False False False False False False  True False False False False\n",
      "  False False False False]\n",
      " [False False False False False False False False  True False False False\n",
      "  False False False False]\n",
      " [ True False False False False False False False False False False False\n",
      "  False False False False]\n",
      " [False False False False  True False False False False False False False\n",
      "  False False False False]\n",
      " [False False False False False False False False False  True False False\n",
      "  False False False False]\n",
      " [False False False False False  True False False False False False False\n",
      "  False False False False]\n",
      " [False  True False False False False False False False False False False\n",
      "  False False False False]\n",
      " [False  True False False False False False False False False False False\n",
      "  False False False False]\n",
      " [False False False False False False False False False False False False\n",
      "  False False False  True]]\n"
     ]
    }
   ],
   "source": [
    "print(te_ary)"
   ]
  },
  {
   "cell_type": "code",
   "execution_count": 33,
   "id": "1d111bc3-1dd2-409b-918e-bdc67cf7bef6",
   "metadata": {},
   "outputs": [
    {
     "name": "stdout",
     "output_type": "stream",
     "text": [
      "    BREAD,COFFEE,COCK  BREAD,COFFEE,SUGER  BREAD,MILK  \\\n",
      "0               False               False       False   \n",
      "1               False               False       False   \n",
      "2               False               False       False   \n",
      "3               False               False       False   \n",
      "4               False               False       False   \n",
      "5               False               False       False   \n",
      "6               False               False       False   \n",
      "7               False               False       False   \n",
      "8               False               False        True   \n",
      "9               False               False       False   \n",
      "10              False               False       False   \n",
      "11              False               False       False   \n",
      "12               True               False       False   \n",
      "13              False               False       False   \n",
      "14              False               False       False   \n",
      "15              False               False       False   \n",
      "16              False                True       False   \n",
      "17              False                True       False   \n",
      "18              False               False       False   \n",
      "\n",
      "    BREAD,MILK,BISCUIT,CORNFLAKES  BREAD,SUGER,BISCUIT  BREAD,SUGER,BOURNVITA  \\\n",
      "0                            True                False                  False   \n",
      "1                           False                False                  False   \n",
      "2                           False                False                  False   \n",
      "3                           False                False                  False   \n",
      "4                           False                False                  False   \n",
      "5                           False                False                  False   \n",
      "6                           False                False                  False   \n",
      "7                           False                False                  False   \n",
      "8                           False                False                  False   \n",
      "9                           False                False                  False   \n",
      "10                          False                False                  False   \n",
      "11                          False                False                  False   \n",
      "12                          False                False                  False   \n",
      "13                          False                 True                  False   \n",
      "14                          False                False                  False   \n",
      "15                          False                False                   True   \n",
      "16                          False                False                  False   \n",
      "17                          False                False                  False   \n",
      "18                          False                False                  False   \n",
      "\n",
      "    BREAD,TEA,BOURNVITA  COFFEE,COCK,BISCUIT,CORNFLAKES  \\\n",
      "0                 False                           False   \n",
      "1                  True                           False   \n",
      "2                 False                           False   \n",
      "3                 False                           False   \n",
      "4                  True                           False   \n",
      "5                 False                           False   \n",
      "6                 False                           False   \n",
      "7                 False                           False   \n",
      "8                 False                           False   \n",
      "9                 False                            True   \n",
      "10                False                            True   \n",
      "11                False                           False   \n",
      "12                False                           False   \n",
      "13                False                           False   \n",
      "14                False                           False   \n",
      "15                False                           False   \n",
      "16                False                           False   \n",
      "17                False                           False   \n",
      "18                False                           False   \n",
      "\n",
      "    COFFEE,SUGER,BOURNVITA  COFFEE,SUGER,CORNFLAKES  JAM,MAGGI,BREAD,MILK  \\\n",
      "0                    False                    False                 False   \n",
      "1                    False                    False                 False   \n",
      "2                    False                    False                  True   \n",
      "3                    False                    False                 False   \n",
      "4                    False                    False                 False   \n",
      "5                    False                    False                 False   \n",
      "6                    False                    False                 False   \n",
      "7                    False                    False                 False   \n",
      "8                    False                    False                 False   \n",
      "9                    False                    False                 False   \n",
      "10                   False                    False                 False   \n",
      "11                    True                    False                 False   \n",
      "12                   False                    False                 False   \n",
      "13                   False                    False                 False   \n",
      "14                   False                     True                 False   \n",
      "15                   False                    False                 False   \n",
      "16                   False                    False                 False   \n",
      "17                   False                    False                 False   \n",
      "18                   False                    False                 False   \n",
      "\n",
      "    JAM,MAGGI,BREAD,TEA  MAGGI,BREAD,TEA,BISCUIT  MAGGI,TEA,BISCUIT  \\\n",
      "0                 False                    False              False   \n",
      "1                 False                    False              False   \n",
      "2                 False                    False              False   \n",
      "3                 False                    False               True   \n",
      "4                 False                    False              False   \n",
      "5                 False                    False              False   \n",
      "6                 False                     True              False   \n",
      "7                  True                    False              False   \n",
      "8                 False                    False              False   \n",
      "9                 False                    False              False   \n",
      "10                False                    False              False   \n",
      "11                False                    False              False   \n",
      "12                False                    False              False   \n",
      "13                False                    False              False   \n",
      "14                False                    False              False   \n",
      "15                False                    False              False   \n",
      "16                False                    False              False   \n",
      "17                False                    False              False   \n",
      "18                False                    False              False   \n",
      "\n",
      "    MAGGI,TEA,CORNFLAKES  TEA,MILK,COFFEE,CORNFLAKES  \n",
      "0                  False                       False  \n",
      "1                  False                       False  \n",
      "2                  False                       False  \n",
      "3                  False                       False  \n",
      "4                  False                       False  \n",
      "5                   True                       False  \n",
      "6                  False                       False  \n",
      "7                  False                       False  \n",
      "8                  False                       False  \n",
      "9                  False                       False  \n",
      "10                 False                       False  \n",
      "11                 False                       False  \n",
      "12                 False                       False  \n",
      "13                 False                       False  \n",
      "14                 False                       False  \n",
      "15                 False                       False  \n",
      "16                 False                       False  \n",
      "17                 False                       False  \n",
      "18                 False                        True  \n"
     ]
    }
   ],
   "source": [
    "df = pd.DataFrame(te_ary, columns=te.columns_)\n",
    "print(df)"
   ]
  },
  {
   "cell_type": "code",
   "execution_count": 29,
   "id": "8e673077-6235-4960-91a7-d152441e3b4c",
   "metadata": {},
   "outputs": [
    {
     "ename": "KeyError",
     "evalue": "\"None of [Index(['BREAD', 'COFFEE', 'COCK', 'SUGER', 'MILK', 'BISCUIT', 'CORNFLAKES',\\n       'BOURNVITA', 'TEA', 'JAM', 'MAGGI'],\\n      dtype='object')] are in the [columns]\"",
     "output_type": "error",
     "traceback": [
      "\u001b[1;31m---------------------------------------------------------------------------\u001b[0m",
      "\u001b[1;31mKeyError\u001b[0m                                  Traceback (most recent call last)",
      "Cell \u001b[1;32mIn[29], line 1\u001b[0m\n\u001b[1;32m----> 1\u001b[0m df\u001b[38;5;241m=\u001b[39mdf[[\u001b[38;5;124m'\u001b[39m\u001b[38;5;124mBREAD\u001b[39m\u001b[38;5;124m'\u001b[39m,\u001b[38;5;124m'\u001b[39m\u001b[38;5;124mCOFFEE\u001b[39m\u001b[38;5;124m'\u001b[39m,\u001b[38;5;124m'\u001b[39m\u001b[38;5;124mCOCK\u001b[39m\u001b[38;5;124m'\u001b[39m,\u001b[38;5;124m'\u001b[39m\u001b[38;5;124mSUGER\u001b[39m\u001b[38;5;124m'\u001b[39m,\u001b[38;5;124m'\u001b[39m\u001b[38;5;124mMILK\u001b[39m\u001b[38;5;124m'\u001b[39m,\u001b[38;5;124m'\u001b[39m\u001b[38;5;124mBISCUIT\u001b[39m\u001b[38;5;124m'\u001b[39m,\u001b[38;5;124m'\u001b[39m\u001b[38;5;124mCORNFLAKES\u001b[39m\u001b[38;5;124m'\u001b[39m,\u001b[38;5;124m'\u001b[39m\u001b[38;5;124mBOURNVITA\u001b[39m\u001b[38;5;124m'\u001b[39m,\u001b[38;5;124m'\u001b[39m\u001b[38;5;124mTEA\u001b[39m\u001b[38;5;124m'\u001b[39m,\u001b[38;5;124m'\u001b[39m\u001b[38;5;124mJAM\u001b[39m\u001b[38;5;124m'\u001b[39m,\u001b[38;5;124m'\u001b[39m\u001b[38;5;124mMAGGI\u001b[39m\u001b[38;5;124m'\u001b[39m]]\n\u001b[0;32m      2\u001b[0m \u001b[38;5;28mprint\u001b[39m()\n",
      "File \u001b[1;32m~\\anaconda3\\Lib\\site-packages\\pandas\\core\\frame.py:3899\u001b[0m, in \u001b[0;36mDataFrame.__getitem__\u001b[1;34m(self, key)\u001b[0m\n\u001b[0;32m   3897\u001b[0m     \u001b[38;5;28;01mif\u001b[39;00m is_iterator(key):\n\u001b[0;32m   3898\u001b[0m         key \u001b[38;5;241m=\u001b[39m \u001b[38;5;28mlist\u001b[39m(key)\n\u001b[1;32m-> 3899\u001b[0m     indexer \u001b[38;5;241m=\u001b[39m \u001b[38;5;28mself\u001b[39m\u001b[38;5;241m.\u001b[39mcolumns\u001b[38;5;241m.\u001b[39m_get_indexer_strict(key, \u001b[38;5;124m\"\u001b[39m\u001b[38;5;124mcolumns\u001b[39m\u001b[38;5;124m\"\u001b[39m)[\u001b[38;5;241m1\u001b[39m]\n\u001b[0;32m   3901\u001b[0m \u001b[38;5;66;03m# take() does not accept boolean indexers\u001b[39;00m\n\u001b[0;32m   3902\u001b[0m \u001b[38;5;28;01mif\u001b[39;00m \u001b[38;5;28mgetattr\u001b[39m(indexer, \u001b[38;5;124m\"\u001b[39m\u001b[38;5;124mdtype\u001b[39m\u001b[38;5;124m\"\u001b[39m, \u001b[38;5;28;01mNone\u001b[39;00m) \u001b[38;5;241m==\u001b[39m \u001b[38;5;28mbool\u001b[39m:\n",
      "File \u001b[1;32m~\\anaconda3\\Lib\\site-packages\\pandas\\core\\indexes\\base.py:6115\u001b[0m, in \u001b[0;36mIndex._get_indexer_strict\u001b[1;34m(self, key, axis_name)\u001b[0m\n\u001b[0;32m   6112\u001b[0m \u001b[38;5;28;01melse\u001b[39;00m:\n\u001b[0;32m   6113\u001b[0m     keyarr, indexer, new_indexer \u001b[38;5;241m=\u001b[39m \u001b[38;5;28mself\u001b[39m\u001b[38;5;241m.\u001b[39m_reindex_non_unique(keyarr)\n\u001b[1;32m-> 6115\u001b[0m \u001b[38;5;28mself\u001b[39m\u001b[38;5;241m.\u001b[39m_raise_if_missing(keyarr, indexer, axis_name)\n\u001b[0;32m   6117\u001b[0m keyarr \u001b[38;5;241m=\u001b[39m \u001b[38;5;28mself\u001b[39m\u001b[38;5;241m.\u001b[39mtake(indexer)\n\u001b[0;32m   6118\u001b[0m \u001b[38;5;28;01mif\u001b[39;00m \u001b[38;5;28misinstance\u001b[39m(key, Index):\n\u001b[0;32m   6119\u001b[0m     \u001b[38;5;66;03m# GH 42790 - Preserve name from an Index\u001b[39;00m\n",
      "File \u001b[1;32m~\\anaconda3\\Lib\\site-packages\\pandas\\core\\indexes\\base.py:6176\u001b[0m, in \u001b[0;36mIndex._raise_if_missing\u001b[1;34m(self, key, indexer, axis_name)\u001b[0m\n\u001b[0;32m   6174\u001b[0m     \u001b[38;5;28;01mif\u001b[39;00m use_interval_msg:\n\u001b[0;32m   6175\u001b[0m         key \u001b[38;5;241m=\u001b[39m \u001b[38;5;28mlist\u001b[39m(key)\n\u001b[1;32m-> 6176\u001b[0m     \u001b[38;5;28;01mraise\u001b[39;00m \u001b[38;5;167;01mKeyError\u001b[39;00m(\u001b[38;5;124mf\u001b[39m\u001b[38;5;124m\"\u001b[39m\u001b[38;5;124mNone of [\u001b[39m\u001b[38;5;132;01m{\u001b[39;00mkey\u001b[38;5;132;01m}\u001b[39;00m\u001b[38;5;124m] are in the [\u001b[39m\u001b[38;5;132;01m{\u001b[39;00maxis_name\u001b[38;5;132;01m}\u001b[39;00m\u001b[38;5;124m]\u001b[39m\u001b[38;5;124m\"\u001b[39m)\n\u001b[0;32m   6178\u001b[0m not_found \u001b[38;5;241m=\u001b[39m \u001b[38;5;28mlist\u001b[39m(ensure_index(key)[missing_mask\u001b[38;5;241m.\u001b[39mnonzero()[\u001b[38;5;241m0\u001b[39m]]\u001b[38;5;241m.\u001b[39munique())\n\u001b[0;32m   6179\u001b[0m \u001b[38;5;28;01mraise\u001b[39;00m \u001b[38;5;167;01mKeyError\u001b[39;00m(\u001b[38;5;124mf\u001b[39m\u001b[38;5;124m\"\u001b[39m\u001b[38;5;132;01m{\u001b[39;00mnot_found\u001b[38;5;132;01m}\u001b[39;00m\u001b[38;5;124m not in index\u001b[39m\u001b[38;5;124m\"\u001b[39m)\n",
      "\u001b[1;31mKeyError\u001b[0m: \"None of [Index(['BREAD', 'COFFEE', 'COCK', 'SUGER', 'MILK', 'BISCUIT', 'CORNFLAKES',\\n       'BOURNVITA', 'TEA', 'JAM', 'MAGGI'],\\n      dtype='object')] are in the [columns]\""
     ]
    }
   ],
   "source": [
    "df=df[['BREAD','COFFEE','COCK','SUGER','MILK','BISCUIT','CORNFLAKES','BOURNVITA','TEA','JAM','MAGGI']]\n",
    "print()"
   ]
  },
  {
   "cell_type": "code",
   "execution_count": 35,
   "id": "56aa4e22-9f04-4915-8406-99c2ce6674f0",
   "metadata": {},
   "outputs": [
    {
     "name": "stdout",
     "output_type": "stream",
     "text": [
      "Empty DataFrame\n",
      "Columns: [support, itemsets]\n",
      "Index: []\n"
     ]
    }
   ],
   "source": [
    "freq_items = apriori(df, min_support=0.2, use_colnames=True)\n",
    "print(freq_items)"
   ]
  },
  {
   "cell_type": "code",
   "execution_count": 36,
   "id": "58daa3ba-a004-401c-bad4-9389fe5d4bc8",
   "metadata": {},
   "outputs": [
    {
     "ename": "ValueError",
     "evalue": "The input DataFrame `df` containing the frequent itemsets is empty.",
     "output_type": "error",
     "traceback": [
      "\u001b[1;31m---------------------------------------------------------------------------\u001b[0m",
      "\u001b[1;31mValueError\u001b[0m                                Traceback (most recent call last)",
      "Cell \u001b[1;32mIn[36], line 1\u001b[0m\n\u001b[1;32m----> 1\u001b[0m rules \u001b[38;5;241m=\u001b[39m association_rules(freq_items, metric\u001b[38;5;241m=\u001b[39m\u001b[38;5;124m\"\u001b[39m\u001b[38;5;124mconfidence\u001b[39m\u001b[38;5;124m\"\u001b[39m, min_threshold\u001b[38;5;241m=\u001b[39m\u001b[38;5;241m0.6\u001b[39m)\n\u001b[0;32m      2\u001b[0m rules\n",
      "File \u001b[1;32m~\\anaconda3\\Lib\\site-packages\\mlxtend\\frequent_patterns\\association_rules.py:83\u001b[0m, in \u001b[0;36massociation_rules\u001b[1;34m(df, metric, min_threshold, support_only)\u001b[0m\n\u001b[0;32m     18\u001b[0m \u001b[38;5;250m\u001b[39m\u001b[38;5;124;03m\"\"\"Generates a DataFrame of association rules including the\u001b[39;00m\n\u001b[0;32m     19\u001b[0m \u001b[38;5;124;03mmetrics 'score', 'confidence', and 'lift'\u001b[39;00m\n\u001b[0;32m     20\u001b[0m \n\u001b[1;32m   (...)\u001b[0m\n\u001b[0;32m     80\u001b[0m \n\u001b[0;32m     81\u001b[0m \u001b[38;5;124;03m\"\"\"\u001b[39;00m\n\u001b[0;32m     82\u001b[0m \u001b[38;5;28;01mif\u001b[39;00m \u001b[38;5;129;01mnot\u001b[39;00m df\u001b[38;5;241m.\u001b[39mshape[\u001b[38;5;241m0\u001b[39m]:\n\u001b[1;32m---> 83\u001b[0m     \u001b[38;5;28;01mraise\u001b[39;00m \u001b[38;5;167;01mValueError\u001b[39;00m(\n\u001b[0;32m     84\u001b[0m         \u001b[38;5;124m\"\u001b[39m\u001b[38;5;124mThe input DataFrame `df` containing \u001b[39m\u001b[38;5;124m\"\u001b[39m \u001b[38;5;124m\"\u001b[39m\u001b[38;5;124mthe frequent itemsets is empty.\u001b[39m\u001b[38;5;124m\"\u001b[39m\n\u001b[0;32m     85\u001b[0m     )\n\u001b[0;32m     87\u001b[0m \u001b[38;5;66;03m# check for mandatory columns\u001b[39;00m\n\u001b[0;32m     88\u001b[0m \u001b[38;5;28;01mif\u001b[39;00m \u001b[38;5;129;01mnot\u001b[39;00m \u001b[38;5;28mall\u001b[39m(col \u001b[38;5;129;01min\u001b[39;00m df\u001b[38;5;241m.\u001b[39mcolumns \u001b[38;5;28;01mfor\u001b[39;00m col \u001b[38;5;129;01min\u001b[39;00m [\u001b[38;5;124m\"\u001b[39m\u001b[38;5;124msupport\u001b[39m\u001b[38;5;124m\"\u001b[39m, \u001b[38;5;124m\"\u001b[39m\u001b[38;5;124mitemsets\u001b[39m\u001b[38;5;124m\"\u001b[39m]):\n",
      "\u001b[1;31mValueError\u001b[0m: The input DataFrame `df` containing the frequent itemsets is empty."
     ]
    }
   ],
   "source": [
    "rules = association_rules(freq_items, metric=\"confidence\", min_threshold=0.6)\n",
    "rules"
   ]
  },
  {
   "cell_type": "code",
   "execution_count": 37,
   "id": "0babd0a7-11ad-472f-bf7e-53d2ae21acc2",
   "metadata": {},
   "outputs": [
    {
     "ename": "NameError",
     "evalue": "name 'rules' is not defined",
     "output_type": "error",
     "traceback": [
      "\u001b[1;31m---------------------------------------------------------------------------\u001b[0m",
      "\u001b[1;31mNameError\u001b[0m                                 Traceback (most recent call last)",
      "Cell \u001b[1;32mIn[37], line 1\u001b[0m\n\u001b[1;32m----> 1\u001b[0m \u001b[38;5;28mprint\u001b[39m(\u001b[38;5;28mlen\u001b[39m(rules))\n",
      "\u001b[1;31mNameError\u001b[0m: name 'rules' is not defined"
     ]
    }
   ],
   "source": [
    "print(len(rules))"
   ]
  },
  {
   "cell_type": "code",
   "execution_count": null,
   "id": "ae6528b5-d9e0-4b90-92ac-d26366e6ead6",
   "metadata": {},
   "outputs": [],
   "source": [
    "import pickle\n",
    "print(\"[INFO] Saving model...\")\n",
    "# Save the trained model as a pickle string.\n",
    "saved_model=pickle.dump(freq_items,open('aprioriexample.pkl', 'wb'))\n",
    "# Saving model to disk"
   ]
  },
  {
   "cell_type": "code",
   "execution_count": null,
   "id": "ef2187e2-751f-47f7-b43c-f8f4d5d11f34",
   "metadata": {},
   "outputs": [],
   "source": [
    "import pickle\n",
    "print(\"[INFO] Saving model...\")\n",
    "# Save the trained model as a pickle string.\n",
    "saved_model=pickle.dump(freq_items,open('aprioriexample.pkl', 'wb'))\n",
    "# Saving model to disk\n",
    "# Load the pickled model\n",
    "model = pickle.load(open('aprioriexample.pkl','rb'))\n",
    "# Use the loaded pickled model to make predictions"
   ]
  }
 ],
 "metadata": {
  "kernelspec": {
   "display_name": "Python 3 (ipykernel)",
   "language": "python",
   "name": "python3"
  },
  "language_info": {
   "codemirror_mode": {
    "name": "ipython",
    "version": 3
   },
   "file_extension": ".py",
   "mimetype": "text/x-python",
   "name": "python",
   "nbconvert_exporter": "python",
   "pygments_lexer": "ipython3",
   "version": "3.11.7"
  }
 },
 "nbformat": 4,
 "nbformat_minor": 5
}
